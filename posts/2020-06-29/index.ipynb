{
 "cells": [
  {
   "cell_type": "raw",
   "metadata": {},
   "source": [
    "---\n",
    "title: \"Haskellの非同期処理を使った入出力の重ね合わせ\"\n",
    "author: \"lotz\"\n",
    "date: \"2020-06-29\"\n",
    "categories: []\n",
    "---"
   ]
  },
  {
   "cell_type": "markdown",
   "metadata": {},
   "source": [
    "これは[『Haskellによる並列・並行プログラミング』リモート輪講 #10](https://jclub-heyhey.connpass.com/event/180807/)の発表資料です。\n",
    "\n",
    "Haskellの非同期処理を使って並行に入出力を伴う処理を行うプログラムを書く方法について見ていきます。まず、複数のWebページを並行にダウンロードするようなタスクを考えます"
   ]
  },
  {
   "cell_type": "code",
   "execution_count": 1,
   "metadata": {},
   "outputs": [],
   "source": [
    "-- https://github.com/simonmar/parconc-examples/blob/master/geturls1.hs\n",
    "\n",
    "import Control.Concurrent\n",
    "import Data.ByteString.Char8 as B\n",
    "import System.Random\n",
    "\n",
    "getURL :: String -> IO ByteString\n",
    "getURL url = do\n",
    "  delay <- randomRIO (500000, 1500000) -- URLのコンテンツを取得する時間ということにする\n",
    "  threadDelay delay\n",
    "  pure (B.pack url)\n",
    "\n",
    "example1 :: IO ()\n",
    "example1 = do\n",
    "  m1 <- newEmptyMVar\n",
    "  m2 <- newEmptyMVar\n",
    "  \n",
    "  forkIO $ do\n",
    "    r <- getURL \"https://en.wikipedia.org/wiki/Shovel\"\n",
    "    putMVar m1 r\n",
    "\n",
    "  forkIO $ do\n",
    "    r <- getURL \"https://en.wikipedia.org/wiki/Spade\"\n",
    "    putMVar m2 r\n",
    "\n",
    "  r1 <- takeMVar m1\n",
    "  r2 <- takeMVar m2\n",
    "  print (B.length r1, B.length r2)\n",
    "\n"
   ]
  },
  {
   "cell_type": "markdown",
   "metadata": {},
   "source": [
    "- `newEmptyMVar`で結果を受け取る箱を作る\n",
    "- 非同期に取得処理を行い、結果を`MVar`に詰める\n",
    "- `MVar`に結果が入るのを待つ\n",
    "\n",
    "という共通する実装のパターンが見え隠れしているので共通化してみましょう"
   ]
  },
  {
   "cell_type": "code",
   "execution_count": 2,
   "metadata": {},
   "outputs": [],
   "source": [
    "-- https://github.com/simonmar/parconc-examples/blob/master/geturls2.hs\n",
    "\n",
    "newtype Async a = Async (MVar a)\n",
    "\n",
    "async :: IO a -> IO (Async a)\n",
    "async action = do\n",
    "  var <- newEmptyMVar\n",
    "  forkIO (action >>= putMVar var)\n",
    "  pure (Async var)\n",
    "\n",
    "wait :: Async a -> IO a\n",
    "wait (Async var) = readMVar var"
   ]
  },
  {
   "cell_type": "markdown",
   "metadata": {},
   "source": [
    "意図しないデッドロックを防ぐために `wait` では `takeMVar` ではなく `readMVar` を使っています\n",
    "\n",
    "これを使えば `example1` を以下のように書き換えることができます"
   ]
  },
  {
   "cell_type": "code",
   "execution_count": 3,
   "metadata": {},
   "outputs": [
    {
     "data": {
      "text/plain": [
       "(36,35)"
      ]
     },
     "metadata": {},
     "output_type": "display_data"
    }
   ],
   "source": [
    "-- https://github.com/simonmar/parconc-examples/blob/master/geturls2.hs\n",
    "\n",
    "example2 :: IO ()\n",
    "example2 = do\n",
    "  a1 <- async (getURL \"https://en.wikipedia.org/wiki/Shovel\")\n",
    "  a2 <- async (getURL \"https://en.wikipedia.org/wiki/Spade\")\n",
    "  r1 <- wait a1\n",
    "  r2 <- wait a2\n",
    "  print (B.length r1, B.length r2)\n",
    "\n",
    "example2"
   ]
  },
  {
   "cell_type": "markdown",
   "metadata": {},
   "source": [
    "モナディックなコンビネータを使って更に簡潔に書くことも可能です"
   ]
  },
  {
   "cell_type": "code",
   "execution_count": 4,
   "metadata": {},
   "outputs": [
    {
     "data": {
      "text/plain": [
       "[21,19,20,35,36]"
      ]
     },
     "metadata": {},
     "output_type": "display_data"
    }
   ],
   "source": [
    "-- https://github.com/simonmar/parconc-examples/blob/master/geturls3.hs\n",
    "\n",
    "sites =\n",
    "  [ \"http://www.google.com\"\n",
    "  , \"http://www.bing.com\"\n",
    "  , \"http://www.yahoo.com\"\n",
    "  , \"http://www.wikipedia.com/wiki/Spade\"\n",
    "  , \"http://www.wikipedia.com/wiki/Shovel\"\n",
    "  ]\n",
    "\n",
    "example3 :: IO ()\n",
    "example3 = do\n",
    "  as <- mapM (async . getURL) sites\n",
    "  result <- mapM wait as\n",
    "  print $ fmap B.length result\n",
    "\n",
    "example3"
   ]
  },
  {
   "cell_type": "markdown",
   "metadata": {},
   "source": [
    "## Asyncでのエラー処理\n",
    "\n",
    "`getURL` の中でエラーが起こった場合の挙動を見てみましょう"
   ]
  },
  {
   "cell_type": "code",
   "execution_count": 5,
   "metadata": {},
   "outputs": [
    {
     "ename": "",
     "evalue": "",
     "output_type": "error",
     "traceback": [
      "thread blocked indefinitely in an MVar operation"
     ]
    }
   ],
   "source": [
    "import Control.Exception\n",
    "\n",
    "getURL' :: String -> IO ByteString\n",
    "getURL' url = do\n",
    "  throwIO (ErrorCall \"oops!\")\n",
    "  pure (B.pack url)\n",
    "\n",
    "example4 :: IO ()\n",
    "example4 = do\n",
    "  as <- mapM (async . getURL') sites\n",
    "  result <- mapM wait as\n",
    "  print $ fmap B.length result\n",
    "\n",
    "example4"
   ]
  },
  {
   "cell_type": "markdown",
   "metadata": {},
   "source": [
    "`getURL'` では `async` の中で `putMVar` が実行される前に例外が投げられてしまうので `wait` における `readMVar` が永遠にスレッドをブロックしてしまいます\n",
    "\n",
    "これを安全な挙動に変えるために `Async` 周りの実装を修正してみしましょう"
   ]
  },
  {
   "cell_type": "code",
   "execution_count": 6,
   "metadata": {},
   "outputs": [],
   "source": [
    "-- https://github.com/simonmar/parconc-examples/blob/master/geturls4.hs\n",
    "\n",
    "newtype Async a = Async (MVar (Either SomeException a))\n",
    "\n",
    "async :: IO a -> IO (Async a)\n",
    "async action = do\n",
    "  var <- newEmptyMVar\n",
    "  forkIO (try action >>= putMVar var)\n",
    "  pure (Async var)\n",
    "\n",
    "waitCatch :: Async a -> IO (Either SomeException a)\n",
    "waitCatch (Async var) = readMVar var\n",
    "\n",
    "wait :: Async a -> IO a\n",
    "wait a = do\n",
    "  r <- waitCatch a\n",
    "  case r of\n",
    "    Left e  -> throwIO e\n",
    "    Right a -> pure a"
   ]
  },
  {
   "cell_type": "markdown",
   "metadata": {},
   "source": [
    "`async` と `wait` は以前のものと同じ型ですが、例外を適切に伝搬する仕組みを備えています"
   ]
  },
  {
   "cell_type": "code",
   "execution_count": 7,
   "metadata": {},
   "outputs": [
    {
     "ename": "",
     "evalue": "",
     "output_type": "error",
     "traceback": [
      "oops!"
     ]
    }
   ],
   "source": [
    "example5 :: IO ()\n",
    "example5 = do\n",
    "  as <- mapM (async . getURL') sites\n",
    "  result <- mapM wait as\n",
    "  print $ fmap B.length result\n",
    "\n",
    "example5"
   ]
  },
  {
   "cell_type": "markdown",
   "metadata": {},
   "source": [
    "最初に非同期処理が例外を投げた時点でプログラム全体が停止しているのが分かります"
   ]
  },
  {
   "cell_type": "markdown",
   "metadata": {},
   "source": [
    "## 非同期処理の合流\n",
    "ここでは並行に実行している非同期処理のどれか一つでも結果を返した時点で何らかの処理を行いたいような場合について見ていきます。\n",
    "\n",
    "以下の例は並行に複数のWebサイトをダウンロードして\n",
    "\n",
    "- 最初にダウンロードが完了したWebサイトの情報を表示する\n",
    "- 残りのダウンロードが完了するのを待つ\n",
    "\n",
    "という挙動を実装しています。"
   ]
  },
  {
   "cell_type": "code",
   "execution_count": 8,
   "metadata": {},
   "outputs": [
    {
     "data": {
      "text/plain": [
       "\"http://www.wikipedia.com/wiki/Shovel: 36\""
      ]
     },
     "metadata": {},
     "output_type": "display_data"
    }
   ],
   "source": [
    "-- https://github.com/simonmar/parconc-examples/blob/master/geturls5.hs\n",
    "\n",
    "import Control.Monad\n",
    "\n",
    "example6 :: IO ()\n",
    "example6 = do\n",
    "  m <- newEmptyMVar\n",
    "  let download url = do\n",
    "        r <- getURL url\n",
    "        putMVar m (url, r)\n",
    "\n",
    "  mapM_ (forkIO . download) sites\n",
    "  \n",
    "  (url, r) <- takeMVar m\n",
    "  print $ url ++ \": \" ++ show (B.length r)\n",
    "  replicateM_ 4 (takeMVar m)\n",
    "\n",
    "-- 実行するたびに結果が変わる\n",
    "example6"
   ]
  },
  {
   "cell_type": "markdown",
   "metadata": {},
   "source": [
    "これを明示的に `MVar` を用いずに `Async` を使って実装する事を考えましょう。\n",
    "\n",
    "以下の `waitEither` は2つの `Async` を受け取って最初に完了した値を `IO` で返す関数です。"
   ]
  },
  {
   "cell_type": "code",
   "execution_count": 9,
   "metadata": {},
   "outputs": [],
   "source": [
    "waitEither :: Async a -> Async b -> IO (Either a b)\n",
    "waitEither a b = do\n",
    "  m <- newEmptyMVar\n",
    "  forkIO $ try (fmap Left  (wait a)) >>= putMVar m\n",
    "  forkIO $ try (fmap Right (wait b)) >>= putMVar m\n",
    "  wait (Async m)"
   ]
  },
  {
   "cell_type": "markdown",
   "metadata": {},
   "source": [
    "この仕組は複数の `Async` のリストにも拡張することができます"
   ]
  },
  {
   "cell_type": "code",
   "execution_count": 10,
   "metadata": {},
   "outputs": [],
   "source": [
    "waitAny :: [Async a] -> IO a\n",
    "waitAny as = do\n",
    "  m <- newEmptyMVar\n",
    "  let forkwait a = forkIO $ try (wait a) >>= putMVar m\n",
    "  mapM_ forkwait as\n",
    "  wait (Async m)\n",
    "\n",
    "\n",
    "-- 勉強会中に逆に全てのAsyncを待つようなコンビネータが作れるか？という質問があったので実装してみた例\n",
    "waitAll :: [Async a] -> IO [a]\n",
    "waitAll = mapM wait"
   ]
  },
  {
   "cell_type": "markdown",
   "metadata": {},
   "source": [
    "以上の実装を使って `example6` は明示的に `MVar` を使わない形で書き換えることができます。"
   ]
  },
  {
   "cell_type": "code",
   "execution_count": 11,
   "metadata": {},
   "outputs": [
    {
     "data": {
      "text/plain": [
       "\"http://www.wikipedia.com/wiki/Spade: 35\""
      ]
     },
     "metadata": {},
     "output_type": "display_data"
    }
   ],
   "source": [
    "-- https://github.com/simonmar/parconc-examples/blob/master/geturls6.hs\n",
    "\n",
    "example7 :: IO ()\n",
    "example7 = do\n",
    "  let download url = do\n",
    "        r <- getURL url\n",
    "        pure (url, r)\n",
    "\n",
    "  as <- mapM (async . download) sites\n",
    "  \n",
    "  (url, r) <- waitAny as\n",
    "  \n",
    "  print $ url ++ \": \" ++ show (B.length r)\n",
    "  mapM_ wait as\n",
    "\n",
    "example7"
   ]
  },
  {
   "cell_type": "code",
   "execution_count": null,
   "metadata": {},
   "outputs": [],
   "source": []
  }
 ],
 "metadata": {
  "kernelspec": {
   "display_name": "Haskell",
   "language": "haskell",
   "name": "haskell"
  },
  "language_info": {
   "codemirror_mode": "ihaskell",
   "file_extension": ".hs",
   "mimetype": "text/x-haskell",
   "name": "haskell",
   "pygments_lexer": "Haskell",
   "version": "9.6.4"
  }
 },
 "nbformat": 4,
 "nbformat_minor": 4
}
