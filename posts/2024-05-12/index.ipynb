{
 "cells": [
  {
   "cell_type": "raw",
   "id": "9d19557a-bdc8-48fc-9698-6c0771983cde",
   "metadata": {},
   "source": [
    "---\n",
    "title: \"HaskellでQR分解を実装する\"\n",
    "author: \"lotz\"\n",
    "date: \"2024-05-12\"\n",
    "categories: []\n",
    "---"
   ]
  },
  {
   "cell_type": "markdown",
   "id": "8b7c13a9-9e45-4092-9ed4-fdc9ac6cbeb2",
   "metadata": {},
   "source": [
    "**QR分解**は与えられた$m\\times n$行列$A$を$m\\times m$のユニタリ行列（実数の場合、直交行列）$Q$と$m\\times n$の上三角行列$R$の積、すなわち$A=QR$と分解する手法です。\n",
    "数値的に安定な計算アルゴリズムが知られており、固有値の計算（[QR法](https://en.wikipedia.org/wiki/QR_algorithm)）や[カルマンフィルターの安定的な計算](https://twitter.com/lotz84_/status/1778800294207623190)にも応用されています。またこういった分解はより抽象的な対象で考えられることも多く、QR分解は[半単純リー群の岩澤分解に一般化される](https://ja.wikipedia.org/wiki/%E3%83%AA%E3%83%BC%E7%BE%A4%E3%81%AE%E5%88%86%E8%A7%A3)ことが知られています。\n",
    "\n",
    "QR分解を実現するアルゴリズムは[Wikipedia](https://ja.wikipedia.org/wiki/QR%E5%88%86%E8%A7%A3)にも詳しく載っており\n",
    "\n",
    "- グラム・シュミットの正規直交化法\n",
    "- ハウスホルダー変換\n",
    "- ギブンス回転\n",
    "\n",
    "を利用した手法などがあります。\n",
    "\n",
    "Haskellでも例えば [hmatrix](https://hackage.haskell.org/package/hmatrix) が [`qr`](https://hackage.haskell.org/package/hmatrix-0.20.2/docs/Numeric-LinearAlgebra.html#v:qr) というQR分解を行う関数を提供していたり、hmatrixを使ったギブンス回転やハウスホルダー変換によるQR分解の実装を解説した記事もあります（[お気楽 Haskell プログラミング入門 線形代数編](http://www.nct9.ne.jp/m_hiroi/func/haskell48.html)）。しかし本稿ではあえて vector-sized を使って自分で実装してみようと思い、数値的にも安定しているハウスホルダー変換を利用した**実行列のQR分解**の実装したいと思います。\n",
    "\n",
    "# 即席線形代数\n",
    "まずは [Haskellで実装する即席線形代数](https://zenn.dev/lotz/articles/6b0d8081ad2f8a) を参考に実装に必要なベクトルと行列の型と関数の定義を行います。"
   ]
  },
  {
   "cell_type": "code",
   "execution_count": 1,
   "id": "8e633304-5173-40e0-9b2f-ccab2def1c5b",
   "metadata": {},
   "outputs": [],
   "source": [
    "import GHC.TypeLits\n",
    "import Text.Printf\n",
    "\n",
    "import Data.Vector.Sized (Vector)\n",
    "import qualified Data.Vector.Sized as V\n",
    "\n",
    "type Matrix m n a = Vector m (Vector n a)\n",
    "\n",
    "-- | ベクトルのスカラー倍\n",
    "(*^) :: Num a => a -> Vector n a -> Vector n a\n",
    "(*^) a = V.map (*a)\n",
    "\n",
    "-- | ベクトルをスカラー値で割る\n",
    "(^/) :: Fractional a => Vector n a -> a -> Vector n a\n",
    "(^/) v a = recip a *^ v\n",
    "\n",
    "-- | 内積\n",
    "dot :: Num a => Vector n a -> Vector n a -> a\n",
    "dot = (V.sum .) . V.zipWith (*)\n",
    "\n",
    "-- | 外積\n",
    "outer :: Num a => Vector m a -> Vector n a -> Matrix m n a\n",
    "outer xs ys = V.map (\\x -> V.map (*x) ys) xs\n",
    "\n",
    "-- | ユークリッドノルム\n",
    "norm2V :: Floating a => Vector n a -> a\n",
    "norm2V = sqrt . V.sum . V.map (^2)\n",
    "\n",
    "-- | リストから行列を作成する\n",
    "fromList :: (KnownNat m, KnownNat n) => [[a]] -> Maybe (Matrix m n a)\n",
    "fromList = (=<<) V.fromList . mapM V.fromList\n",
    "\n",
    "-- | 行列を整形して表示する\n",
    "displayM :: PrintfArg a\n",
    "         => Int  -- 数値の表示幅\n",
    "         -> Int  -- 有効数字\n",
    "         -> Matrix n m a\n",
    "         -> IO ()\n",
    "displayM w p = putStrLn . drop 1 . V.foldl (\\x v -> x ++ '\\n' : V.foldl (++) \"\" (V.map (printf \"%*.*f\" w p) v)) \"\"\n",
    "\n",
    "-- | 単位行列\n",
    "identity :: (KnownNat n, Num a) => Matrix n n a\n",
    "identity = V.generate (\\x -> V.generate (\\y -> if x == y then 1 else 0))\n",
    "\n",
    "-- | 行列のスカラー倍\n",
    "(*!!) :: Num a => a -> Matrix m n a -> Matrix m n a\n",
    "(*!!) a = V.map (V.map (*a))\n",
    "\n",
    "-- | 行列の転置\n",
    "transpose :: KnownNat n => Matrix m n a -> Matrix n m a\n",
    "transpose = sequenceA\n",
    "\n",
    "-- | 行列積\n",
    "(!*!) :: (KnownNat r, Num a) => Matrix m n a -> Matrix n r a -> Matrix m r a\n",
    "a !*! b = fmap (flip fmap (transpose b) . dot) a"
   ]
  },
  {
   "cell_type": "markdown",
   "id": "84f2ea81-5e87-40b7-bb73-edb287281c7c",
   "metadata": {},
   "source": [
    "# ハウスホルダー変換\n",
    "[ハウスホルダー変換](https://ja.wikipedia.org/wiki/%E3%83%8F%E3%82%A6%E3%82%B9%E3%83%9B%E3%83%AB%E3%83%80%E3%83%BC%E5%A4%89%E6%8F%9B)は与えられたベクトル$x$を単位法線ベクトル$v$で表された原典を通る超平面で**鏡映変換**する変換です。変換後のベクトルは $x - 2 v \\langle v, x \\rangle$ と表すことができ、これは行列 $I - 2vv^{\\rm T}$を$x$に左から掛けて変換していると考えることもできます。このハウスホルダー変換を使えば、与えられた行列の列ベクトルを左から順番に第n成分までの部分空間に射影していくことでQR分解を得ることができます。\n",
    "\n",
    "アルゴリズムの詳しい解説は他の記事に譲るとして（例えば[Wikipedia](https://ja.wikipedia.org/wiki/QR%E5%88%86%E8%A7%A3#%E3%83%8F%E3%82%A6%E3%82%B9%E3%83%9B%E3%83%AB%E3%83%80%E3%83%BC%E5%A4%89%E6%8F%9B%E3%81%AE%E4%BD%BF%E7%94%A8)）、さっそく実装を見ていきたいと思います。以下 `householder` として実装するのは添字$i$とベクトル$x$が与えられた時に、$x$の第$i$成分以降を第$i$成分までの部分空間に射影する（すなわち残りの成分を0にする）ハウスホルダー変換を表す行列を計算する関数です。"
   ]
  },
  {
   "cell_type": "code",
   "execution_count": 2,
   "id": "fb9662a3-76d4-410d-93bf-061e0b2f44f4",
   "metadata": {},
   "outputs": [],
   "source": [
    "import Data.Maybe (fromJust)\n",
    "\n",
    "import Data.Finite (Finite)\n",
    "import qualified Data.Vector as V'\n",
    "\n",
    "-- | ハウスホルダー変換\n",
    "householder :: (KnownNat n, Ord a, Floating a) => Finite n -> Vector n a -> Matrix n n a\n",
    "householder i' x =\n",
    "  let i = fromIntegral i'\n",
    "      y = V'.drop i $ V.fromSized x\n",
    "      u = y V'.// [(0, V'.head y - y `V.withSized` norm2V)]\n",
    "      padding = (V'.++) (V'.replicate i 0)\n",
    "      u_norm = u `V.withSized` norm2V\n",
    "      v = fromJust . V.toSized . padding $ V'.map (/u_norm) u\n",
    "   in if abs u_norm < 1e-12 then identity else identity - 2 *!! outer v v"
   ]
  },
  {
   "cell_type": "markdown",
   "id": "ffe24ba0-bdb2-4470-af8d-9bfd37a0264d",
   "metadata": {},
   "source": [
    "ベクトルと行列の型にはサイズに関する情報を持たせていますが `householder` では最初からその情報を捨てて素の `Data.Vector` で変換を行っています。理由としてはハウスホルダー変換を計算するベクトルの長さ（すなわち**型**）は第一引数である `i'` の**値**に依存しており、今のHaskellの依存型だと今回の様な状況では簡潔に実装できる方法がないため型からサイズの情報を削ることにしました。\n",
    "\n",
    "実装中に単位法線ベクトル$v$を計算するために法線ベクトル$u$をそのノルムで割る処理がありますが、$u$のノルムが非常に小さい場合この処理は不安定になります。しかし$u$のノルムが非常に小さいということは$x$と変換後のベクトルがほぼ等しいという状況を表しており、このような場合には結果となる変換行列をただの単位行列にするようにしています。\n",
    "\n",
    "# QR分解\n",
    "QR分解は与えられた行列の列ベクトルを左から順番にハウスホルダー変換して上三角行列を作ることにより得ることができます。"
   ]
  },
  {
   "cell_type": "code",
   "execution_count": 3,
   "id": "5e0baf6e-6635-47ae-8b18-b08d4e1aafc3",
   "metadata": {},
   "outputs": [],
   "source": [
    "{-# LANGUAGE ScopedTypeVariables #-}\n",
    "\n",
    "import Data.Proxy\n",
    "\n",
    "import Data.Finite (finite)\n",
    "\n",
    "qr :: forall m n a. (KnownNat m, KnownNat n, Ord a, Floating a) => Matrix m n a -> (Matrix m m a, Matrix m n a)\n",
    "qr a =\n",
    "  transpose <$>\n",
    "    foldl (\\(q, r) i ->\n",
    "      let p = householder (finite i) (V.index r (finite i))\n",
    "       in (q !*! p, r !*! p)\n",
    "    ) (identity, transpose a) [0..k-1]\n",
    "  where k = fromInteger $ min (natVal (Proxy @n)) (natVal (Proxy @m))"
   ]
  },
  {
   "cell_type": "markdown",
   "id": "542b3fdb-3a3e-4c9c-a6e2-9b56e6cd0c21",
   "metadata": {},
   "source": [
    "実装上の都合で行列は行ベクトルのベクトルとなっているので、列ベクトルを扱うために最初に転置を行い$A^{\\rm T}$、得られた$R^{\\rm T}$を最後にもう一度転置することにより計算しています。$Q$については本来転置したものが計算結果になるのであえて転置をしていません。"
   ]
  },
  {
   "cell_type": "markdown",
   "id": "65739c4b-f453-4b96-bc51-96f50aefec24",
   "metadata": {},
   "source": [
    "# 数値実験\n",
    "それでは実装した `qr` によって実際に行列のQR分解ができるか実験してみましょう。\n",
    "\n",
    "まずは[Wikipediaに載っている例](https://ja.wikipedia.org/wiki/QR%E5%88%86%E8%A7%A3#%E4%BE%8B_2)を元に実験してみます。"
   ]
  },
  {
   "cell_type": "code",
   "execution_count": 4,
   "id": "29fce92e-f12b-4c34-bc87-0f3163d813c5",
   "metadata": {},
   "outputs": [
    {
     "data": {
      "text/plain": [
       "Q = \n",
       "   0.857  -0.394  -0.331\n",
       "   0.429   0.903   0.034\n",
       "  -0.286   0.171  -0.943\n",
       "R = \n",
       "  14.000  21.000 -14.000\n",
       "   0.000 175.000 -70.000\n",
       "   0.000   0.000  35.000\n",
       "QR = \n",
       "  12.000 -51.000   4.000\n",
       "   6.000 167.000 -68.000\n",
       "  -4.000  24.000 -41.000\n",
       "Q^TQ =\n",
       "   1.000   0.000   0.000\n",
       "   0.000   1.000   0.000\n",
       "   0.000   0.000   1.000"
      ]
     },
     "metadata": {},
     "output_type": "display_data"
    }
   ],
   "source": [
    "{-# LANGUAGE DataKinds #-}\n",
    "\n",
    "do\n",
    "  let x = fromJust $ fromList\n",
    "            [ [12, -51,   4]\n",
    "            , [ 6, 167, -68]\n",
    "            , [-4,  24, -41]]\n",
    "            :: Matrix 3 3 Double\n",
    "      (q, r) = qr x\n",
    "  putStrLn \"Q = \"\n",
    "  displayM 8 3 q\n",
    "  putStrLn \"R = \"\n",
    "  displayM 8 3 r\n",
    "  putStrLn \"QR = \"\n",
    "  displayM 8 3 $ q !*! r\n",
    "  putStrLn \"Q^TQ =\"\n",
    "  displayM 8 3 $ transpose q !*! q"
   ]
  },
  {
   "cell_type": "markdown",
   "id": "2ad86657-09ea-48e2-a366-6f928224013d",
   "metadata": {},
   "source": [
    "[WolframAlphaでも同様の計算を行った結果](https://www.wolframalpha.com/input?i=QR+decomposition+%7B%7B12%2C+-51%2C+4%7D%2C+%7B6%2C+167%2C+-68%7D%2C+%7B-4%2C+24%2C+-41%7D%7D)と比べてみても値が一致していることが分かります。\n",
    "\n",
    "次に非正則行列の場合を見てみましょう。先程の例の行ベクトルと列ベクトルを一つずつ0に変えたような行列を使って実験してみます。"
   ]
  },
  {
   "cell_type": "code",
   "execution_count": 5,
   "id": "b37410ca-839d-431e-9268-2074d1a49bd5",
   "metadata": {},
   "outputs": [
    {
     "data": {
      "text/plain": [
       "Q = \n",
       "  -0.000  -0.000   1.000\n",
       "   0.832   0.555   0.000\n",
       "  -0.555   0.832   0.000\n",
       "R = \n",
       "   7.211 125.640   0.000\n",
       "  -0.000 112.604   0.000\n",
       "  -0.000   0.000   0.000\n",
       "QR = \n",
       "  -0.000  -0.000   0.000\n",
       "   6.000 167.000   0.000\n",
       "  -4.000  24.000   0.000\n",
       "Q^TQ =\n",
       "   1.000   0.000  -0.000\n",
       "   0.000   1.000   0.000\n",
       "  -0.000   0.000   1.000"
      ]
     },
     "metadata": {},
     "output_type": "display_data"
    }
   ],
   "source": [
    "do\n",
    "  let x = fromJust $ fromList\n",
    "            [ [ 0,   0,   0]\n",
    "            , [ 6, 167,   0]\n",
    "            , [-4,  24,   0]]\n",
    "            :: Matrix 3 3 Double\n",
    "      (q, r) = qr x\n",
    "  putStrLn \"Q = \"\n",
    "  displayM 8 3 q\n",
    "  putStrLn \"R = \"\n",
    "  displayM 8 3 r\n",
    "  putStrLn \"QR = \"\n",
    "  displayM 8 3 $ q !*! r\n",
    "  putStrLn \"Q^TQ =\"\n",
    "  displayM 8 3 $ transpose q !*! q"
   ]
  },
  {
   "cell_type": "markdown",
   "id": "ff4a419b-512b-42fc-94ae-bc367aa8e1bb",
   "metadata": {},
   "source": [
    "問題なさそうですね。\n",
    "\n",
    "次に非正方行列の場合を見てみましょう。"
   ]
  },
  {
   "cell_type": "code",
   "execution_count": 6,
   "id": "52287087-9679-47b8-81c5-265c7249e4db",
   "metadata": {},
   "outputs": [
    {
     "data": {
      "text/plain": [
       "Q = \n",
       "   0.857  -0.394   0.331\n",
       "   0.429   0.903  -0.034\n",
       "  -0.286   0.171   0.943\n",
       "R = \n",
       "  14.000  21.000\n",
       "   0.000 175.000\n",
       "  -0.000   0.000\n",
       "QR = \n",
       "  12.000 -51.000\n",
       "   6.000 167.000\n",
       "  -4.000  24.000\n",
       "Q^TQ =\n",
       "   1.000   0.000  -0.000\n",
       "   0.000   1.000  -0.000\n",
       "  -0.000  -0.000   1.000"
      ]
     },
     "metadata": {},
     "output_type": "display_data"
    }
   ],
   "source": [
    "do\n",
    "  let x = fromJust $ fromList\n",
    "            [ [12, -51]\n",
    "            , [ 6, 167]\n",
    "            , [-4,  24]]\n",
    "            :: Matrix 3 2 Double\n",
    "      (q, r) = qr x\n",
    "  putStrLn \"Q = \"\n",
    "  displayM 8 3 q\n",
    "  putStrLn \"R = \"\n",
    "  displayM 8 3 r\n",
    "  putStrLn \"QR = \"\n",
    "  displayM 8 3 $ q !*! r\n",
    "  putStrLn \"Q^TQ =\"\n",
    "  displayM 8 3 $ transpose q !*! q"
   ]
  },
  {
   "cell_type": "code",
   "execution_count": 7,
   "id": "e172aa6b-1128-4154-a787-c244348a533b",
   "metadata": {},
   "outputs": [
    {
     "data": {
      "text/plain": [
       "Q = \n",
       "   0.894  -0.447\n",
       "   0.447   0.894\n",
       "R = \n",
       "  13.416  29.069 -26.833\n",
       "  -0.000 172.177 -62.610\n",
       "QR = \n",
       "  12.000 -51.000   4.000\n",
       "   6.000 167.000 -68.000\n",
       "Q^TQ =\n",
       "   1.000   0.000\n",
       "   0.000   1.000"
      ]
     },
     "metadata": {},
     "output_type": "display_data"
    }
   ],
   "source": [
    "do\n",
    "  let x = fromJust $ fromList\n",
    "            [ [12, -51,   4]\n",
    "            , [ 6, 167, -68]]\n",
    "            :: Matrix 2 3 Double\n",
    "      (q, r) = qr x\n",
    "  putStrLn \"Q = \"\n",
    "  displayM 8 3 q\n",
    "  putStrLn \"R = \"\n",
    "  displayM 8 3 r\n",
    "  putStrLn \"QR = \"\n",
    "  displayM 8 3 $ q !*! r\n",
    "  putStrLn \"Q^TQ =\"\n",
    "  displayM 8 3 $ transpose q !*! q"
   ]
  },
  {
   "cell_type": "markdown",
   "id": "52b30fe5-ca21-44c1-8b1b-ecb239515281",
   "metadata": {},
   "source": [
    "行より列が多い場合でも列より行が多い場合でも問題なく計算できています。"
   ]
  },
  {
   "cell_type": "code",
   "execution_count": null,
   "id": "240ef313-390d-4386-b707-f894629b24a5",
   "metadata": {},
   "outputs": [],
   "source": []
  }
 ],
 "metadata": {
  "kernelspec": {
   "display_name": "Haskell",
   "language": "haskell",
   "name": "haskell"
  },
  "language_info": {
   "codemirror_mode": "ihaskell",
   "file_extension": ".hs",
   "mimetype": "text/x-haskell",
   "name": "haskell",
   "pygments_lexer": "Haskell",
   "version": "9.4.5"
  }
 },
 "nbformat": 4,
 "nbformat_minor": 5
}
