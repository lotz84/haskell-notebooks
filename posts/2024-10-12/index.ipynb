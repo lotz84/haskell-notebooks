{
 "cells": [
  {
   "cell_type": "raw",
   "id": "d3bc6969-44b4-4c54-9bde-cdbc2bbb19f8",
   "metadata": {},
   "source": [
    "---\n",
    "title: \"行列式がフィボナッチ数列になる行列\"\n",
    "author: \"lotz\"\n",
    "date: \"2024-10-12\"\n",
    "categories: []\n",
    "---"
   ]
  },
  {
   "cell_type": "markdown",
   "id": "492428c3-47ab-4dfb-bc63-4fbef9cbf119",
   "metadata": {},
   "source": [
    "フィボナッチ数列\n",
    "\n",
    "$$\n",
    "1, 2, 3, 5, 8, 13, 21, \\dots\n",
    "$$\n",
    "\n",
    "の第n項を $F_n$ と置くと、$i$ を純虚数として $i, 1, i$ が並ぶ以下のような $n\\times n$ の三重対角行列の行列式は $F_n$ に一致します。\n",
    "\n",
    "$$\n",
    "\\left|\\begin{matrix}\n",
    "1 & i &        &        &   \\\\\n",
    "i & 1 & i      &        &   \\\\\n",
    "  & i & \\ddots & \\ddots &   \\\\\n",
    "  &   & \\ddots & \\ddots & i  \\\\\n",
    "  &   &        & i      & 1\n",
    "\\end{matrix}\\right| = F_n\n",
    "$$\n",
    "\n",
    "行列の数字が書かれていない要素は0です。まずはこの事実を計算して確かめてみましょう。\n",
    "\n",
    "## 行列式の余因子展開\n",
    "本稿では行列の実装として二重リストを使用します。"
   ]
  },
  {
   "cell_type": "code",
   "execution_count": 1,
   "id": "f033d6ff-74b2-4f4c-b01e-c7c7f49d4a8d",
   "metadata": {},
   "outputs": [],
   "source": [
    "-- 行列\n",
    "type Matrix a = [[a]]"
   ]
  },
  {
   "cell_type": "markdown",
   "id": "644098e3-a542-4459-9331-a86bd10ff8ad",
   "metadata": {},
   "source": [
    "後々必要になるので、先に行列を整形して表示する関数も用意しておきましょう。"
   ]
  },
  {
   "cell_type": "code",
   "execution_count": 2,
   "id": "bbb8a07e-db9c-4285-a811-7d82fa8e2b4b",
   "metadata": {},
   "outputs": [],
   "source": [
    "import Data.List (intercalate)\n",
    "\n",
    "-- | 行列を整形して表示する\n",
    "displayM :: Show a => Matrix a -> IO ()\n",
    "displayM = putStrLn . intercalate \"\\n\" . map (unwords . map show)"
   ]
  },
  {
   "cell_type": "markdown",
   "id": "6aa7862e-fcd5-4e0b-ac7b-5d6490deee6c",
   "metadata": {},
   "source": [
    "行列式を効率よく計算するにはLU分解を使用するのが良いですが、今回はシンプルに[行列式の余因子展開](https://ja.wikipedia.org/wiki/%E4%BD%99%E5%9B%A0%E5%AD%90%E5%B1%95%E9%96%8B)を使って再帰的に計算します。"
   ]
  },
  {
   "cell_type": "code",
   "execution_count": 3,
   "id": "0f22e6e2-92c9-4b7b-8939-a6e3de1e3665",
   "metadata": {},
   "outputs": [],
   "source": [
    "-- 行列式\n",
    "det :: Num a => Matrix a -> a\n",
    "det [[x]] = x\n",
    "det xss = foldr1 (-) (zipWith (*) col1 (map det (minors cols)))\n",
    "  where\n",
    "    col1 = map head xss\n",
    "    cols = map tail xss\n",
    "\n",
    "-- | 与えられたリストから要素を一つ除いたリストのリストを生成する\n",
    "-- | >>> minors [1,2,3,4]\n",
    "-- [[2,3,4],[1,3,4],[1,2,4],[1,2,3]]\n",
    "minors :: [a] -> [[a]]\n",
    "minors []     = []\n",
    "minors (x:xs) = xs : map (x:) (minors xs)"
   ]
  },
  {
   "cell_type": "markdown",
   "id": "644f1a71-1875-4bbc-a9de-3956ddd825f4",
   "metadata": {},
   "source": [
    "こちらの実装は[『関数プログラミング 珠玉のアルゴリズムデザイン』](https://amzn.to/4h4vele)で紹介されているものを元にしており、同書の「行列式の3つの計算法」という章では他にも面白い行列式の計算方法が解説されているので気になる人はぜひ読んでみてください。\n",
    "\n",
    "簡単な例で実際に行列式が計算できることを確かめてみましょう。"
   ]
  },
  {
   "cell_type": "code",
   "execution_count": 4,
   "id": "92f47bc3-9f34-464b-8ace-02880a48efbc",
   "metadata": {},
   "outputs": [
    {
     "data": {
      "text/plain": [
       "-2"
      ]
     },
     "metadata": {},
     "output_type": "display_data"
    }
   ],
   "source": [
    "det [[1, 2], [3, 4]]"
   ]
  },
  {
   "cell_type": "markdown",
   "id": "01b82920-e534-4b11-9c7b-f7381e1ec88e",
   "metadata": {},
   "source": [
    "$1\\times 4 - 2\\times 3 = -2$ なので正解ですね。\n",
    "\n",
    "次に行列式がフィボナッチ数列となる行列を生成する関数を実装しましょう。\n",
    "\n",
    "まずは複素数を用意します。"
   ]
  },
  {
   "cell_type": "code",
   "execution_count": 5,
   "id": "e957565b-6a9a-449f-bba9-f3a60ed86e24",
   "metadata": {},
   "outputs": [],
   "source": [
    "import Data.Complex\n",
    "\n",
    "-- | 複素数\n",
    "type C = Complex Float\n",
    "\n",
    "-- | 純虚数\n",
    "i :: C \n",
    "i = 0.0 :+ 1.0"
   ]
  },
  {
   "cell_type": "markdown",
   "id": "2fb57b98-84de-4d5e-9f5b-063f82704238",
   "metadata": {},
   "source": [
    "$i, 1, i$ が並ぶような $n\\times n$ の三重対角行列を生成する関数 `fibM` を実装します。"
   ]
  },
  {
   "cell_type": "code",
   "execution_count": 6,
   "id": "d86587d1-fa4d-4b3b-beeb-9edae5a75277",
   "metadata": {},
   "outputs": [],
   "source": [
    "-- 行列式がフィボナッチ数列となるn次行列\n",
    "fibM :: Int -> Matrix C\n",
    "fibM 1 = [[1.0]]\n",
    "fibM n =\n",
    "  let fibM' = fibM (n-1)\n",
    "   in (1.0 : i : replicate (n-2) 0) : (i : head fibM') : map (0:) (tail fibM')"
   ]
  },
  {
   "cell_type": "markdown",
   "id": "613bf678-ea7c-4129-8b54-70dbe53cdad2",
   "metadata": {},
   "source": [
    "実際に想定通りの行列が生成されているか確認してみましょう"
   ]
  },
  {
   "cell_type": "code",
   "execution_count": 7,
   "id": "a9537e6a-b0a0-484a-81df-f1e17aee3c84",
   "metadata": {},
   "outputs": [
    {
     "data": {
      "text/plain": [
       "1.0 :+ 0.0 0.0 :+ 1.0\n",
       "0.0 :+ 1.0 1.0 :+ 0.0"
      ]
     },
     "metadata": {},
     "output_type": "display_data"
    }
   ],
   "source": [
    "displayM (fibM 2)"
   ]
  },
  {
   "cell_type": "code",
   "execution_count": 8,
   "id": "20528e7c-c7ba-4ff4-8212-96b9515f9e78",
   "metadata": {},
   "outputs": [
    {
     "data": {
      "text/plain": [
       "1.0 :+ 0.0 0.0 :+ 1.0 0.0 :+ 0.0\n",
       "0.0 :+ 1.0 1.0 :+ 0.0 0.0 :+ 1.0\n",
       "0.0 :+ 0.0 0.0 :+ 1.0 1.0 :+ 0.0"
      ]
     },
     "metadata": {},
     "output_type": "display_data"
    }
   ],
   "source": [
    "displayM (fibM 3)"
   ]
  },
  {
   "cell_type": "code",
   "execution_count": 9,
   "id": "a02741bc-fd9c-48f9-bc38-f7ac8947b78d",
   "metadata": {},
   "outputs": [
    {
     "data": {
      "text/plain": [
       "1.0 :+ 0.0 0.0 :+ 1.0 0.0 :+ 0.0 0.0 :+ 0.0\n",
       "0.0 :+ 1.0 1.0 :+ 0.0 0.0 :+ 1.0 0.0 :+ 0.0\n",
       "0.0 :+ 0.0 0.0 :+ 1.0 1.0 :+ 0.0 0.0 :+ 1.0\n",
       "0.0 :+ 0.0 0.0 :+ 0.0 0.0 :+ 1.0 1.0 :+ 0.0"
      ]
     },
     "metadata": {},
     "output_type": "display_data"
    }
   ],
   "source": [
    "displayM (fibM 4)"
   ]
  },
  {
   "cell_type": "markdown",
   "id": "954382fd-704e-4eec-bcff-52971ff70dc2",
   "metadata": {},
   "source": [
    "少し目がチカチカしますがうまく行ってますね！\n",
    "\n",
    "それではこれらの行列の行列式を計算してみましょう。"
   ]
  },
  {
   "cell_type": "code",
   "execution_count": 10,
   "id": "2a9845c5-23bc-46e8-9161-e0a3217a8144",
   "metadata": {},
   "outputs": [
    {
     "data": {
      "text/plain": [
       "1.0 :+ 0.0\n",
       "2.0 :+ 0.0\n",
       "3.0 :+ 0.0\n",
       "5.0 :+ 0.0\n",
       "8.0 :+ 0.0\n",
       "13.0 :+ 0.0\n",
       "21.0 :+ 0.0\n",
       "34.0 :+ 0.0\n",
       "55.0 :+ 0.0\n",
       "89.0 :+ 0.0"
      ]
     },
     "metadata": {},
     "output_type": "display_data"
    }
   ],
   "source": [
    "mapM_ (print . det . fibM) [1..10]"
   ]
  },
  {
   "cell_type": "markdown",
   "id": "75ea3877-5977-4019-b0a6-3fce30778efe",
   "metadata": {},
   "source": [
    "実際にフィボナッチ数列が得られることが確認できました！\n",
    "\n",
    "## 証明"
   ]
  },
  {
   "cell_type": "markdown",
   "id": "5ee4596c-7c43-4e07-9bee-75ff9f0f8e39",
   "metadata": {},
   "source": [
    "なぜこのような行列の行列式でフィボナッチ数列が現れるのでしょうか？いくつか具体的に計算して考えてみましょう。\n",
    "\n",
    "まず2次の行列の場合\n",
    "\n",
    "$$\n",
    "\\left|\\begin{matrix}\n",
    "1 & i\\\\\n",
    "i & 1\\\\\n",
    "\\end{matrix}\\right|\n",
    "$$\n",
    "\n",
    "行列式は $1\\times 1 - i\\times i = 2$ で確かに$F_2$になります。\n",
    "\n",
    "次に3次の行列の場合\n",
    "\n",
    "$$\n",
    "\\left|\\begin{matrix}\n",
    "1 & i & 0\\\\\n",
    "i & 1 & i\\\\\n",
    "0 & i & 1\\\\\n",
    "\\end{matrix}\\right|\n",
    "$$\n",
    "\n",
    "1行目を使って行列式の余因子展開を考えると、行列式は\n",
    "\n",
    "$$\n",
    "1\\times\\left|\\begin{matrix}\n",
    "1 & i\\\\\n",
    "i & 1\\\\\n",
    "\\end{matrix}\\right|\n",
    "-i\\times\\left|\\begin{matrix}\n",
    "i & i\\\\\n",
    "0 & 1\\\\\n",
    "\\end{matrix}\\right|\n",
    "= 1\\times F_2 - i\\times i = 3\n",
    "$$\n",
    "\n",
    "で確かに$F_3$となります。\n",
    "\n",
    "そして4次の行列の場合\n",
    "\n",
    "$$\n",
    "\\left|\\begin{matrix}\n",
    "1 & i & 0 & 0\\\\\n",
    "i & 1 & i & 0\\\\\n",
    "0 & i & 1 & i\\\\\n",
    "0 & 0 & i & 1\\\\\n",
    "\\end{matrix}\\right|\n",
    "$$\n",
    "\n",
    "1行目を使って行列式の余因子展開を考えると、行列式は\n",
    "\n",
    "$$\n",
    "1\\times\\left|\\begin{matrix}\n",
    "1 & i & 0\\\\\n",
    "i & 1 & i\\\\\n",
    "0 & i & 1\\\\\n",
    "\\end{matrix}\\right|\n",
    "-i\\left|\\begin{matrix}\n",
    "i & i & 0\\\\\n",
    "0 & 1 & i\\\\\n",
    "0 & i & 1\\\\\n",
    "\\end{matrix}\\right|\n",
    "=1\\times F_3 - i \\left(\n",
    "i\\times\\left|\\begin{matrix}\n",
    "1 & i\\\\\n",
    "i & 1\\\\\n",
    "\\end{matrix}\\right|\n",
    "-i\\times\\left|\\begin{matrix}\n",
    "0 & i\\\\\n",
    "0 & 1\\\\\n",
    "\\end{matrix}\\right|\n",
    "\\right)\n",
    "=F_3-i\\times i\\times F_2\n",
    "=F_3+F_2\n",
    "=F_4\n",
    "$$\n",
    "\n",
    "でフィボナッチ数列の定義より確かに$F_4$に一致します。\n",
    "\n",
    "ここまで確認すれば行列式がフィボナッチ数列とどのように対応しているかは明白ですね！\n",
    "\n",
    "実は三重対角行列の行列式は一般的に\n",
    "\n",
    "$$\n",
    "f_n = \\left|\\begin{matrix}\n",
    "a_1 & b_1 &        &         & \\\\\n",
    "c_1 & a_2 & b_2    &         & \\\\\n",
    "    & c_2 & \\ddots & \\ddots  & \\\\\n",
    "    &     & \\ddots & \\ddots  & b_{n-1} \\\\\n",
    "    &     &        & c_{n-1} & a_n \\\\\n",
    "\\end{matrix}\\right|\n",
    "$$\n",
    "\n",
    "と置くと\n",
    "\n",
    "$$\n",
    "f_n = a_nf_{n-1} - c_{n-1}b_{n-1}f_{n-2}\n",
    "$$\n",
    "\n",
    "という漸化式で計算できることが知られています（[参考](https://en.wikipedia.org/wiki/Tridiagonal_matrix#Determinant)）。フィボナッチ数列を生成する行列はこの漸化式がうまくフィボナッチ数列の漸化式になるように調整されていたんですね。\n",
    "\n",
    "仕組みが分かれば純虚数$i$を使わなくても、例えば以下の様な行列の行列式でフィボナッチ数列が計算できることが分かります。\n",
    "\n",
    "$$\n",
    "\\left|\\begin{matrix}\n",
    "1 & -1 &        &        &   \\\\\n",
    "1 & 1  & -1     &        &   \\\\\n",
    "  & 1  & \\ddots & \\ddots &   \\\\\n",
    "  &    & \\ddots & \\ddots & -1  \\\\\n",
    "  &    &        & 1      & 1\n",
    "\\end{matrix}\\right|\n",
    "$$\n",
    "\n",
    "最後のこの行列式がフィボナッチ数列と一致することを確認してみましょう。"
   ]
  },
  {
   "cell_type": "code",
   "execution_count": 11,
   "id": "8f5e87ac-1e9b-42c4-97ce-f4d3a19a6463",
   "metadata": {},
   "outputs": [],
   "source": [
    "fibM2 :: Int -> Matrix Int\n",
    "fibM2 1 = [[1]]\n",
    "fibM2 n =\n",
    "  let fibM2' = fibM2 (n-1)\n",
    "   in (1 : -1 : replicate (n-2) 0) : (1 : head fibM2') : map (0:) (tail fibM2')"
   ]
  },
  {
   "cell_type": "code",
   "execution_count": 12,
   "id": "3df1f776-ea0a-4dcc-86e1-6481a044d732",
   "metadata": {},
   "outputs": [
    {
     "data": {
      "text/plain": [
       "1 -1\n",
       "1 1"
      ]
     },
     "metadata": {},
     "output_type": "display_data"
    }
   ],
   "source": [
    "displayM (fibM2 2)"
   ]
  },
  {
   "cell_type": "code",
   "execution_count": 13,
   "id": "60436a97-3033-4bde-8c26-7885168425fa",
   "metadata": {},
   "outputs": [
    {
     "data": {
      "text/plain": [
       "1 -1 0\n",
       "1 1 -1\n",
       "0 1 1"
      ]
     },
     "metadata": {},
     "output_type": "display_data"
    }
   ],
   "source": [
    "displayM (fibM2 3)"
   ]
  },
  {
   "cell_type": "code",
   "execution_count": 14,
   "id": "4280a097-705f-4642-835b-2f7a23576b0a",
   "metadata": {},
   "outputs": [
    {
     "data": {
      "text/plain": [
       "1 -1 0 0\n",
       "1 1 -1 0\n",
       "0 1 1 -1\n",
       "0 0 1 1"
      ]
     },
     "metadata": {},
     "output_type": "display_data"
    }
   ],
   "source": [
    "displayM (fibM2 4)"
   ]
  },
  {
   "cell_type": "markdown",
   "id": "6fd7715e-1ebd-4dfe-9303-4d171e7d0198",
   "metadata": {},
   "source": [
    "行列式を計算すると"
   ]
  },
  {
   "cell_type": "code",
   "execution_count": 15,
   "id": "1de1e93f-4a2d-48ef-9c67-94b12729155f",
   "metadata": {},
   "outputs": [
    {
     "data": {
      "text/plain": [
       "1\n",
       "2\n",
       "3\n",
       "5\n",
       "8\n",
       "13\n",
       "21\n",
       "34\n",
       "55\n",
       "89"
      ]
     },
     "metadata": {},
     "output_type": "display_data"
    }
   ],
   "source": [
    "mapM_ (print . det . fibM2) [1..10]"
   ]
  },
  {
   "cell_type": "markdown",
   "id": "a03843fb-18a4-4736-9c04-b4b6408f7506",
   "metadata": {},
   "source": [
    "フィボナッチ数列に一致することが確認できました👏"
   ]
  }
 ],
 "metadata": {
  "kernelspec": {
   "display_name": "Haskell",
   "language": "haskell",
   "name": "haskell"
  },
  "language_info": {
   "codemirror_mode": "ihaskell",
   "file_extension": ".hs",
   "mimetype": "text/x-haskell",
   "name": "haskell",
   "pygments_lexer": "Haskell",
   "version": "9.4.5"
  }
 },
 "nbformat": 4,
 "nbformat_minor": 5
}
