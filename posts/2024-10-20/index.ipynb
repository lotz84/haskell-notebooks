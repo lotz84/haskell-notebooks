{
 "cells": [
  {
   "cell_type": "raw",
   "id": "47dac388-2aef-41d9-9566-2130f89da7e3",
   "metadata": {},
   "source": [
    "---\n",
    "title: \"微分可能な比較演算子でライフゲームを逆算する\"\n",
    "author: \"lotz\"\n",
    "date: \"2024-10-20\"\n",
    "categories: []\n",
    "---"
   ]
  },
  {
   "cell_type": "markdown",
   "id": "b4a1f2ee-1a1c-445e-bca3-b6bc87fc2a3c",
   "metadata": {},
   "source": [
    "[\"Conway's Gradient of Life\"](https://hardmath123.github.io/conways-gradient.html) という記事に、ライフゲームを逆算する手法について書かれており、面白かったので私も自分で試してみることにしました。ライフゲームは、セル・オートマトンと呼ばれる2次元のグリッド上で動作するシミュレーションで、各セルは隣接するセルの状態に応じて次のステップでの生死の状態が決定します。ライフゲームを「逆算する」とは、ある特定のパターンに至る前の状態を推定することを意味します。つまり、1ステップ進めるとある形に収束する状態を、その形から逆に探し出す課題です。\n",
    "\n",
    "今回は、ライフゲームのルールに基づいて1ステップ進めた時に、私のアイコンが現れるような初期状態を求めてみたいと思います。このテーマは以前、[Kaggleのコンペ](https://www.kaggle.com/c/conways-reverse-game-of-life-2020)でも扱われていたことがあったり、調べてみるといくつかのアプローチが存在します。例えば、[焼きなまし法を用いたもの](https://proc-cpuinfo.fixstars.com/2021/03/kaggle-conways-reverse-game-of-life-2020/)、[SMTソルバーを駆使したもの](https://www.youtube.com/watch?v=g8pjrVbdafY)、さらに[状態にベルヌーイ分布を仮定した確率モデルをMCMCで推定する方法](https://www2.stat.duke.edu/~sayan/561/2020/projects/writeup/Li,%20Dennis(dkl12@duke.edu)/Submission%20attachment(s)/solution.pdf)などがありました。\n",
    "\n",
    "本稿では、基本的には元の記事と同じアプローチを取り、ライフゲームの時間発展に使用されているルールを微分可能な形式に緩和し、これを勾配降下法による最適化問題として解くことにします。\n",
    "\n",
    "## ライフゲームの実装\n",
    "ライフゲームのようなセル・オートマトンはコモナドを使って実装することができます。この話は以前[『コモナドを使った抽象化の威力をライフゲームで試してみた』](https://qiita.com/lotz/items/fbc4788b8ea8313cbf76)という記事に書きました。本稿でもその実装を使用するので詳しい仕組みの解説は記事に譲るとします。ただ記事の実装は無限に広がった盤面を仮定していたので、今回は有界で端が存在する盤面を扱うために以下の実装では適切な修正を加えています。\n",
    "\n",
    "まずは盤面の基礎となるリストのZipperとその関数の実装です。"
   ]
  },
  {
   "cell_type": "code",
   "execution_count": 1,
   "id": "07f9a3e2-44d2-41b7-8b5e-f194ea611e31",
   "metadata": {},
   "outputs": [],
   "source": [
    "import Control.Comonad\n",
    "import Data.List (unfoldr)\n",
    "\n",
    "-- | List Zipper\n",
    "data Z a = Z [a] a [a]\n",
    "           deriving (Show, Functor, Foldable, Traversable)\n",
    "\n",
    "instance Comonad Z where\n",
    "  extract (Z _ a _) = a\n",
    "  duplicate z = Z (iterate1 left z) z (iterate1 right z)\n",
    "  extend f z = Z (f <$> iterate1 left z) (f z) (f <$> iterate1 right z)\n",
    "\n",
    "-- | 注目している要素をひとつ左にずらす\n",
    "left :: Z a -> Maybe (Z a)\n",
    "left (Z [] _ _) = Nothing\n",
    "left (Z (l:ls) c rs) = Just (Z ls l (c:rs))\n",
    "\n",
    "-- | 注目している要素をひとつ右にずらす\n",
    "right :: Z a -> Maybe (Z a)\n",
    "right (Z _ _ []) = Nothing\n",
    "right (Z ls c (r:rs)) = Just (Z (c:ls) r rs)\n",
    "\n",
    "-- | 値を複製する\n",
    "dup :: a -> (a, a)\n",
    "dup x = (x, x)\n",
    "\n",
    "-- | 関数を返り値がNothingになるまで繰り返し適用したリストを作成する関数\n",
    "iterate1 :: (a -> Maybe a) -> a -> [a]\n",
    "iterate1 f = unfoldr (fmap dup . f)\n",
    "\n",
    "-- | リストから Z a に変換する\n",
    "toZ :: [a] -> Z a\n",
    "toZ [] = error \"toZ can't take an empty list.\"\n",
    "toZ (x:xs) = Z [] x xs\n",
    "\n",
    "-- | Z a からリストに変換する\n",
    "unZ :: Z a -> [a]\n",
    "unZ (Z ls c rs) = ls ++ [c] ++ rs\n",
    "\n",
    "-- | zip の Z a 版\n",
    "zipZ :: Z a -> Z b -> Z (a, b)\n",
    "zipZ (Z ls1 c1 rs1) (Z ls2 c2 rs2) = Z (zip ls1 ls2) (c1, c2) (zip rs1 rs2)\n",
    "\n",
    "-- | zipWith の Z a 版\n",
    "zipZWith :: (a -> b -> c) -> Z a -> Z b -> Z c\n",
    "zipZWith f za zb = uncurry f <$> zipZ za zb"
   ]
  },
  {
   "cell_type": "markdown",
   "id": "a1f476d4-ae29-44cb-a8b6-0d380e5e81f0",
   "metadata": {},
   "source": [
    "次に盤面の型となる `Z2 a` とその関数を実装します。"
   ]
  },
  {
   "cell_type": "code",
   "execution_count": 2,
   "id": "1cc3beb1-3a15-4744-b964-fd033ce2effa",
   "metadata": {},
   "outputs": [],
   "source": [
    "--   ライフゲームの盤面を表す型\n",
    "newtype Z2 a = Z2 (Z (Z a))\n",
    "           deriving (Show, Functor, Foldable, Traversable)\n",
    "\n",
    "instance Comonad Z2 where\n",
    "  extract (Z2 zz) = extract (extract zz)\n",
    "  duplicate (Z2 zz) = fmap Z2 . Z2 . roll $ roll zz\n",
    "    where\n",
    "      roll zz = Z (iterate1 (mapM left) zz) zz (iterate1 (mapM right) zz)\n",
    "\n",
    "-- | リストから Z2 a に変換する\n",
    "toZ2 :: [[a]] -> Z2 a\n",
    "toZ2 [] = error \"toZ2 can't take an empty list.\"\n",
    "toZ2 (x:xs) = Z2 (Z [] (toZ x) (map toZ xs))\n",
    "\n",
    "-- | Z2 a からリストに変換する\n",
    "unZ2 :: Z2 a -> [[a]]\n",
    "unZ2 (Z2 (Z lzs cz rzs)) = map unZ lzs ++ [unZ cz] ++ map unZ rzs\n",
    "\n",
    "-- | zipWith の Z2 a 版\n",
    "zipZ2With :: (a -> b -> c) -> Z2 a -> Z2 b -> Z2 c\n",
    "zipZ2With f (Z2 (Z lzs1 cz1 rzs1)) (Z2 (Z lzs2 cz2 rzs2)) =\n",
    "  Z2 (Z (zipWith (zipZWith f) lzs1 lzs2)\n",
    "        (zipZWith f cz1 cz2)\n",
    "        (zipWith (zipZWith f) rzs1 rzs2))"
   ]
  },
  {
   "cell_type": "markdown",
   "id": "af1dc542-c2ad-4275-87f9-28441772cd5f",
   "metadata": {},
   "source": [
    "`Z a` と `Z2 a` は後に自動微分で使いたいので `Traversable` のインスタンスまで導出しています。\n",
    "\n",
    "最後にライフゲームの状態発展を計算する関数を実装しましょう"
   ]
  },
  {
   "cell_type": "code",
   "execution_count": 3,
   "id": "efc886a5-89b0-497f-a6c3-b634d36ba61e",
   "metadata": {},
   "outputs": [],
   "source": [
    "--   空リストに対する操作を安全にする関数\n",
    "safe :: ([a] -> a) -> [a] -> Maybe a\n",
    "safe f [] = Nothing\n",
    "safe f xs = Just $ f xs\n",
    "\n",
    "-- | 近傍の1列で生きているセルをカウントする関数\n",
    "countNeighbour :: Bool  -- Trueなら中心もカウントする\n",
    "               -> Z Bool\n",
    "               -> Int\n",
    "countNeighbour self (Z ls c rs) = length $ filter id [\n",
    "  Just True == safe head ls,\n",
    "  self && c,\n",
    "  Just True == safe head rs\n",
    "  ]\n",
    "\n",
    "-- | 近傍で生きているセルをカウントする関数\n",
    "countNeighbours :: Z2 Bool -> Int\n",
    "countNeighbours (Z2 (Z lzs cz rzs)) = sum [\n",
    "  maybe 0 (countNeighbour True) (safe head lzs),\n",
    "  countNeighbour False cz,\n",
    "  maybe 0 (countNeighbour True) (safe head rzs)\n",
    "  ]\n",
    "\n",
    "-- | 1セルにおけるライフゲームの状態発展\n",
    "life :: Z2 Bool -> Bool\n",
    "life z = (a && (n == 2 || n == 3)) || (not a && n == 3) where\n",
    "  a = extract z\n",
    "  n = countNeighbours z"
   ]
  },
  {
   "cell_type": "markdown",
   "id": "76d07484-f6b8-437e-b91e-21ff2cea5520",
   "metadata": {},
   "source": [
    "コモナドのメソッド `extend` と1セルにおける状態発展の関数 `life` を使って、盤面全体の状態発展の関数は `extend life` と実装することができます。\n",
    "\n",
    "実装したライフゲームを使って試しに[ブリンカー](https://ja.wikipedia.org/wiki/%E3%83%96%E3%83%AA%E3%83%B3%E3%82%AB%E3%83%BC_(%E3%83%A9%E3%82%A4%E3%83%95%E3%82%B2%E3%83%BC%E3%83%A0))を動かしてみましょう。"
   ]
  },
  {
   "cell_type": "code",
   "execution_count": 4,
   "id": "214501b5-6aa7-411a-b9f8-6616f0093657",
   "metadata": {},
   "outputs": [
    {
     "data": {
      "text/plain": [
       "Z2 (Z [] (Z [] False [False,False]) [Z [] True [True,True],Z [] False [False,False]])"
      ]
     },
     "metadata": {},
     "output_type": "display_data"
    }
   ],
   "source": [
    "blinker :: Z2 Bool\n",
    "blinker = toZ2 [[False, True, False], [False, True, False], [False, True, False]]\n",
    "\n",
    "extend life blinker"
   ]
  },
  {
   "cell_type": "code",
   "execution_count": 5,
   "id": "27af047f-5220-4d52-ad26-93a08636347f",
   "metadata": {},
   "outputs": [
    {
     "data": {
      "text/plain": [
       "Z2 (Z [] (Z [] False [True,False]) [Z [] False [True,False],Z [] False [True,False]])"
      ]
     },
     "metadata": {},
     "output_type": "display_data"
    }
   ],
   "source": [
    "extend life $ extend life blinker"
   ]
  },
  {
   "cell_type": "markdown",
   "id": "e6d28378-1adf-4e0f-9dc4-646b37a8953d",
   "metadata": {},
   "source": [
    "ブリンカーのパタパタする様子が心の目で見えましたでしょうか。"
   ]
  },
  {
   "cell_type": "markdown",
   "id": "abee7d79-73b9-4900-b7ac-ed69febc1199",
   "metadata": {},
   "source": [
    "`Z2 a` を標準の出力で確認するには限界があるので画像として扱えるようにしておきましょう。"
   ]
  },
  {
   "cell_type": "code",
   "execution_count": 6,
   "id": "3eecfd49-b1f3-4bac-ac95-ab515d637e1f",
   "metadata": {},
   "outputs": [],
   "source": [
    "import Codec.Picture\n",
    "\n",
    "-- 二重リストを画像に変換する関数\n",
    "stateToImage :: Z2 Bool -> Image Pixel8\n",
    "stateToImage z2 = generateImage pixelRenderer width height\n",
    "  where\n",
    "    lst = unZ2 z2\n",
    "    width = length (head lst)\n",
    "    height = length lst\n",
    "    pixelRenderer x y = pixelValue ((lst !! y) !! x)\n",
    "    pixelValue x = if x then 0 else 255"
   ]
  },
  {
   "cell_type": "code",
   "execution_count": 7,
   "id": "922cf3be-d037-4f19-b5dd-92296d7fb951",
   "metadata": {},
   "outputs": [
    {
     "data": {
      "image/png": "[encoded data removed]"
     },
     "metadata": {},
     "output_type": "display_data"
    }
   ],
   "source": [
    "stateToImage blinker"
   ]
  },
  {
   "cell_type": "code",
   "execution_count": 8,
   "id": "84dab130-e5d6-409f-ac50-8f0241abb4a2",
   "metadata": {},
   "outputs": [
    {
     "data": {
      "image/png": "[encoded data removed]"
     },
     "metadata": {},
     "output_type": "display_data"
    }
   ],
   "source": [
    "stateToImage $ extend life blinker"
   ]
  },
  {
   "cell_type": "markdown",
   "id": "ac04eb1d-f1b0-4667-8ba6-adb47efba701",
   "metadata": {},
   "source": [
    "状態を1ピクセルにしたのでかなり小さいですが拡大して見て頂ければうまく動いてることがわかると思います。\n",
    "\n",
    "## 画像の読み込み\n",
    "ここからは今回ライフゲームで逆算するもととなる画像データを読み込んでいきます。画像データは \"image.txt\" というファイルに以下のような形式で用意しています。"
   ]
  },
  {
   "cell_type": "code",
   "execution_count": 9,
   "id": "c3da9ea9-4f8e-41c7-8e51-d4e5814a3bd5",
   "metadata": {},
   "outputs": [
    {
     "data": {
      "text/plain": [
       "\"w699b11w183b20w177b26w172b31w167b35w163b39w160b45w153b50w148b53w146b55w144b57w142b58w141b64w135b66w2\""
      ]
     },
     "metadata": {},
     "output_type": "display_data"
    }
   ],
   "source": [
    "take 100 <$> readFile \"image.txt\""
   ]
  },
  {
   "cell_type": "markdown",
   "id": "aca59021-1b06-4c62-9a03-fe599c13b70c",
   "metadata": {},
   "source": [
    "これは200×200の0と1（白と黒）のビット列を一列にし白（w）が連続して何個並ぶかと黒（b）が連続して何個並ぶかという形式で圧縮したテキストファイルです。要するに画像を[ランレングス圧縮](https://ja.wikipedia.org/wiki/%E9%80%A3%E9%95%B7%E5%9C%A7%E7%B8%AE)したものです。今回の画像では生のテキストだと40KB, png画像形式で4KB, ランレングス圧縮だと3KBになり相性が良かったので採用しています。まずはこの圧縮された形式をデコードして画像ファイルに戻してあげましょう。"
   ]
  },
  {
   "cell_type": "code",
   "execution_count": 10,
   "id": "f51c7289-a253-4385-89ea-1feb3393d875",
   "metadata": {},
   "outputs": [],
   "source": [
    "import Data.Char (isDigit)\n",
    "\n",
    "-- | ランレングス圧縮された文字列をデコードする関数\n",
    "decodeRLE :: String -> String\n",
    "decodeRLE [] = []\n",
    "decodeRLE (x:xs) =\n",
    "  let (n, rest) = span isDigit xs\n",
    "   in replicate (read n) x ++ decodeRLE rest\n",
    "\n",
    "-- | 与えられたリストをN個ずつのチャンクに分ける関数\n",
    "chunksOf :: Int -> [a] -> [[a]]\n",
    "chunksOf _ [] = []\n",
    "chunksOf n xs = take n xs : chunksOf n (drop n xs)\n",
    "\n",
    "-- | 画像ファイルを読み込む\n",
    "targetState <- (toZ2 . chunksOf 200 . map (=='b') . decodeRLE) <$> readFile \"image.txt\""
   ]
  },
  {
   "cell_type": "markdown",
   "id": "9e1c15d7-c9f4-4937-95c1-cdb7b0a1de43",
   "metadata": {},
   "source": [
    "これで `targetState` に画像がライフゲームの状態として束縛されています。実際に見てみましょう。"
   ]
  },
  {
   "cell_type": "code",
   "execution_count": 11,
   "id": "dc5949fc-4fad-4189-9f8e-90b852c407d1",
   "metadata": {},
   "outputs": [
    {
     "data": {
      "image/png": "[encoded data removed]"
     },
     "metadata": {},
     "output_type": "display_data"
    }
   ],
   "source": [
    "stateToImage targetState"
   ]
  },
  {
   "cell_type": "markdown",
   "id": "deecbc22-5bad-4ce0-bb93-e78ecf8d3f54",
   "metadata": {},
   "source": [
    "うまく行っていますね。これはライフゲームの状態でもあるので1ステップ発展させてみましょう。"
   ]
  },
  {
   "cell_type": "code",
   "execution_count": 12,
   "id": "74b649ff-7ad6-4e74-b2dd-52ad9378b3c0",
   "metadata": {},
   "outputs": [
    {
     "data": {
      "image/png": "[encoded data removed]"
     },
     "metadata": {},
     "output_type": "display_data"
    }
   ],
   "source": [
    "stateToImage $ extend life targetState"
   ]
  },
  {
   "cell_type": "markdown",
   "id": "8b67c1b0-53f9-4cca-b415-ab489c4824e3",
   "metadata": {},
   "source": [
    "黒が多い部分は過密状態なのでセルが死んでしまっているのが分かりますね。\n",
    "\n",
    "もう1,2ステップ時間発展させてみましょう。"
   ]
  },
  {
   "cell_type": "code",
   "execution_count": 13,
   "id": "c7dfea45-9a44-44f4-bae5-9a91f1ebc7a7",
   "metadata": {},
   "outputs": [
    {
     "data": {
      "image/png": "[encoded data removed]"
     },
     "metadata": {},
     "output_type": "display_data"
    }
   ],
   "source": [
    "stateToImage $ extend life $ extend life targetState"
   ]
  },
  {
   "cell_type": "code",
   "execution_count": 14,
   "id": "58d33681-4b6a-4603-b50a-0d15ada991c4",
   "metadata": {},
   "outputs": [
    {
     "data": {
      "image/png": "[encoded data removed]"
     },
     "metadata": {},
     "output_type": "display_data"
    }
   ],
   "source": [
    "stateToImage $ extend life $ extend life $ extend life targetState"
   ]
  },
  {
   "cell_type": "markdown",
   "id": "7b448310-6515-455a-93a7-a97764d636e4",
   "metadata": {},
   "source": [
    "うわぁ… ライフゲームっぽくなってきましたね😅\n",
    "\n",
    "## 微分可能なライフゲーム\n",
    "さてここからはライフゲームの1つ前の状態を推定することを考えていきたいと思います。この問題を最適化問題として定式化するにあたって誤差関数を考えます。単純に入力となる状態 $Y$ を ${\\rm life}$ 関数によって時間発展させたときにターゲットとなる画像 $X$ との差分の平均二乗誤差を誤差関数としましょう。\n",
    "\n",
    "$$\n",
    "L(Y) = \\frac{1}{n}\\|X - {\\rm life}(Y)\\|^2\n",
    "$$\n",
    "\n",
    "さてこの誤差を最小にするような $Y$ を見つけるためには $L$ を $Y$ で微分する必要がありますが、そのためには ${\\rm life}$ が微分可能な関数である必要があります。しかし状態は真偽値であり ${\\rm life}$ は論理式で構成されているため微分可能な関数ではありません。\n",
    "\n",
    "そこでファジィ論理や確率論理と同様に真偽値を $[0, 1]$ の値として連続的に扱えるように拡張しましょう。その場合に論理式やプログラムの制御構文がどのように微分可能な形に拡張できるかについては [\"The Elements of Differentiable Programming\"](https://arxiv.org/abs/2403.14606) の5章 Control flows に詳細な記述があります。\n",
    "\n",
    "例えば真偽値を $\\{0, 1\\}$ とすると2つの実数を比較して1つ目の数が2つ目の数より大きいかどうかを返す関数 ${\\rm gt}(x, y)$ は\n",
    "\n",
    "$$\n",
    "\\begin{matrix}\n",
    "{\\rm gt}(x, y) &=& \\begin{cases}\n",
    "1,\\ {\\rm if}\\ x\\geq y\\\\\n",
    "0,\\ {\\rm otherwise}\\\\\n",
    "\\end{cases} \\\\\n",
    "&=& {\\rm step}(x-y)\n",
    "\\end{matrix}\n",
    "$$\n",
    "\n",
    "のように書けます。\n",
    "ここで ${\\rm step}$ 関数は以下のように定義されているものです。\n",
    "\n",
    "$$\n",
    "{\\rm step}(x) = \\begin{cases}\n",
    "1,\\ {\\rm if}\\ x \\geq 0\\\\\n",
    "0,\\ {\\rm otherwise} \\\\\n",
    "\\end{cases}\n",
    "$$\n",
    "\n",
    "これを $[0, 1]$ に値を取るように微分可能な形に緩和すると ${\\rm step}$ 関数をシグモイド関数 ${\\rm sigmoid}$ にするのがすぐに思いつく方法でしょう。\n",
    "\n",
    "$$\n",
    "{\\rm sigmoid}_D(x) = \\frac{1}{1+\\exp\\left(-\\frac{x}{D}\\right)}\n",
    "$$\n",
    "\n",
    "これを使って微分可能な形に緩和した比較関数 ${\\rm gt}_D(x, y)$ を\n",
    "\n",
    "$$\n",
    "{\\rm gt}_D(x, y) = {\\rm sigmoid}_D(x-y)\n",
    "$$\n",
    "\n",
    "と定義します。実はシグモイド関数に置き換えたこの関数は変数がある確率分布に従うと仮定して期待値をとったものと解釈することも可能です。\n",
    "\n",
    "同様の方法で\"小なり\"や\"等号\"に対応する関数を定義することも可能です。（先に挙げた[\"The Elements of Differentiable Programming\"](https://arxiv.org/abs/2403.14606)で ${\\rm lt}(x, y) = 1 - {\\rm gt}(x, y)$ と定義されており、これだと後述する否定を使って ${\\rm lt}(x, y) = {\\rm not}({\\rm gt}(x, y))$ と書けるため等号部分が異なる気がするのですが、この部分は微分可能な形に緩和すれば確率0で気にならなくなるので本稿でも同様に実装することにします。）\n",
    "\n",
    "$[0, 1]$ に値を取る真偽値の論理演算子は以下のように定義することができます。\n",
    "\n",
    "まず否定 ${\\rm not}$ は0を1に、1を0に移すので単純に1からの減算と考えれるでしょう。\n",
    "\n",
    "$$\n",
    "{\\rm not}(x) = 1 - x\n",
    "$$\n",
    "\n",
    "次に論理積 ${\\rm and}(x, y)$ は $x, y$ いずれかの値が0なら0になり両方が1なら1になります。単純な積はこの性質を満たしていることがわかるでしょう。\n",
    "\n",
    "$$\n",
    "{\\rm and}(x, y) = xy\n",
    "$$\n",
    "\n",
    "次に論理和 ${\\rm or}(x, y)$ は $x, y$ いずれかの値が1なら1になり両方が0なら0になります。このような性質を満たす計算を見つけるのは簡単ではありませんが、既に否定と論理積があるのでド・モルガンの法則を使って\n",
    "\n",
    "$$\n",
    "\\begin{matrix}\n",
    "{\\rm or}(x, y) &=& {\\rm not}({\\rm and}({\\rm not}(x), {\\rm not}(y))) \\\\\n",
    "&=& 1 - (1-x)(1-y) \\\\\n",
    "&=& x + y - xy \\\\\n",
    "\\end{matrix}\n",
    "$$\n",
    "\n",
    "のように定義できることが分かります。\n",
    "\n",
    "このように論理和・論理積を $[0, 1]$ に拡張したものは代数和・代数積と呼ばれていて実は上記の定義以外にも無数に存在することが知られています。気になる人は以下を参照してみてください。\n",
    "\n",
    "- [ファジィ理論とその応用 | Mathlog](https://mathlog.info/articles/145)\n",
    "- [T-norm - Wikipedia](https://en.wikipedia.org/wiki/T-norm)\n",
    "\n",
    "`if` などの制御構文も微分可能な形に実装することができますが、今回のライフゲームの実装では必要ありません。上記を参考に微分可能な比較演算子と論理演算子を実装してみましょう。"
   ]
  },
  {
   "cell_type": "code",
   "execution_count": 15,
   "id": "1d253404-ad65-4fe7-aceb-1154c3aadd65",
   "metadata": {},
   "outputs": [],
   "source": [
    "--   x > y\n",
    "gtD :: Floating a => a -> a -> a\n",
    "gtD x y = 1 / (1 + exp (-4 * (x - y)))\n",
    "\n",
    "-- | x < y\n",
    "ltD :: Floating a => a -> a -> a\n",
    "ltD x y = 1 - gtD x y\n",
    "\n",
    "-- | x == y\n",
    "eqD :: Floating a => a -> a -> a\n",
    "eqD x y = exp $ -(4 * (x - y))^2/2\n",
    "\n",
    "-- | !x\n",
    "notD :: Num a => a -> a\n",
    "notD x = 1 - x\n",
    "\n",
    "-- | x && y\n",
    "andD :: Num a => a -> a -> a\n",
    "andD x y = x * y\n",
    "\n",
    "-- | x || y\n",
    "orD :: Num a => a -> a -> a\n",
    "orD x y = x + y - x * y\n",
    "\n",
    "-- | x ≧ y\n",
    "geqD :: Floating a => a -> a -> a\n",
    "geqD x y = eqD x y `orD` gtD x y\n",
    "\n",
    "-- | x ≦ y\n",
    "leqD :: Floating a => a -> a -> a\n",
    "leqD x y = eqD x y `orD` ltD x y"
   ]
  },
  {
   "cell_type": "markdown",
   "id": "083cd517-21f8-4f11-8dbd-b650c7ea5779",
   "metadata": {},
   "source": [
    "`gtD` と `ltD` は引数が一致する場合に値が $\\frac{1}{2}$ となるため等号のない $>, <$ を表していると解釈し、等号も含めた演算子 $\\geq, \\leq$ を別途 `geqD, leqD` として実装しています。\n",
    "\n",
    "それではこれらの演算子を使ってライフゲームの微分可能な状態発展を実装してみましょう。"
   ]
  },
  {
   "cell_type": "code",
   "execution_count": 16,
   "id": "0ef19698-077b-45d4-95fd-2518df3d5129",
   "metadata": {},
   "outputs": [],
   "source": [
    "import Data.Maybe (fromMaybe)\n",
    "\n",
    "-- | 近傍の1列で生きているセルを合計する関数\n",
    "sumNeighbour :: Num a\n",
    "             => Bool  -- Trueなら中心もカウントする\n",
    "             -> Z a\n",
    "             -> a\n",
    "sumNeighbour self (Z ls c rs) = sum [\n",
    "  fromMaybe 0 (safe head ls),\n",
    "  if self then c else 0,\n",
    "  fromMaybe 0 (safe head rs)\n",
    "  ]\n",
    "\n",
    "-- | 近傍で生きているセルを合計する関数\n",
    "sumNeighbours :: Num a\n",
    "              => Z2 a\n",
    "              -> a\n",
    "sumNeighbours (Z2 (Z lzs cz rzs)) = sum [\n",
    "  maybe 0 (sumNeighbour True) (safe head lzs),\n",
    "  sumNeighbour False cz,\n",
    "  maybe 0 (sumNeighbour True) (safe head rzs)\n",
    "  ]\n",
    "\n",
    "-- | 1セルにおけるライフゲームの微分可能な状態発展\n",
    "lifeD :: Floating a => Z2 a -> a\n",
    "lifeD z = (a `andD` (geqD n 2 `andD` leqD n 3)) `orD` (notD a `andD` eqD n 3)\n",
    "  where\n",
    "    a = extract z\n",
    "    n = sumNeighbours z"
   ]
  },
  {
   "cell_type": "markdown",
   "id": "e41eb362-8beb-4870-847e-1bb95647a5ec",
   "metadata": {},
   "source": [
    "`lifeD` の実装をよく見ると `Bool` に対する `life` の実装とよく対応していることが分かります。\n",
    "\n",
    "```hs\n",
    "life :: Z2 Bool -> Bool\n",
    "life z = (a && (n == 2 || n == 3)) || (not a && n == 3) where\n",
    "  a = extract z\n",
    "  n = countNeighbours z\n",
    "```\n",
    "\n",
    "実際に `lifeD` を使ってライフゲームを状態発展させてみましょう。"
   ]
  },
  {
   "cell_type": "code",
   "execution_count": 17,
   "id": "f37e6f8e-1e89-41bf-9aeb-62027c3cf8df",
   "metadata": {},
   "outputs": [
    {
     "data": {
      "image/png": "[encoded data removed]"
     },
     "metadata": {},
     "output_type": "display_data"
    }
   ],
   "source": [
    "stateToImage $ fmap (> 0.5) $ extend lifeD $ (\\b -> if b then 1.0 else 0.0) <$> targetState"
   ]
  },
  {
   "cell_type": "markdown",
   "id": "e82791d6-efe2-42a3-adc6-e491447cdf7f",
   "metadata": {},
   "source": [
    "先程見た結果と一致していそうですね。\n",
    "\n",
    "## 1つ前の状態を推定する\n",
    "それでは勾配降下法を使って目標となる画像に発展する1つ前の状態を求めてみましょう。入力となるセルの値が $[0,1]$ だと途中で範囲外に出てしまう可能性があるため、値は実数を取れるようにしてシグモイド関数で $[0, 1]$ に含まれるように変換することにします。自動微分には [ad](https://hackage.haskell.org/package/ad) ライブラリを使用しています。"
   ]
  },
  {
   "cell_type": "code",
   "execution_count": 18,
   "id": "80f87c29-0a79-486d-baab-4bc34aedf290",
   "metadata": {},
   "outputs": [
    {
     "data": {
      "text/plain": [
       "initial, loss = 14174.446314774947\n",
       "n = 0, loss = 12437.558591909137\n",
       "n = 1000, loss = 669.9011793628988\n",
       "n = 2000, loss = 581.6638456947436\n",
       "n = 3000, loss = 547.3427997406984\n",
       "n = 4000, loss = 524.5258231500682\n",
       "n = 5000, loss = 511.03811378437507\n",
       "n = 6000, loss = 500.1939355743127\n",
       "n = 7000, loss = 489.87961196569944\n",
       "n = 8000, loss = 484.3542493674258\n",
       "n = 9000, loss = 479.40304896751013\n",
       "n = 10000, loss = 476.66751555896707\n",
       "n = 11000, loss = 474.38607336184685"
      ]
     },
     "metadata": {},
     "output_type": "display_data"
    },
    {
     "data": {
      "image/png": "[encoded data removed]",
      "image/svg+xml": [
       "<?xml version=\"1.0\" encoding=\"UTF-8\"?>\n",
       "<svg xmlns=\"http://www.w3.org/2000/svg\" xmlns:xlink=\"http://www.w3.org/1999/xlink\" width=\"450pt\" height=\"300pt\" viewBox=\"0 0 450 300\" version=\"1.1\">\n",
       "<defs>\n",
       "<g>\n",
       "<symbol overflow=\"visible\" id=\"glyph-2024-10-2013981.261682774s0-0\">\n",
       "<path style=\"stroke:none;\" d=\"M 0.328125 0 L 0.328125 -6.671875 L 2.984375 -6.671875 L 2.984375 0 Z M 0.671875 -0.328125 L 2.65625 -0.328125 L 2.65625 -6.328125 L 0.671875 -6.328125 Z M 0.671875 -0.328125 \"/>\n",
       "</symbol>\n",
       "<symbol overflow=\"visible\" id=\"glyph-2024-10-2013981.261682774s0-1\">\n",
       "<path style=\"stroke:none;\" d=\"M 5.390625 -3.296875 C 5.390625 -2.660156 5.328125 -2.125 5.203125 -1.6875 C 5.078125 -1.257812 4.90625 -0.910156 4.6875 -0.640625 C 4.46875 -0.378906 4.210938 -0.191406 3.921875 -0.078125 C 3.628906 0.0351562 3.316406 0.09375 2.984375 0.09375 C 2.648438 0.09375 2.335938 0.0351562 2.046875 -0.078125 C 1.753906 -0.191406 1.5 -0.378906 1.28125 -0.640625 C 1.070312 -0.910156 0.90625 -1.257812 0.78125 -1.6875 C 0.664062 -2.125 0.609375 -2.660156 0.609375 -3.296875 C 0.609375 -3.960938 0.664062 -4.507812 0.78125 -4.9375 C 0.90625 -5.375 1.070312 -5.722656 1.28125 -5.984375 C 1.5 -6.242188 1.753906 -6.425781 2.046875 -6.53125 C 2.347656 -6.632812 2.671875 -6.6875 3.015625 -6.6875 C 3.335938 -6.6875 3.644531 -6.632812 3.9375 -6.53125 C 4.226562 -6.425781 4.476562 -6.242188 4.6875 -5.984375 C 4.90625 -5.722656 5.078125 -5.375 5.203125 -4.9375 C 5.328125 -4.507812 5.390625 -3.960938 5.390625 -3.296875 Z M 4.5 -3.296875 C 4.5 -3.816406 4.460938 -4.25 4.390625 -4.59375 C 4.328125 -4.9375 4.234375 -5.207031 4.109375 -5.40625 C 3.984375 -5.613281 3.828125 -5.757812 3.640625 -5.84375 C 3.453125 -5.9375 3.242188 -5.984375 3.015625 -5.984375 C 2.765625 -5.984375 2.546875 -5.9375 2.359375 -5.84375 C 2.171875 -5.757812 2.007812 -5.613281 1.875 -5.40625 C 1.75 -5.207031 1.65625 -4.9375 1.59375 -4.59375 C 1.53125 -4.25 1.5 -3.816406 1.5 -3.296875 C 1.5 -2.796875 1.53125 -2.375 1.59375 -2.03125 C 1.65625 -1.6875 1.75 -1.410156 1.875 -1.203125 C 2.007812 -0.992188 2.171875 -0.84375 2.359375 -0.75 C 2.546875 -0.664062 2.757812 -0.625 3 -0.625 C 3.226562 -0.625 3.429688 -0.664062 3.609375 -0.75 C 3.796875 -0.84375 3.953125 -0.992188 4.078125 -1.203125 C 4.210938 -1.410156 4.316406 -1.6875 4.390625 -2.03125 C 4.460938 -2.375 4.5 -2.796875 4.5 -3.296875 Z M 2.421875 -2.703125 L 2.421875 -3.921875 L 3.5625 -3.921875 L 3.5625 -2.703125 Z M 2.421875 -2.703125 \"/>\n",
       "</symbol>\n",
       "<symbol overflow=\"visible\" id=\"glyph-2024-10-2013981.261682774s0-2\">\n",
       "<path style=\"stroke:none;\" d=\"M 0.703125 0 L 0.703125 -0.578125 C 0.847656 -0.890625 1.035156 -1.175781 1.265625 -1.4375 C 1.503906 -1.707031 1.753906 -1.957031 2.015625 -2.1875 C 2.285156 -2.425781 2.550781 -2.65625 2.8125 -2.875 C 3.082031 -3.09375 3.328125 -3.304688 3.546875 -3.515625 C 3.765625 -3.722656 3.941406 -3.9375 4.078125 -4.15625 C 4.210938 -4.375 4.28125 -4.601562 4.28125 -4.84375 C 4.28125 -5.03125 4.25 -5.195312 4.1875 -5.34375 C 4.125 -5.488281 4.035156 -5.601562 3.921875 -5.6875 C 3.804688 -5.78125 3.664062 -5.847656 3.5 -5.890625 C 3.34375 -5.941406 3.171875 -5.96875 2.984375 -5.96875 C 2.804688 -5.96875 2.640625 -5.941406 2.484375 -5.890625 C 2.335938 -5.847656 2.207031 -5.773438 2.09375 -5.671875 C 1.976562 -5.578125 1.882812 -5.457031 1.8125 -5.3125 C 1.738281 -5.164062 1.691406 -5 1.671875 -4.8125 L 0.78125 -4.890625 C 0.8125 -5.140625 0.878906 -5.367188 0.984375 -5.578125 C 1.085938 -5.796875 1.226562 -5.988281 1.40625 -6.15625 C 1.582031 -6.320312 1.800781 -6.453125 2.0625 -6.546875 C 2.332031 -6.640625 2.640625 -6.6875 2.984375 -6.6875 C 3.328125 -6.6875 3.632812 -6.644531 3.90625 -6.5625 C 4.175781 -6.488281 4.40625 -6.375 4.59375 -6.21875 C 4.789062 -6.070312 4.9375 -5.882812 5.03125 -5.65625 C 5.132812 -5.4375 5.1875 -5.179688 5.1875 -4.890625 C 5.1875 -4.585938 5.113281 -4.300781 4.96875 -4.03125 C 4.832031 -3.769531 4.65625 -3.519531 4.4375 -3.28125 C 4.21875 -3.050781 3.972656 -2.832031 3.703125 -2.625 C 3.441406 -2.414062 3.179688 -2.207031 2.921875 -2 C 2.671875 -1.789062 2.441406 -1.582031 2.234375 -1.375 C 2.023438 -1.164062 1.867188 -0.945312 1.765625 -0.71875 L 5.296875 -0.71875 L 5.296875 0 Z M 0.703125 0 \"/>\n",
       "</symbol>\n",
       "<symbol overflow=\"visible\" id=\"glyph-2024-10-2013981.261682774s0-3\">\n",
       "<path style=\"stroke:none;\" d=\"M 5.359375 -2.171875 C 5.359375 -1.847656 5.304688 -1.546875 5.203125 -1.265625 C 5.097656 -0.984375 4.941406 -0.742188 4.734375 -0.546875 C 4.535156 -0.347656 4.285156 -0.191406 3.984375 -0.078125 C 3.679688 0.0351562 3.328125 0.09375 2.921875 0.09375 C 2.566406 0.09375 2.253906 0.0507812 1.984375 -0.03125 C 1.710938 -0.113281 1.484375 -0.226562 1.296875 -0.375 C 1.109375 -0.519531 0.957031 -0.691406 0.84375 -0.890625 C 0.738281 -1.097656 0.664062 -1.3125 0.625 -1.53125 L 1.515625 -1.640625 C 1.546875 -1.515625 1.59375 -1.390625 1.65625 -1.265625 C 1.726562 -1.140625 1.816406 -1.03125 1.921875 -0.9375 C 2.035156 -0.84375 2.175781 -0.765625 2.34375 -0.703125 C 2.507812 -0.648438 2.707031 -0.625 2.9375 -0.625 C 3.164062 -0.625 3.375 -0.65625 3.5625 -0.71875 C 3.75 -0.789062 3.90625 -0.890625 4.03125 -1.015625 C 4.164062 -1.148438 4.269531 -1.3125 4.34375 -1.5 C 4.414062 -1.695312 4.453125 -1.914062 4.453125 -2.15625 C 4.453125 -2.34375 4.414062 -2.519531 4.34375 -2.6875 C 4.28125 -2.851562 4.1875 -3 4.0625 -3.125 C 3.9375 -3.25 3.78125 -3.347656 3.59375 -3.421875 C 3.40625 -3.492188 3.195312 -3.53125 2.96875 -3.53125 C 2.820312 -3.53125 2.6875 -3.515625 2.5625 -3.484375 C 2.4375 -3.460938 2.320312 -3.425781 2.21875 -3.375 C 2.113281 -3.332031 2.015625 -3.28125 1.921875 -3.21875 C 1.835938 -3.15625 1.757812 -3.09375 1.6875 -3.03125 L 0.828125 -3.03125 L 1.0625 -6.59375 L 4.96875 -6.59375 L 4.96875 -5.875 L 1.859375 -5.875 L 1.71875 -3.796875 C 1.875 -3.921875 2.066406 -4.023438 2.296875 -4.109375 C 2.535156 -4.203125 2.816406 -4.25 3.140625 -4.25 C 3.484375 -4.25 3.789062 -4.195312 4.0625 -4.09375 C 4.34375 -3.988281 4.578125 -3.84375 4.765625 -3.65625 C 4.953125 -3.46875 5.097656 -3.25 5.203125 -3 C 5.304688 -2.75 5.359375 -2.472656 5.359375 -2.171875 Z M 5.359375 -2.171875 \"/>\n",
       "</symbol>\n",
       "<symbol overflow=\"visible\" id=\"glyph-2024-10-2013981.261682774s0-4\">\n",
       "<path style=\"stroke:none;\" d=\"M 5.21875 -5.90625 C 4.90625 -5.457031 4.609375 -4.992188 4.328125 -4.515625 C 4.054688 -4.035156 3.8125 -3.546875 3.59375 -3.046875 C 3.382812 -2.554688 3.21875 -2.054688 3.09375 -1.546875 C 2.96875 -1.035156 2.90625 -0.519531 2.90625 0 L 2 0 C 2 -0.507812 2.0625 -1.019531 2.1875 -1.53125 C 2.320312 -2.050781 2.492188 -2.554688 2.703125 -3.046875 C 2.921875 -3.546875 3.171875 -4.035156 3.453125 -4.515625 C 3.742188 -4.992188 4.050781 -5.445312 4.375 -5.875 L 0.765625 -5.875 L 0.765625 -6.59375 L 5.21875 -6.59375 Z M 5.21875 -5.90625 \"/>\n",
       "</symbol>\n",
       "<symbol overflow=\"visible\" id=\"glyph-2024-10-2013981.261682774s0-5\">\n",
       "<path style=\"stroke:none;\" d=\"M 0.765625 0 L 0.765625 -0.703125 L 2.90625 -0.703125 L 2.90625 -5.6875 C 2.84375 -5.5625 2.734375 -5.441406 2.578125 -5.328125 C 2.421875 -5.210938 2.238281 -5.109375 2.03125 -5.015625 C 1.832031 -4.929688 1.617188 -4.863281 1.390625 -4.8125 C 1.160156 -4.769531 0.9375 -4.75 0.71875 -4.75 L 0.71875 -5.46875 C 0.957031 -5.46875 1.191406 -5.492188 1.421875 -5.546875 C 1.660156 -5.609375 1.878906 -5.6875 2.078125 -5.78125 C 2.285156 -5.882812 2.46875 -6.003906 2.625 -6.140625 C 2.78125 -6.273438 2.898438 -6.425781 2.984375 -6.59375 L 3.796875 -6.59375 L 3.796875 -0.703125 L 5.515625 -0.703125 L 5.515625 0 Z M 0.765625 0 \"/>\n",
       "</symbol>\n",
       "</g>\n",
       "<clipPath id=\"clip-2024-10-2013981.261682774s1\">\n",
       "  <path d=\"M 48.667969 16 L 412 16 L 412 260 L 48.667969 260 Z M 48.667969 16 \"/>\n",
       "</clipPath>\n",
       "</defs>\n",
       "<g id=\"surface19\">\n",
       "<rect x=\"0\" y=\"0\" width=\"450\" height=\"300\" style=\"fill:rgb(100%,100%,100%);fill-opacity:1;stroke:none;\"/>\n",
       "<path style=\"fill:none;stroke-width:1;stroke-linecap:butt;stroke-linejoin:miter;stroke:rgb(82.745098%,82.745098%,82.745098%);stroke-opacity:1;stroke-dasharray:5,5;stroke-miterlimit:10;\" d=\"M 0.000976562 0 L 0.000976562 253.007812 \" transform=\"matrix(1,0,0,1,48.666992,15.664062)\"/>\n",
       "<path style=\"fill:none;stroke-width:1;stroke-linecap:butt;stroke-linejoin:miter;stroke:rgb(82.745098%,82.745098%,82.745098%);stroke-opacity:1;stroke-dasharray:5,5;stroke-miterlimit:10;\" d=\"M 75.399414 0 L 75.399414 253.007812 \" transform=\"matrix(1,0,0,1,48.666992,15.664062)\"/>\n",
       "<path style=\"fill:none;stroke-width:1;stroke-linecap:butt;stroke-linejoin:miter;stroke:rgb(82.745098%,82.745098%,82.745098%);stroke-opacity:1;stroke-dasharray:5,5;stroke-miterlimit:10;\" d=\"M 150.801758 0 L 150.801758 253.007812 \" transform=\"matrix(1,0,0,1,48.666992,15.664062)\"/>\n",
       "<path style=\"fill:none;stroke-width:1;stroke-linecap:butt;stroke-linejoin:miter;stroke:rgb(82.745098%,82.745098%,82.745098%);stroke-opacity:1;stroke-dasharray:5,5;stroke-miterlimit:10;\" d=\"M 226.200195 0 L 226.200195 253.007812 \" transform=\"matrix(1,0,0,1,48.666992,15.664062)\"/>\n",
       "<path style=\"fill:none;stroke-width:1;stroke-linecap:butt;stroke-linejoin:miter;stroke:rgb(82.745098%,82.745098%,82.745098%);stroke-opacity:1;stroke-dasharray:5,5;stroke-miterlimit:10;\" d=\"M 301.598633 0 L 301.598633 253.007812 \" transform=\"matrix(1,0,0,1,48.666992,15.664062)\"/>\n",
       "<path style=\"fill:none;stroke-width:1;stroke-linecap:butt;stroke-linejoin:miter;stroke:rgb(82.745098%,82.745098%,82.745098%);stroke-opacity:1;stroke-dasharray:5,5;stroke-miterlimit:10;\" d=\"M 377.000977 0 L 377.000977 253.007812 \" transform=\"matrix(1,0,0,1,48.666992,15.664062)\"/>\n",
       "<path style=\"fill:none;stroke-width:1;stroke-linecap:butt;stroke-linejoin:miter;stroke:rgb(82.745098%,82.745098%,82.745098%);stroke-opacity:1;stroke-dasharray:5,5;stroke-miterlimit:10;\" d=\"M 0.000976562 253.007812 L 377.000977 253.007812 \" transform=\"matrix(1,0,0,1,48.666992,15.664062)\"/>\n",
       "<path style=\"fill:none;stroke-width:1;stroke-linecap:butt;stroke-linejoin:miter;stroke:rgb(82.745098%,82.745098%,82.745098%);stroke-opacity:1;stroke-dasharray:5,5;stroke-miterlimit:10;\" d=\"M 0.000976562 202.40625 L 377.000977 202.40625 \" transform=\"matrix(1,0,0,1,48.666992,15.664062)\"/>\n",
       "<path style=\"fill:none;stroke-width:1;stroke-linecap:butt;stroke-linejoin:miter;stroke:rgb(82.745098%,82.745098%,82.745098%);stroke-opacity:1;stroke-dasharray:5,5;stroke-miterlimit:10;\" d=\"M 0.000976562 151.804688 L 377.000977 151.804688 \" transform=\"matrix(1,0,0,1,48.666992,15.664062)\"/>\n",
       "<path style=\"fill:none;stroke-width:1;stroke-linecap:butt;stroke-linejoin:miter;stroke:rgb(82.745098%,82.745098%,82.745098%);stroke-opacity:1;stroke-dasharray:5,5;stroke-miterlimit:10;\" d=\"M 0.000976562 101.203125 L 377.000977 101.203125 \" transform=\"matrix(1,0,0,1,48.666992,15.664062)\"/>\n",
       "<path style=\"fill:none;stroke-width:1;stroke-linecap:butt;stroke-linejoin:miter;stroke:rgb(82.745098%,82.745098%,82.745098%);stroke-opacity:1;stroke-dasharray:5,5;stroke-miterlimit:10;\" d=\"M 0.000976562 50.601562 L 377.000977 50.601562 \" transform=\"matrix(1,0,0,1,48.666992,15.664062)\"/>\n",
       "<path style=\"fill:none;stroke-width:1;stroke-linecap:butt;stroke-linejoin:miter;stroke:rgb(82.745098%,82.745098%,82.745098%);stroke-opacity:1;stroke-dasharray:5,5;stroke-miterlimit:10;\" d=\"M 0.000976562 0 L 377.000977 0 \" transform=\"matrix(1,0,0,1,48.666992,15.664062)\"/>\n",
       "<g clip-path=\"url(#clip-2024-10-2013981.261682774s1)\" clip-rule=\"nonzero\">\n",
       "<path style=\"fill:none;stroke-width:1;stroke-linecap:round;stroke-linejoin:round;stroke:rgb(0%,0%,100%);stroke-opacity:1;stroke-miterlimit:10;\" d=\"M 0.000976562 1.265625 L 0.0283203 30.675781 L 0.0595703 46.503906 L 0.0908203 56.015625 L 0.12207 65.242188 L 0.149414 75.699219 L 0.180664 86.445312 L 0.211914 96.214844 L 0.243164 104.808594 L 0.270508 112.410156 L 0.301758 119.261719 L 0.333008 125.640625 L 0.360352 131.683594 L 0.391602 137.40625 L 0.422852 142.796875 L 0.454102 147.921875 L 0.481445 152.792969 L 0.512695 157.398438 L 0.543945 161.808594 L 0.571289 165.890625 L 0.602539 169.699219 L 0.633789 173.285156 L 0.665039 176.636719 L 0.692383 179.925781 L 0.723633 183.007812 L 0.754883 185.832031 L 0.782227 188.449219 L 0.813477 190.851562 L 0.844727 192.996094 L 0.875977 194.933594 L 0.90332 196.761719 L 0.93457 198.53125 L 0.96582 200.222656 L 0.99707 201.820312 L 1.024414 203.359375 L 1.055664 204.820312 L 1.086914 206.105469 L 1.114258 207.292969 L 1.145508 208.414062 L 1.176758 209.503906 L 1.208008 210.523438 L 1.235352 211.429688 L 1.266602 212.253906 L 1.297852 213.015625 L 1.325195 213.726562 L 1.356445 214.398438 L 1.387695 215.03125 L 1.418945 215.632812 L 1.446289 216.21875 L 1.477539 216.773438 L 1.508789 217.28125 L 1.540039 217.753906 L 1.567383 218.191406 L 1.598633 218.59375 L 1.629883 218.976562 L 1.657227 219.332031 L 1.688477 219.664062 L 1.719727 219.972656 L 1.750977 220.269531 L 1.77832 220.558594 L 1.80957 220.851562 L 1.84082 221.121094 L 1.868164 221.371094 L 1.899414 221.617188 L 1.930664 221.847656 L 1.961914 222.066406 L 1.989258 222.273438 L 2.051758 222.671875 L 2.079102 222.867188 L 2.110352 223.058594 L 2.141602 223.234375 L 2.172852 223.402344 L 2.200195 223.558594 L 2.231445 223.707031 L 2.293945 223.996094 L 2.321289 224.136719 L 2.352539 224.273438 L 2.383789 224.40625 L 2.411133 224.53125 L 2.442383 224.65625 L 2.504883 224.898438 L 2.532227 225.015625 L 2.563477 225.136719 L 2.594727 225.253906 L 2.62207 225.375 L 2.71582 225.75 L 2.743164 225.871094 L 2.774414 225.988281 L 2.805664 226.101562 L 2.836914 226.207031 L 2.864258 226.3125 L 2.895508 226.414062 L 2.926758 226.511719 L 2.954102 226.605469 L 2.985352 226.699219 L 3.016602 226.789062 L 3.047852 226.882812 L 3.075195 226.972656 L 3.106445 227.0625 L 3.137695 227.148438 L 3.165039 227.230469 L 3.196289 227.3125 L 3.258789 227.46875 L 3.286133 227.546875 L 3.317383 227.625 L 3.348633 227.699219 L 3.375977 227.773438 L 3.407227 227.847656 L 3.469727 227.988281 L 3.49707 228.054688 L 3.55957 228.1875 L 3.59082 228.25 L 3.618164 228.316406 L 3.680664 228.449219 L 3.708008 228.515625 L 3.770508 228.648438 L 3.801758 228.71875 L 3.829102 228.785156 L 3.891602 228.917969 L 3.918945 228.984375 L 3.950195 229.046875 L 4.012695 229.179688 L 4.040039 229.246094 L 4.133789 229.433594 L 4.161133 229.496094 L 4.223633 229.613281 L 4.250977 229.667969 L 4.282227 229.726562 L 4.313477 229.78125 L 4.344727 229.84375 L 4.37207 229.902344 L 4.40332 229.964844 L 4.43457 230.023438 L 4.461914 230.082031 L 4.493164 230.140625 L 4.524414 230.195312 L 4.555664 230.253906 L 4.583008 230.3125 L 4.645508 230.421875 L 4.672852 230.472656 L 4.704102 230.519531 L 4.735352 230.570312 L 4.766602 230.617188 L 4.793945 230.664062 L 4.825195 230.707031 L 4.887695 230.800781 L 4.915039 230.851562 L 4.946289 230.902344 L 4.977539 230.949219 L 5.004883 230.992188 L 5.067383 231.078125 L 5.098633 231.117188 L 5.125977 231.15625 L 5.157227 231.199219 L 5.188477 231.234375 L 5.21582 231.273438 L 5.30957 231.378906 L 5.336914 231.414062 L 5.430664 231.519531 L 5.458008 231.554688 L 5.520508 231.625 L 5.547852 231.664062 L 5.641602 231.769531 L 5.668945 231.800781 L 5.731445 231.863281 L 5.758789 231.898438 L 5.911133 232.050781 L 5.942383 232.078125 L 5.969727 232.109375 L 6.000977 232.136719 L 6.032227 232.167969 L 6.063477 232.195312 L 6.09082 232.222656 L 6.12207 232.246094 L 6.18457 232.300781 L 6.211914 232.324219 L 6.274414 232.378906 L 6.301758 232.40625 L 6.333008 232.433594 L 6.364258 232.457031 L 6.395508 232.484375 L 6.422852 232.511719 L 6.454102 232.539062 L 6.485352 232.5625 L 6.512695 232.589844 L 6.543945 232.613281 L 6.606445 232.667969 L 6.633789 232.691406 L 6.665039 232.71875 L 6.696289 232.742188 L 6.727539 232.769531 L 6.754883 232.796875 L 6.817383 232.84375 L 6.844727 232.867188 L 6.907227 232.914062 L 6.938477 232.933594 L 6.96582 232.957031 L 6.99707 232.980469 L 7.02832 233 L 7.055664 233.023438 L 7.086914 233.042969 L 7.149414 233.089844 L 7.176758 233.109375 L 7.239258 233.15625 L 7.266602 233.175781 L 7.297852 233.199219 L 7.329102 233.21875 L 7.360352 233.242188 L 7.387695 233.261719 L 7.418945 233.285156 L 7.481445 233.324219 L 7.508789 233.34375 L 7.540039 233.363281 L 7.571289 233.386719 L 7.598633 233.40625 L 7.629883 233.429688 L 7.692383 233.46875 L 7.719727 233.492188 L 7.782227 233.53125 L 7.80957 233.550781 L 7.84082 233.574219 L 7.87207 233.59375 L 7.90332 233.617188 L 7.930664 233.636719 L 7.961914 233.660156 L 7.993164 233.679688 L 8.024414 233.695312 L 8.051758 233.714844 L 8.114258 233.753906 L 8.141602 233.769531 L 8.204102 233.808594 L 8.235352 233.824219 L 8.262695 233.84375 L 8.325195 233.882812 L 8.352539 233.898438 L 8.446289 233.957031 L 8.473633 233.972656 L 8.504883 233.992188 L 8.536133 234.007812 L 8.563477 234.027344 L 8.594727 234.046875 L 8.625977 234.0625 L 8.657227 234.082031 L 8.68457 234.101562 L 8.71582 234.125 L 8.77832 234.164062 L 8.805664 234.183594 L 8.836914 234.199219 L 8.868164 234.21875 L 8.895508 234.234375 L 8.926758 234.253906 L 8.989258 234.285156 L 9.016602 234.304688 L 9.079102 234.335938 L 9.106445 234.351562 L 9.137695 234.367188 L 9.168945 234.386719 L 9.200195 234.402344 L 9.227539 234.414062 L 9.321289 234.460938 L 9.348633 234.476562 L 9.411133 234.507812 L 9.438477 234.519531 L 9.500977 234.550781 L 9.532227 234.5625 L 9.55957 234.578125 L 9.59082 234.589844 L 9.62207 234.605469 L 9.649414 234.617188 L 9.680664 234.632812 L 9.711914 234.644531 L 9.743164 234.660156 L 9.770508 234.671875 L 9.801758 234.6875 L 9.833008 234.699219 L 9.864258 234.714844 L 9.891602 234.726562 L 9.922852 234.738281 L 9.954102 234.753906 L 9.981445 234.765625 L 10.012695 234.78125 L 10.075195 234.804688 L 10.102539 234.820312 L 10.133789 234.832031 L 10.165039 234.847656 L 10.192383 234.863281 L 10.223633 234.875 L 10.286133 234.90625 L 10.313477 234.925781 L 10.344727 234.9375 L 10.375977 234.953125 L 10.40332 234.964844 L 10.43457 234.980469 L 10.46582 234.992188 L 10.49707 235.007812 L 10.524414 235.019531 L 10.586914 235.042969 L 10.618164 235.058594 L 10.645508 235.070312 L 10.676758 235.082031 L 10.708008 235.097656 L 10.735352 235.109375 L 10.766602 235.121094 L 10.797852 235.136719 L 10.829102 235.148438 L 10.856445 235.164062 L 10.918945 235.1875 L 10.946289 235.203125 L 11.040039 235.238281 L 11.067383 235.253906 L 11.161133 235.289062 L 11.188477 235.300781 L 11.219727 235.3125 L 11.250977 235.328125 L 11.27832 235.339844 L 11.30957 235.351562 L 11.34082 235.367188 L 11.37207 235.378906 L 11.399414 235.394531 L 11.461914 235.417969 L 11.489258 235.433594 L 11.520508 235.445312 L 11.551758 235.460938 L 11.583008 235.472656 L 11.610352 235.484375 L 11.641602 235.5 L 11.672852 235.511719 L 11.700195 235.523438 L 11.762695 235.546875 L 11.793945 235.5625 L 11.821289 235.574219 L 11.883789 235.597656 L 11.915039 235.613281 L 11.942383 235.625 L 12.004883 235.648438 L 12.032227 235.664062 L 12.063477 235.675781 L 12.094727 235.683594 L 12.125977 235.695312 L 12.15332 235.707031 L 12.21582 235.730469 L 12.243164 235.738281 L 12.305664 235.761719 L 12.336914 235.769531 L 12.364258 235.78125 L 12.395508 235.789062 L 12.458008 235.8125 L 12.485352 235.820312 L 12.516602 235.832031 L 12.547852 235.839844 L 12.575195 235.851562 L 12.606445 235.859375 L 12.637695 235.871094 L 12.668945 235.878906 L 12.696289 235.890625 L 12.727539 235.898438 L 12.758789 235.910156 L 12.786133 235.917969 L 12.817383 235.929688 L 12.848633 235.9375 L 12.879883 235.949219 L 12.907227 235.957031 L 12.938477 235.96875 L 12.969727 235.976562 L 12.99707 235.988281 L 13.02832 235.996094 L 13.09082 236.019531 L 13.118164 236.027344 L 13.211914 236.0625 L 13.239258 236.070312 L 13.270508 236.082031 L 13.301758 236.089844 L 13.329102 236.101562 L 13.360352 236.109375 L 13.391602 236.121094 L 13.422852 236.128906 L 13.450195 236.140625 L 13.481445 236.148438 L 13.512695 236.160156 L 13.540039 236.167969 L 13.571289 236.179688 L 13.602539 236.1875 L 13.633789 236.199219 L 13.661133 236.207031 L 13.692383 236.21875 L 13.723633 236.226562 L 13.754883 236.238281 L 13.782227 236.246094 L 13.813477 236.253906 L 13.844727 236.265625 L 13.87207 236.273438 L 13.90332 236.285156 L 13.93457 236.292969 L 13.96582 236.304688 L 13.993164 236.3125 L 14.024414 236.324219 L 14.055664 236.332031 L 14.083008 236.34375 L 14.145508 236.359375 L 14.176758 236.371094 L 14.204102 236.378906 L 14.235352 236.386719 L 14.266602 236.398438 L 14.293945 236.40625 L 14.387695 236.429688 L 14.415039 236.441406 L 14.508789 236.464844 L 14.536133 236.476562 L 14.598633 236.492188 L 14.625977 236.5 L 14.657227 236.511719 L 14.719727 236.527344 L 14.74707 236.539062 L 14.80957 236.554688 L 14.836914 236.5625 L 14.868164 236.574219 L 14.930664 236.589844 L 14.958008 236.597656 L 15.051758 236.621094 L 15.079102 236.628906 L 15.141602 236.644531 L 15.168945 236.652344 L 15.262695 236.675781 L 15.290039 236.683594 L 15.352539 236.699219 L 15.379883 236.707031 L 15.411133 236.71875 L 15.473633 236.734375 L 15.500977 236.742188 L 15.563477 236.757812 L 15.59082 236.769531 L 15.65332 236.785156 L 15.68457 236.796875 L 15.711914 236.804688 L 15.743164 236.8125 L 15.805664 236.835938 L 15.833008 236.84375 L 15.864258 236.855469 L 15.895508 236.863281 L 15.922852 236.871094 L 15.954102 236.882812 L 16.016602 236.898438 L 16.043945 236.90625 L 16.075195 236.914062 L 16.106445 236.917969 L 16.133789 236.925781 L 16.227539 236.949219 L 16.254883 236.957031 L 16.317383 236.972656 L 16.348633 236.976562 L 16.375977 236.984375 L 16.438477 237 L 16.46582 237.007812 L 16.49707 237.011719 L 16.55957 237.027344 L 16.586914 237.035156 L 16.618164 237.039062 L 16.649414 237.046875 L 16.676758 237.054688 L 16.739258 237.070312 L 16.770508 237.074219 L 16.797852 237.082031 L 16.860352 237.097656 L 16.887695 237.101562 L 16.981445 237.125 L 17.008789 237.132812 L 17.040039 237.136719 L 17.102539 237.152344 L 17.129883 237.160156 L 17.161133 237.167969 L 17.192383 237.179688 L 17.219727 237.1875 L 17.313477 237.210938 L 17.34082 237.21875 L 17.40332 237.234375 L 17.430664 237.242188 L 17.461914 237.246094 L 17.524414 237.261719 L 17.551758 237.269531 L 17.583008 237.273438 L 17.645508 237.289062 L 17.672852 237.292969 L 17.735352 237.308594 L 17.762695 237.3125 L 17.825195 237.328125 L 17.856445 237.332031 L 17.883789 237.339844 L 17.915039 237.347656 L 17.946289 237.351562 L 17.973633 237.359375 L 18.036133 237.375 L 18.067383 237.378906 L 18.094727 237.390625 L 18.157227 237.40625 L 18.18457 237.417969 L 18.27832 237.441406 L 18.305664 237.449219 L 18.399414 237.472656 L 18.426758 237.480469 L 18.489258 237.496094 L 18.516602 237.503906 L 18.610352 237.527344 L 18.637695 237.535156 L 18.700195 237.550781 L 18.727539 237.558594 L 18.821289 237.582031 L 18.848633 237.589844 L 18.879883 237.59375 L 18.942383 237.609375 L 18.969727 237.613281 L 19.032227 237.628906 L 19.05957 237.632812 L 19.09082 237.640625 L 19.12207 237.644531 L 19.15332 237.652344 L 19.180664 237.660156 L 19.243164 237.675781 L 19.270508 237.679688 L 19.333008 237.695312 L 19.364258 237.699219 L 19.391602 237.707031 L 19.422852 237.714844 L 19.454102 237.71875 L 19.481445 237.726562 L 19.512695 237.730469 L 19.575195 237.746094 L 19.602539 237.75 L 19.665039 237.765625 L 19.696289 237.769531 L 19.723633 237.777344 L 19.786133 237.792969 L 19.813477 237.796875 L 19.844727 237.804688 L 19.875977 237.808594 L 19.907227 237.816406 L 19.93457 237.820312 L 19.99707 237.835938 L 20.024414 237.839844 L 20.055664 237.847656 L 20.086914 237.851562 L 20.118164 237.859375 L 20.145508 237.867188 L 20.176758 237.871094 L 20.239258 237.886719 L 20.266602 237.894531 L 20.297852 237.902344 L 20.329102 237.914062 L 20.356445 237.921875 L 20.418945 237.9375 L 20.450195 237.941406 L 20.477539 237.953125 L 20.540039 237.96875 L 20.567383 237.976562 L 20.598633 237.984375 L 20.629883 237.988281 L 20.661133 237.996094 L 20.688477 238 L 20.750977 238.015625 L 20.77832 238.023438 L 20.87207 238.046875 L 20.899414 238.050781 L 20.930664 238.058594 L 20.961914 238.0625 L 20.993164 238.070312 L 21.020508 238.074219 L 21.051758 238.078125 L 21.083008 238.085938 L 21.110352 238.089844 L 21.141602 238.09375 L 21.172852 238.101562 L 21.204102 238.105469 L 21.231445 238.109375 L 21.262695 238.117188 L 21.293945 238.121094 L 21.321289 238.125 L 21.352539 238.132812 L 21.415039 238.140625 L 21.442383 238.148438 L 21.473633 238.152344 L 21.504883 238.160156 L 21.536133 238.164062 L 21.563477 238.167969 L 21.594727 238.175781 L 21.625977 238.179688 L 21.65332 238.183594 L 21.68457 238.1875 L 21.71582 238.195312 L 21.74707 238.199219 L 21.774414 238.203125 L 21.805664 238.210938 L 21.836914 238.214844 L 21.864258 238.21875 L 21.895508 238.226562 L 21.958008 238.234375 L 21.985352 238.242188 L 22.047852 238.25 L 22.075195 238.257812 L 22.168945 238.269531 L 22.196289 238.277344 L 22.290039 238.289062 L 22.317383 238.296875 L 22.379883 238.304688 L 22.407227 238.308594 L 22.438477 238.3125 L 22.469727 238.320312 L 22.500977 238.324219 L 22.52832 238.328125 L 22.59082 238.335938 L 22.618164 238.339844 L 22.649414 238.347656 L 22.711914 238.355469 L 22.739258 238.359375 L 22.833008 238.371094 L 22.860352 238.378906 L 22.922852 238.386719 L 22.950195 238.390625 L 23.043945 238.402344 L 23.071289 238.40625 L 23.102539 238.414062 L 23.133789 238.417969 L 23.161133 238.421875 L 23.254883 238.433594 L 23.282227 238.4375 L 23.313477 238.445312 L 23.344727 238.449219 L 23.37207 238.453125 L 23.43457 238.460938 L 23.46582 238.46875 L 23.493164 238.472656 L 23.524414 238.480469 L 23.555664 238.484375 L 23.586914 238.492188 L 23.614258 238.5 L 23.676758 238.515625 L 23.704102 238.519531 L 23.735352 238.527344 L 23.766602 238.53125 L 23.797852 238.539062 L 23.825195 238.542969 L 23.887695 238.550781 L 23.915039 238.554688 L 23.946289 238.5625 L 24.008789 238.570312 L 24.036133 238.574219 L 24.067383 238.582031 L 24.098633 238.585938 L 24.129883 238.59375 L 24.157227 238.597656 L 24.188477 238.605469 L 24.219727 238.609375 L 24.24707 238.617188 L 24.27832 238.621094 L 24.30957 238.628906 L 24.34082 238.632812 L 24.368164 238.640625 L 24.399414 238.644531 L 24.430664 238.652344 L 24.458008 238.65625 L 24.489258 238.664062 L 24.520508 238.667969 L 24.551758 238.675781 L 24.579102 238.679688 L 24.610352 238.6875 L 24.641602 238.691406 L 24.668945 238.699219 L 24.700195 238.703125 L 24.731445 238.710938 L 24.762695 238.714844 L 24.790039 238.722656 L 24.883789 238.746094 L 24.911133 238.75 L 24.973633 238.765625 L 25.000977 238.769531 L 25.032227 238.777344 L 25.063477 238.78125 L 25.094727 238.789062 L 25.12207 238.792969 L 25.18457 238.800781 L 25.211914 238.808594 L 25.305664 238.820312 L 25.333008 238.824219 L 25.426758 238.835938 L 25.454102 238.84375 L 25.516602 238.851562 L 25.543945 238.855469 L 25.606445 238.863281 L 25.637695 238.871094 L 25.665039 238.875 L 25.696289 238.882812 L 25.727539 238.886719 L 25.754883 238.894531 L 25.817383 238.902344 L 25.848633 238.910156 L 25.875977 238.914062 L 25.938477 238.921875 L 25.96582 238.929688 L 26.05957 238.941406 L 26.086914 238.949219 L 26.180664 238.960938 L 26.208008 238.964844 L 26.239258 238.96875 L 26.270508 238.976562 L 26.297852 238.980469 L 26.329102 238.984375 L 26.360352 238.992188 L 26.391602 238.996094 L 26.418945 239 L 26.450195 239.007812 L 26.481445 239.011719 L 26.508789 239.015625 L 26.602539 239.027344 L 26.629883 239.03125 L 26.723633 239.042969 L 26.750977 239.046875 L 26.813477 239.054688 L 26.84082 239.058594 L 26.93457 239.070312 L 26.961914 239.074219 L 27.024414 239.082031 L 27.051758 239.085938 L 27.145508 239.097656 L 27.172852 239.101562 L 27.235352 239.109375 L 27.262695 239.113281 L 27.356445 239.125 L 27.383789 239.128906 L 27.477539 239.140625 L 27.504883 239.144531 L 27.567383 239.152344 L 27.594727 239.15625 L 27.688477 239.167969 L 27.71582 239.171875 L 27.77832 239.179688 L 27.805664 239.183594 L 27.899414 239.195312 L 27.926758 239.199219 L 28.020508 239.210938 L 28.047852 239.210938 L 28.110352 239.21875 L 28.137695 239.222656 L 28.231445 239.234375 L 28.258789 239.238281 L 28.290039 239.238281 L 28.321289 239.242188 L 28.348633 239.246094 L 28.442383 239.257812 L 28.469727 239.261719 L 28.500977 239.265625 L 28.532227 239.265625 L 28.55957 239.269531 L 28.65332 239.28125 L 28.680664 239.285156 L 28.743164 239.292969 L 28.774414 239.292969 L 28.801758 239.296875 L 28.864258 239.304688 L 28.891602 239.308594 L 28.985352 239.320312 L 29.012695 239.320312 L 29.075195 239.328125 L 29.102539 239.332031 L 29.196289 239.34375 L 29.223633 239.34375 L 29.317383 239.355469 L 29.344727 239.359375 L 29.407227 239.367188 L 29.43457 239.367188 L 29.52832 239.378906 L 29.555664 239.382812 L 29.586914 239.382812 L 29.618164 239.386719 L 29.645508 239.390625 L 29.739258 239.402344 L 29.766602 239.402344 L 29.829102 239.410156 L 29.856445 239.414062 L 29.918945 239.421875 L 29.950195 239.421875 L 29.977539 239.425781 L 30.071289 239.4375 L 30.098633 239.441406 L 30.161133 239.449219 L 30.188477 239.453125 L 30.282227 239.464844 L 30.30957 239.46875 L 30.37207 239.476562 L 30.399414 239.480469 L 30.493164 239.492188 L 30.520508 239.496094 L 30.551758 239.496094 L 30.614258 239.503906 L 30.641602 239.507812 L 30.704102 239.515625 L 30.731445 239.515625 L 30.825195 239.527344 L 30.852539 239.53125 L 30.883789 239.53125 L 30.915039 239.535156 L 30.942383 239.539062 L 30.973633 239.542969 L 31.004883 239.542969 L 31.036133 239.546875 L 31.063477 239.550781 L 31.125977 239.558594 L 31.15332 239.558594 L 31.24707 239.570312 L 31.274414 239.570312 L 31.368164 239.582031 L 31.395508 239.585938 L 31.426758 239.589844 L 31.458008 239.589844 L 31.485352 239.59375 L 31.579102 239.605469 L 31.606445 239.609375 L 31.668945 239.617188 L 31.696289 239.621094 L 31.727539 239.621094 L 31.790039 239.628906 L 31.817383 239.632812 L 31.848633 239.636719 L 31.879883 239.636719 L 31.911133 239.640625 L 31.938477 239.644531 L 31.969727 239.648438 L 32.000977 239.648438 L 32.02832 239.652344 L 32.09082 239.660156 L 32.12207 239.660156 L 32.149414 239.664062 L 32.211914 239.671875 L 32.239258 239.671875 L 32.333008 239.683594 L 32.360352 239.683594 L 32.422852 239.691406 L 32.450195 239.691406 L 32.543945 239.703125 L 32.571289 239.703125 L 32.633789 239.710938 L 32.665039 239.710938 L 32.692383 239.714844 L 32.754883 239.722656 L 32.782227 239.722656 L 32.844727 239.730469 L 32.875977 239.730469 L 32.90332 239.734375 L 32.96582 239.742188 L 32.993164 239.742188 L 33.055664 239.75 L 33.086914 239.75 L 33.114258 239.753906 L 33.176758 239.761719 L 33.208008 239.761719 L 33.235352 239.765625 L 33.297852 239.773438 L 33.325195 239.777344 L 33.356445 239.785156 L 33.418945 239.792969 L 33.446289 239.796875 L 33.508789 239.804688 L 33.536133 239.808594 L 33.567383 239.808594 L 33.629883 239.816406 L 33.657227 239.820312 L 33.719727 239.828125 L 33.74707 239.832031 L 33.84082 239.84375 L 33.868164 239.847656 L 33.930664 239.855469 L 33.961914 239.855469 L 33.989258 239.859375 L 34.020508 239.863281 L 34.051758 239.863281 L 34.079102 239.867188 L 34.141602 239.875 L 34.172852 239.875 L 34.200195 239.878906 L 34.231445 239.882812 L 34.262695 239.882812 L 34.290039 239.886719 L 34.321289 239.890625 L 34.352539 239.890625 L 34.383789 239.894531 L 34.411133 239.894531 L 34.473633 239.902344 L 34.504883 239.902344 L 34.532227 239.90625 L 34.563477 239.910156 L 34.594727 239.910156 L 34.62207 239.914062 L 34.65332 239.917969 L 34.68457 239.917969 L 34.71582 239.921875 L 34.743164 239.925781 L 34.774414 239.925781 L 34.805664 239.929688 L 34.833008 239.933594 L 34.864258 239.9375 L 34.895508 239.9375 L 34.926758 239.941406 L 34.954102 239.945312 L 34.985352 239.945312 L 35.016602 239.949219 L 35.043945 239.953125 L 35.106445 239.960938 L 35.137695 239.960938 L 35.165039 239.964844 L 35.227539 239.972656 L 35.258789 239.972656 L 35.286133 239.976562 L 35.348633 239.984375 L 35.375977 239.984375 L 35.438477 239.992188 L 35.469727 239.992188 L 35.49707 239.996094 L 35.52832 240 L 35.55957 240 L 35.586914 240.003906 L 35.618164 240.007812 L 35.649414 240.007812 L 35.680664 240.011719 L 35.708008 240.011719 L 35.770508 240.019531 L 35.801758 240.019531 L 35.829102 240.023438 L 35.860352 240.023438 L 35.891602 240.027344 L 35.918945 240.03125 L 35.950195 240.03125 L 35.981445 240.035156 L 36.012695 240.035156 L 36.040039 240.039062 L 36.071289 240.042969 L 36.102539 240.042969 L 36.129883 240.046875 L 36.161133 240.046875 L 36.192383 240.050781 L 36.223633 240.050781 L 36.250977 240.054688 L 36.282227 240.058594 L 36.313477 240.058594 L 36.34082 240.0625 L 36.37207 240.0625 L 36.40332 240.066406 L 36.43457 240.066406 L 36.461914 240.070312 L 36.493164 240.074219 L 36.524414 240.074219 L 36.555664 240.078125 L 36.583008 240.078125 L 36.614258 240.082031 L 36.645508 240.082031 L 36.672852 240.085938 L 36.704102 240.089844 L 36.735352 240.089844 L 36.766602 240.09375 L 36.793945 240.09375 L 36.825195 240.097656 L 36.856445 240.097656 L 36.883789 240.101562 L 36.915039 240.101562 L 36.946289 240.105469 L 36.977539 240.105469 L 37.004883 240.109375 L 37.036133 240.113281 L 37.067383 240.113281 L 37.098633 240.117188 L 37.125977 240.117188 L 37.157227 240.121094 L 37.188477 240.121094 L 37.21582 240.125 L 37.24707 240.125 L 37.27832 240.128906 L 37.30957 240.128906 L 37.336914 240.132812 L 37.368164 240.132812 L 37.399414 240.136719 L 37.426758 240.140625 L 37.458008 240.140625 L 37.489258 240.144531 L 37.520508 240.144531 L 37.547852 240.148438 L 37.579102 240.148438 L 37.610352 240.152344 L 37.637695 240.152344 L 37.668945 240.15625 L 37.700195 240.15625 L 37.731445 240.160156 L 37.758789 240.160156 L 37.790039 240.164062 L 37.821289 240.164062 L 37.852539 240.167969 L 37.879883 240.167969 L 37.942383 240.175781 L 37.969727 240.175781 L 38.000977 240.179688 L 38.032227 240.179688 L 38.063477 240.183594 L 38.09082 240.183594 L 38.12207 240.1875 L 38.15332 240.1875 L 38.180664 240.191406 L 38.211914 240.191406 L 38.243164 240.195312 L 38.274414 240.195312 L 38.301758 240.199219 L 38.333008 240.199219 L 38.364258 240.203125 L 38.395508 240.203125 L 38.422852 240.207031 L 38.454102 240.207031 L 38.485352 240.210938 L 38.512695 240.210938 L 38.543945 240.214844 L 38.575195 240.214844 L 38.606445 240.21875 L 38.633789 240.21875 L 38.665039 240.222656 L 38.696289 240.222656 L 38.723633 240.226562 L 38.754883 240.226562 L 38.786133 240.230469 L 38.817383 240.230469 L 38.844727 240.234375 L 38.875977 240.234375 L 38.907227 240.238281 L 38.93457 240.238281 L 38.96582 240.242188 L 38.99707 240.242188 L 39.02832 240.246094 L 39.055664 240.246094 L 39.086914 240.25 L 39.118164 240.25 L 39.149414 240.253906 L 39.176758 240.253906 L 39.208008 240.257812 L 39.239258 240.257812 L 39.266602 240.261719 L 39.297852 240.261719 L 39.329102 240.265625 L 39.360352 240.265625 L 39.387695 240.269531 L 39.418945 240.269531 L 39.450195 240.273438 L 39.477539 240.273438 L 39.508789 240.277344 L 39.540039 240.277344 L 39.571289 240.28125 L 39.598633 240.28125 L 39.629883 240.285156 L 39.661133 240.285156 L 39.692383 240.289062 L 39.750977 240.289062 L 39.782227 240.292969 L 39.80957 240.292969 L 39.84082 240.296875 L 39.87207 240.296875 L 39.90332 240.300781 L 39.930664 240.300781 L 39.961914 240.304688 L 39.993164 240.304688 L 40.020508 240.308594 L 40.051758 240.308594 L 40.083008 240.3125 L 40.114258 240.3125 L 40.141602 240.316406 L 40.172852 240.316406 L 40.204102 240.320312 L 40.231445 240.320312 L 40.262695 240.324219 L 40.325195 240.324219 L 40.352539 240.328125 L 40.383789 240.328125 L 40.415039 240.332031 L 40.446289 240.332031 L 40.473633 240.335938 L 40.504883 240.335938 L 40.536133 240.339844 L 40.563477 240.339844 L 40.594727 240.34375 L 40.625977 240.34375 L 40.657227 240.347656 L 40.68457 240.347656 L 40.71582 240.351562 L 40.774414 240.351562 L 40.805664 240.355469 L 40.836914 240.355469 L 40.868164 240.359375 L 40.895508 240.359375 L 40.926758 240.363281 L 40.958008 240.363281 L 40.989258 240.367188 L 41.016602 240.367188 L 41.047852 240.371094 L 41.106445 240.371094 L 41.137695 240.375 L 41.168945 240.375 L 41.200195 240.378906 L 41.227539 240.378906 L 41.258789 240.382812 L 41.290039 240.382812 L 41.317383 240.386719 L 41.348633 240.386719 L 41.379883 240.390625 L 41.438477 240.390625 L 41.469727 240.394531 L 41.500977 240.394531 L 41.52832 240.398438 L 41.55957 240.398438 L 41.59082 240.402344 L 41.62207 240.402344 L 41.649414 240.40625 L 41.711914 240.40625 L 41.743164 240.410156 L 41.770508 240.410156 L 41.801758 240.414062 L 41.833008 240.414062 L 41.860352 240.417969 L 41.922852 240.417969 L 41.954102 240.421875 L 41.981445 240.421875 L 42.012695 240.425781 L 42.043945 240.425781 L 42.071289 240.429688 L 42.102539 240.429688 L 42.133789 240.433594 L 42.192383 240.433594 L 42.223633 240.4375 L 42.254883 240.4375 L 42.286133 240.441406 L 42.313477 240.441406 L 42.344727 240.445312 L 42.40332 240.445312 L 42.43457 240.449219 L 42.46582 240.449219 L 42.49707 240.453125 L 42.524414 240.453125 L 42.555664 240.457031 L 42.614258 240.457031 L 42.645508 240.460938 L 42.676758 240.460938 L 42.708008 240.464844 L 42.735352 240.464844 L 42.766602 240.46875 L 42.825195 240.46875 L 42.856445 240.472656 L 42.887695 240.472656 L 42.918945 240.476562 L 42.977539 240.476562 L 43.008789 240.480469 L 43.040039 240.480469 L 43.067383 240.484375 L 43.098633 240.484375 L 43.129883 240.488281 L 43.188477 240.488281 L 43.219727 240.492188 L 43.250977 240.492188 L 43.27832 240.496094 L 43.30957 240.496094 L 43.34082 240.5 L 43.399414 240.5 L 43.430664 240.503906 L 43.461914 240.503906 L 43.489258 240.507812 L 43.551758 240.507812 L 43.583008 240.511719 L 43.610352 240.511719 L 43.641602 240.515625 L 43.672852 240.515625 L 43.700195 240.519531 L 43.762695 240.519531 L 43.793945 240.523438 L 43.821289 240.523438 L 43.852539 240.527344 L 43.911133 240.527344 L 43.942383 240.53125 L 43.973633 240.53125 L 44.004883 240.535156 L 44.063477 240.535156 L 44.094727 240.539062 L 44.12207 240.539062 L 44.15332 240.542969 L 44.18457 240.542969 L 44.21582 240.546875 L 44.274414 240.546875 L 44.305664 240.550781 L 44.336914 240.550781 L 44.364258 240.554688 L 44.395508 240.554688 L 44.426758 240.558594 L 44.485352 240.558594 L 44.516602 240.5625 L 44.547852 240.5625 L 44.575195 240.566406 L 44.606445 240.566406 L 44.637695 240.570312 L 44.665039 240.570312 L 44.696289 240.574219 L 44.727539 240.574219 L 44.758789 240.578125 L 44.786133 240.578125 L 44.817383 240.582031 L 44.848633 240.582031 L 44.879883 240.585938 L 44.907227 240.585938 L 44.969727 240.59375 L 44.99707 240.59375 L 45.02832 240.597656 L 45.09082 240.597656 L 45.118164 240.601562 L 45.149414 240.601562 L 45.180664 240.605469 L 45.208008 240.605469 L 45.239258 240.609375 L 45.301758 240.609375 L 45.329102 240.613281 L 45.360352 240.613281 L 45.391602 240.617188 L 45.450195 240.617188 L 45.481445 240.621094 L 45.512695 240.621094 L 45.540039 240.625 L 45.571289 240.625 L 45.602539 240.628906 L 45.661133 240.628906 L 45.692383 240.632812 L 45.750977 240.632812 L 45.782227 240.636719 L 45.813477 240.636719 L 45.844727 240.640625 L 45.90332 240.640625 L 45.93457 240.644531 L 45.961914 240.644531 L 45.993164 240.648438 L 46.055664 240.648438 L 46.083008 240.652344 L 46.114258 240.652344 L 46.145508 240.65625 L 46.204102 240.65625 L 46.235352 240.660156 L 46.293945 240.660156 L 46.325195 240.664062 L 46.356445 240.664062 L 46.387695 240.667969 L 46.446289 240.667969 L 46.477539 240.671875 L 46.504883 240.671875 L 46.536133 240.675781 L 46.598633 240.675781 L 46.625977 240.679688 L 46.688477 240.679688 L 46.719727 240.683594 L 46.77832 240.683594 L 46.80957 240.6875 L 46.836914 240.6875 L 46.868164 240.691406 L 46.930664 240.691406 L 46.958008 240.695312 L 47.020508 240.695312 L 47.047852 240.699219 L 47.079102 240.699219 L 47.110352 240.703125 L 47.168945 240.703125 L 47.200195 240.707031 L 47.258789 240.707031 L 47.290039 240.710938 L 47.321289 240.710938 L 47.352539 240.714844 L 47.411133 240.714844 L 47.442383 240.71875 L 47.500977 240.71875 L 47.532227 240.722656 L 47.563477 240.722656 L 47.59082 240.726562 L 47.65332 240.726562 L 47.68457 240.730469 L 47.711914 240.730469 L 47.774414 240.738281 L 47.801758 240.738281 L 47.833008 240.742188 L 47.864258 240.742188 L 47.895508 240.746094 L 47.922852 240.75 L 47.954102 240.75 L 47.985352 240.753906 L 48.016602 240.753906 L 48.043945 240.757812 L 48.075195 240.757812 L 48.106445 240.761719 L 48.133789 240.761719 L 48.165039 240.765625 L 48.227539 240.765625 L 48.254883 240.769531 L 48.317383 240.769531 L 48.344727 240.773438 L 48.375977 240.773438 L 48.407227 240.777344 L 48.46582 240.777344 L 48.49707 240.78125 L 48.555664 240.78125 L 48.586914 240.785156 L 48.649414 240.785156 L 48.676758 240.789062 L 48.708008 240.789062 L 48.739258 240.792969 L 48.797852 240.792969 L 48.829102 240.796875 L 48.887695 240.796875 L 48.918945 240.800781 L 48.981445 240.800781 L 49.008789 240.804688 L 49.071289 240.804688 L 49.098633 240.808594 L 49.161133 240.808594 L 49.192383 240.8125 L 49.250977 240.8125 L 49.282227 240.816406 L 49.34082 240.816406 L 49.37207 240.820312 L 49.430664 240.820312 L 49.461914 240.824219 L 49.524414 240.824219 L 49.551758 240.828125 L 49.614258 240.828125 L 49.641602 240.832031 L 49.704102 240.832031 L 49.735352 240.835938 L 49.793945 240.835938 L 49.825195 240.839844 L 49.915039 240.839844 L 49.946289 240.84375 L 50.004883 240.84375 L 50.036133 240.847656 L 50.094727 240.847656 L 50.125977 240.851562 L 50.18457 240.851562 L 50.21582 240.855469 L 50.27832 240.855469 L 50.305664 240.859375 L 50.368164 240.859375 L 50.395508 240.863281 L 50.458008 240.863281 L 50.489258 240.867188 L 50.579102 240.867188 L 50.610352 240.871094 L 50.668945 240.871094 L 50.700195 240.875 L 50.758789 240.875 L 50.790039 240.878906 L 50.848633 240.878906 L 50.879883 240.882812 L 50.969727 240.882812 L 51.000977 240.886719 L 51.05957 240.886719 L 51.09082 240.890625 L 51.149414 240.890625 L 51.180664 240.894531 L 51.243164 240.894531 L 51.270508 240.898438 L 51.364258 240.898438 L 51.391602 240.902344 L 51.454102 240.902344 L 51.481445 240.90625 L 51.543945 240.90625 L 51.575195 240.910156 L 51.665039 240.910156 L 51.692383 240.914062 L 51.754883 240.914062 L 51.786133 240.917969 L 51.875977 240.917969 L 51.907227 240.921875 L 51.96582 240.921875 L 51.99707 240.925781 L 52.055664 240.925781 L 52.086914 240.929688 L 52.176758 240.929688 L 52.208008 240.933594 L 52.266602 240.933594 L 52.297852 240.9375 L 52.387695 240.9375 L 52.418945 240.941406 L 52.477539 240.941406 L 52.508789 240.945312 L 52.567383 240.945312 L 52.598633 240.949219 L 52.688477 240.949219 L 52.719727 240.953125 L 52.77832 240.953125 L 52.80957 240.957031 L 52.899414 240.957031 L 52.930664 240.960938 L 52.989258 240.960938 L 53.020508 240.964844 L 53.110352 240.964844 L 53.141602 240.96875 L 53.231445 240.96875 L 53.262695 240.972656 L 53.321289 240.972656 L 53.352539 240.976562 L 53.442383 240.976562 L 53.473633 240.980469 L 53.532227 240.980469 L 53.563477 240.984375 L 53.65332 240.984375 L 53.68457 240.988281 L 53.743164 240.988281 L 53.774414 240.992188 L 53.864258 240.992188 L 53.895508 240.996094 L 53.985352 240.996094 L 54.016602 241 L 54.075195 241 L 54.106445 241.003906 L 54.196289 241.003906 L 54.227539 241.007812 L 54.286133 241.007812 L 54.317383 241.011719 L 54.407227 241.011719 L 54.438477 241.015625 L 54.52832 241.015625 L 54.55957 241.019531 L 54.618164 241.019531 L 54.649414 241.023438 L 54.739258 241.023438 L 54.770508 241.027344 L 54.860352 241.027344 L 54.891602 241.03125 L 54.981445 241.03125 L 55.012695 241.035156 L 55.071289 241.035156 L 55.102539 241.039062 L 55.192383 241.039062 L 55.223633 241.042969 L 55.313477 241.042969 L 55.344727 241.046875 L 55.40332 241.046875 L 55.43457 241.050781 L 55.524414 241.050781 L 55.555664 241.054688 L 55.645508 241.054688 L 55.676758 241.058594 L 55.766602 241.058594 L 55.797852 241.0625 L 55.856445 241.0625 L 55.887695 241.066406 L 55.977539 241.066406 L 56.008789 241.070312 L 56.098633 241.070312 L 56.125977 241.074219 L 56.188477 241.074219 L 56.219727 241.078125 L 56.30957 241.078125 L 56.336914 241.082031 L 56.399414 241.082031 L 56.430664 241.085938 L 56.489258 241.085938 L 56.520508 241.089844 L 56.551758 241.089844 L 56.579102 241.09375 L 56.610352 241.09375 L 56.641602 241.097656 L 56.668945 241.097656 L 56.700195 241.101562 L 56.731445 241.101562 L 56.762695 241.105469 L 56.790039 241.105469 L 56.821289 241.109375 L 56.879883 241.109375 L 56.911133 241.113281 L 56.973633 241.113281 L 57.000977 241.117188 L 57.063477 241.117188 L 57.094727 241.121094 L 57.18457 241.121094 L 57.211914 241.125 L 57.243164 241.125 L 57.274414 241.128906 L 57.333008 241.128906 L 57.364258 241.132812 L 57.395508 241.132812 L 57.422852 241.136719 L 57.485352 241.136719 L 57.516602 241.140625 L 57.543945 241.140625 L 57.575195 241.144531 L 57.633789 241.144531 L 57.665039 241.148438 L 57.727539 241.148438 L 57.754883 241.152344 L 57.817383 241.152344 L 57.848633 241.15625 L 57.938477 241.15625 L 57.96582 241.160156 L 58.02832 241.160156 L 58.05957 241.164062 L 58.149414 241.164062 L 58.176758 241.167969 L 58.270508 241.167969 L 58.297852 241.171875 L 58.391602 241.171875 L 58.418945 241.175781 L 58.508789 241.175781 L 58.540039 241.179688 L 58.629883 241.179688 L 58.661133 241.183594 L 58.750977 241.183594 L 58.782227 241.1875 L 58.87207 241.1875 L 58.90332 241.191406 L 58.993164 241.191406 L 59.024414 241.195312 L 59.114258 241.195312 L 59.145508 241.199219 L 59.235352 241.199219 L 59.262695 241.203125 L 59.356445 241.203125 L 59.383789 241.207031 L 59.473633 241.207031 L 59.504883 241.210938 L 59.594727 241.210938 L 59.625977 241.214844 L 59.71582 241.214844 L 59.74707 241.21875 L 59.868164 241.21875 L 59.899414 241.222656 L 59.989258 241.222656 L 60.016602 241.226562 L 60.110352 241.226562 L 60.137695 241.230469 L 60.227539 241.230469 L 60.258789 241.234375 L 60.348633 241.234375 L 60.379883 241.238281 L 60.469727 241.238281 L 60.500977 241.242188 L 60.59082 241.242188 L 60.62207 241.246094 L 60.680664 241.246094 L 60.711914 241.25 L 60.770508 241.25 L 60.801758 241.253906 L 60.864258 241.253906 L 60.891602 241.257812 L 60.954102 241.257812 L 60.985352 241.261719 L 61.012695 241.261719 L 61.043945 241.265625 L 61.133789 241.265625 L 61.165039 241.269531 L 61.223633 241.269531 L 61.254883 241.273438 L 61.344727 241.273438 L 61.375977 241.277344 L 61.46582 241.277344 L 61.49707 241.28125 L 61.586914 241.28125 L 61.618164 241.285156 L 61.739258 241.285156 L 61.766602 241.289062 L 61.856445 241.289062 L 61.887695 241.292969 L 61.977539 241.292969 L 62.008789 241.296875 L 62.129883 241.296875 L 62.161133 241.300781 L 62.250977 241.300781 L 62.282227 241.304688 L 62.399414 241.304688 L 62.430664 241.308594 L 62.520508 241.308594 L 62.551758 241.3125 L 62.672852 241.3125 L 62.704102 241.316406 L 62.793945 241.316406 L 62.821289 241.320312 L 62.942383 241.320312 L 62.973633 241.324219 L 63.094727 241.324219 L 63.125977 241.328125 L 63.21582 241.328125 L 63.24707 241.332031 L 63.364258 241.332031 L 63.395508 241.335938 L 63.516602 241.335938 L 63.547852 241.339844 L 63.637695 241.339844 L 63.668945 241.34375 L 63.790039 241.34375 L 63.817383 241.347656 L 63.938477 241.347656 L 63.969727 241.351562 L 64.05957 241.351562 L 64.09082 241.355469 L 64.211914 241.355469 L 64.239258 241.359375 L 64.301758 241.359375 L 64.333008 241.363281 L 64.391602 241.363281 L 64.422852 241.367188 L 64.450195 241.367188 L 64.481445 241.371094 L 64.512695 241.371094 L 64.543945 241.375 L 64.571289 241.375 L 64.602539 241.378906 L 64.661133 241.378906 L 64.692383 241.382812 L 64.754883 241.382812 L 64.782227 241.386719 L 64.875977 241.386719 L 64.90332 241.390625 L 65.024414 241.390625 L 65.055664 241.394531 L 65.145508 241.394531 L 65.176758 241.398438 L 65.297852 241.398438 L 65.325195 241.402344 L 65.415039 241.402344 L 65.446289 241.40625 L 65.567383 241.40625 L 65.598633 241.410156 L 65.719727 241.410156 L 65.74707 241.414062 L 65.868164 241.414062 L 65.899414 241.417969 L 66.020508 241.417969 L 66.051758 241.421875 L 66.172852 241.421875 L 66.200195 241.425781 L 66.321289 241.425781 L 66.352539 241.429688 L 66.473633 241.429688 L 66.500977 241.433594 L 66.594727 241.433594 L 66.62207 241.4375 L 66.743164 241.4375 L 66.774414 241.441406 L 66.895508 241.441406 L 66.926758 241.445312 L 67.016602 241.445312 L 67.043945 241.449219 L 67.106445 241.449219 L 67.137695 241.453125 L 67.196289 241.453125 L 67.227539 241.457031 L 67.286133 241.457031 L 67.348633 241.464844 L 67.375977 241.464844 L 67.438477 241.472656 L 67.469727 241.472656 L 67.49707 241.476562 L 67.52832 241.480469 L 67.55957 241.480469 L 67.586914 241.484375 L 67.649414 241.484375 L 67.680664 241.488281 L 67.708008 241.488281 L 67.739258 241.492188 L 67.829102 241.492188 L 67.860352 241.496094 L 67.918945 241.496094 L 67.950195 241.5 L 68.071289 241.5 L 68.102539 241.503906 L 68.192383 241.503906 L 68.223633 241.507812 L 68.34082 241.507812 L 68.37207 241.511719 L 68.493164 241.511719 L 68.524414 241.515625 L 68.645508 241.515625 L 68.672852 241.519531 L 68.793945 241.519531 L 68.825195 241.523438 L 68.946289 241.523438 L 68.977539 241.527344 L 69.094727 241.527344 L 69.125977 241.53125 L 69.27832 241.53125 L 69.305664 241.535156 L 69.426758 241.535156 L 69.458008 241.539062 L 69.610352 241.539062 L 69.637695 241.542969 L 69.758789 241.542969 L 69.790039 241.546875 L 69.942383 241.546875 L 69.969727 241.550781 L 70.09082 241.550781 L 70.12207 241.554688 L 70.274414 241.554688 L 70.301758 241.558594 L 70.454102 241.558594 L 70.485352 241.5625 L 70.633789 241.5625 L 70.665039 241.566406 L 70.786133 241.566406 L 70.817383 241.570312 L 70.96582 241.570312 L 70.99707 241.574219 L 71.145508 241.574219 L 71.176758 241.578125 L 71.329102 241.578125 L 71.360352 241.582031 L 71.508789 241.582031 L 71.540039 241.585938 L 71.688477 241.585938 L 71.719727 241.589844 L 71.87207 241.589844 L 71.899414 241.59375 L 72.051758 241.59375 L 72.083008 241.597656 L 72.231445 241.597656 L 72.262695 241.601562 L 72.415039 241.601562 L 72.442383 241.605469 L 72.594727 241.605469 L 72.625977 241.609375 L 72.774414 241.609375 L 72.805664 241.613281 L 72.958008 241.613281 L 72.985352 241.617188 L 73.106445 241.617188 L 73.137695 241.621094 L 73.258789 241.621094 L 73.290039 241.625 L 73.379883 241.625 L 73.411133 241.628906 L 73.469727 241.628906 L 73.500977 241.632812 L 73.55957 241.632812 L 73.59082 241.636719 L 73.649414 241.636719 L 73.680664 241.640625 L 73.770508 241.640625 L 73.801758 241.644531 L 73.891602 241.644531 L 73.922852 241.648438 L 74.043945 241.648438 L 74.071289 241.652344 L 74.223633 241.652344 L 74.254883 241.65625 L 74.375977 241.65625 L 74.40332 241.660156 L 74.555664 241.660156 L 74.586914 241.664062 L 74.735352 241.664062 L 74.766602 241.667969 L 74.946289 241.667969 L 74.977539 241.671875 L 75.129883 241.671875 L 75.157227 241.675781 L 75.30957 241.675781 L 75.34082 241.679688 L 75.520508 241.679688 L 75.551758 241.683594 L 75.700195 241.683594 L 75.731445 241.6875 L 75.911133 241.6875 L 75.942383 241.691406 L 76.094727 241.691406 L 76.12207 241.695312 L 76.305664 241.695312 L 76.333008 241.699219 L 76.516602 241.699219 L 76.547852 241.703125 L 76.727539 241.703125 L 76.758789 241.707031 L 76.938477 241.707031 L 76.969727 241.710938 L 77.118164 241.710938 L 77.149414 241.714844 L 77.329102 241.714844 L 77.360352 241.71875 L 77.540039 241.71875 L 77.571289 241.722656 L 77.750977 241.722656 L 77.782227 241.726562 L 77.993164 241.726562 L 78.024414 241.730469 L 78.204102 241.730469 L 78.235352 241.734375 L 78.415039 241.734375 L 78.446289 241.738281 L 78.625977 241.738281 L 78.657227 241.742188 L 78.836914 241.742188 L 78.868164 241.746094 L 79.047852 241.746094 L 79.079102 241.75 L 79.290039 241.75 L 79.321289 241.753906 L 79.500977 241.753906 L 79.532227 241.757812 L 79.711914 241.757812 L 79.743164 241.761719 L 79.922852 241.761719 L 79.954102 241.765625 L 80.165039 241.765625 L 80.196289 241.769531 L 80.375977 241.769531 L 80.407227 241.773438 L 80.586914 241.773438 L 80.618164 241.777344 L 80.829102 241.777344 L 80.860352 241.78125 L 81.040039 241.78125 L 81.071289 241.785156 L 81.282227 241.785156 L 81.30957 241.789062 L 81.520508 241.789062 L 81.551758 241.792969 L 81.735352 241.792969 L 81.762695 241.796875 L 81.973633 241.796875 L 82.004883 241.800781 L 82.21582 241.800781 L 82.24707 241.804688 L 82.458008 241.804688 L 82.489258 241.808594 L 82.668945 241.808594 L 82.700195 241.8125 L 82.911133 241.8125 L 82.938477 241.816406 L 83.149414 241.816406 L 83.180664 241.820312 L 83.391602 241.820312 L 83.422852 241.824219 L 83.633789 241.824219 L 83.665039 241.828125 L 83.875977 241.828125 L 83.90332 241.832031 L 84.114258 241.832031 L 84.145508 241.835938 L 84.356445 241.835938 L 84.387695 241.839844 L 84.629883 241.839844 L 84.657227 241.84375 L 84.87207 241.84375 L 84.899414 241.847656 L 85.110352 241.847656 L 85.141602 241.851562 L 85.352539 241.851562 L 85.383789 241.855469 L 85.625977 241.855469 L 85.65332 241.859375 L 85.864258 241.859375 L 85.895508 241.863281 L 86.106445 241.863281 L 86.137695 241.867188 L 86.379883 241.867188 L 86.407227 241.871094 L 86.618164 241.871094 L 86.649414 241.875 L 86.891602 241.875 L 86.922852 241.878906 L 87.133789 241.878906 L 87.161133 241.882812 L 87.40332 241.882812 L 87.43457 241.886719 L 87.676758 241.886719 L 87.704102 241.890625 L 87.915039 241.890625 L 87.946289 241.894531 L 88.188477 241.894531 L 88.219727 241.898438 L 88.458008 241.898438 L 88.489258 241.902344 L 88.731445 241.902344 L 88.762695 241.90625 L 89.000977 241.90625 L 89.032227 241.910156 L 89.274414 241.910156 L 89.301758 241.914062 L 89.543945 241.914062 L 89.575195 241.917969 L 89.817383 241.917969 L 89.844727 241.921875 L 90.086914 241.921875 L 90.118164 241.925781 L 90.360352 241.925781 L 90.387695 241.929688 L 90.629883 241.929688 L 90.661133 241.933594 L 90.90332 241.933594 L 90.930664 241.9375 L 91.204102 241.9375 L 91.235352 241.941406 L 91.473633 241.941406 L 91.504883 241.945312 L 91.74707 241.945312 L 91.77832 241.949219 L 92.047852 241.949219 L 92.079102 241.953125 L 92.321289 241.953125 L 92.348633 241.957031 L 92.62207 241.957031 L 92.65332 241.960938 L 92.891602 241.960938 L 92.922852 241.964844 L 93.192383 241.964844 L 93.223633 241.96875 L 93.46582 241.96875 L 93.49707 241.972656 L 93.766602 241.972656 L 93.797852 241.976562 L 94.040039 241.976562 L 94.067383 241.980469 L 94.34082 241.980469 L 94.37207 241.984375 L 94.641602 241.984375 L 94.672852 241.988281 L 94.915039 241.988281 L 94.942383 241.992188 L 95.21582 241.992188 L 95.24707 241.996094 L 95.516602 241.996094 L 95.547852 242 L 95.786133 242 L 95.817383 242.003906 L 96.09082 242.003906 L 96.118164 242.007812 L 96.391602 242.007812 L 96.422852 242.011719 L 96.692383 242.011719 L 96.723633 242.015625 L 96.96582 242.015625 L 96.993164 242.019531 L 97.266602 242.019531 L 97.297852 242.023438 L 97.567383 242.023438 L 97.598633 242.027344 L 97.868164 242.027344 L 97.899414 242.03125 L 98.141602 242.03125 L 98.168945 242.035156 L 98.442383 242.035156 L 98.473633 242.039062 L 98.711914 242.039062 L 98.743164 242.042969 L 98.954102 242.042969 L 98.985352 242.046875 L 99.165039 242.046875 L 99.196289 242.050781 L 99.317383 242.050781 L 99.348633 242.054688 L 99.438477 242.054688 L 99.46582 242.058594 L 99.52832 242.058594 L 99.55957 242.0625 L 99.649414 242.0625 L 99.676758 242.066406 L 99.770508 242.066406 L 99.797852 242.070312 L 99.918945 242.070312 L 99.950195 242.074219 L 100.071289 242.074219 L 100.102539 242.078125 L 100.192383 242.078125 L 100.219727 242.082031 L 100.282227 242.082031 L 100.313477 242.085938 L 100.34082 242.085938 L 100.37207 242.089844 L 100.40332 242.089844 L 100.43457 242.09375 L 100.461914 242.097656 L 100.493164 242.097656 L 100.524414 242.101562 L 100.614258 242.101562 L 100.645508 242.105469 L 100.735352 242.105469 L 100.762695 242.109375 L 100.915039 242.109375 L 100.946289 242.113281 L 101.094727 242.113281 L 101.125977 242.117188 L 101.336914 242.117188 L 101.368164 242.121094 L 101.547852 242.121094 L 101.579102 242.125 L 101.790039 242.125 L 101.821289 242.128906 L 102.032227 242.128906 L 102.05957 242.132812 L 102.243164 242.132812 L 102.270508 242.136719 L 102.422852 242.136719 L 102.454102 242.140625 L 102.602539 242.140625 L 102.633789 242.144531 L 102.723633 242.144531 L 102.754883 242.148438 L 102.875977 242.148438 L 102.907227 242.152344 L 102.99707 242.152344 L 103.02832 242.15625 L 103.145508 242.15625 L 103.176758 242.160156 L 103.329102 242.160156 L 103.356445 242.164062 L 103.567383 242.164062 L 103.598633 242.167969 L 103.80957 242.167969 L 103.84082 242.171875 L 104.051758 242.171875 L 104.083008 242.175781 L 104.325195 242.175781 L 104.352539 242.179688 L 104.625977 242.179688 L 104.65332 242.183594 L 104.895508 242.183594 L 104.926758 242.1875 L 105.196289 242.1875 L 105.227539 242.191406 L 105.469727 242.191406 L 105.500977 242.195312 L 105.770508 242.195312 L 105.801758 242.199219 L 105.981445 242.199219 L 106.012695 242.203125 L 106.133789 242.203125 L 106.161133 242.207031 L 106.223633 242.207031 L 106.254883 242.210938 L 106.313477 242.210938 L 106.344727 242.214844 L 106.375977 242.214844 L 106.40332 242.21875 L 106.524414 242.21875 L 106.555664 242.222656 L 106.766602 242.222656 L 106.797852 242.226562 L 107.036133 242.226562 L 107.067383 242.230469 L 107.34082 242.230469 L 107.368164 242.234375 L 107.641602 242.234375 L 107.672852 242.238281 L 107.942383 242.238281 L 107.973633 242.242188 L 108.274414 242.242188 L 108.305664 242.246094 L 108.606445 242.246094 L 108.637695 242.25 L 108.907227 242.25 L 108.938477 242.253906 L 109.239258 242.253906 L 109.270508 242.257812 L 109.571289 242.257812 L 109.602539 242.261719 L 109.87207 242.261719 L 109.90332 242.265625 L 110.114258 242.265625 L 110.145508 242.269531 L 110.266602 242.269531 L 110.293945 242.273438 L 110.446289 242.273438 L 110.477539 242.277344 L 110.625977 242.277344 L 110.657227 242.28125 L 110.899414 242.28125 L 110.926758 242.285156 L 111.168945 242.285156 L 111.200195 242.289062 L 111.442383 242.289062 L 111.469727 242.292969 L 111.743164 242.292969 L 111.774414 242.296875 L 112.043945 242.296875 L 112.075195 242.300781 L 112.344727 242.300781 L 112.375977 242.304688 L 112.645508 242.304688 L 112.676758 242.308594 L 112.977539 242.308594 L 113.008789 242.3125 L 113.282227 242.3125 L 113.30957 242.316406 L 113.614258 242.316406 L 113.641602 242.320312 L 113.942383 242.320312 L 113.973633 242.324219 L 114.274414 242.324219 L 114.305664 242.328125 L 114.606445 242.328125 L 114.637695 242.332031 L 114.969727 242.332031 L 115.000977 242.335938 L 115.333008 242.335938 L 115.360352 242.339844 L 115.665039 242.339844 L 115.692383 242.34375 L 116.024414 242.34375 L 116.055664 242.347656 L 116.418945 242.347656 L 116.446289 242.351562 L 116.77832 242.351562 L 116.80957 242.355469 L 117.172852 242.355469 L 117.200195 242.359375 L 117.563477 242.359375 L 117.594727 242.363281 L 117.926758 242.363281 L 117.954102 242.367188 L 118.317383 242.367188 L 118.348633 242.371094 L 118.739258 242.371094 L 118.770508 242.375 L 119.133789 242.375 L 119.161133 242.378906 L 119.555664 242.378906 L 119.583008 242.382812 L 119.946289 242.382812 L 119.977539 242.386719 L 120.368164 242.386719 L 120.399414 242.390625 L 120.790039 242.390625 L 120.821289 242.394531 L 121.211914 242.394531 L 121.243164 242.398438 L 121.633789 242.398438 L 121.665039 242.402344 L 122.055664 242.402344 L 122.086914 242.40625 L 122.508789 242.40625 L 122.540039 242.410156 L 122.930664 242.410156 L 122.961914 242.414062 L 123.383789 242.414062 L 123.415039 242.417969 L 123.805664 242.417969 L 123.836914 242.421875 L 124.258789 242.421875 L 124.290039 242.425781 L 124.711914 242.425781 L 124.743164 242.429688 L 125.133789 242.429688 L 125.165039 242.433594 L 125.586914 242.433594 L 125.618164 242.4375 L 126.040039 242.4375 L 126.067383 242.441406 L 126.489258 242.441406 L 126.520508 242.445312 L 126.942383 242.445312 L 126.973633 242.449219 L 127.395508 242.449219 L 127.426758 242.453125 L 127.786133 242.453125 L 127.817383 242.457031 L 128.05957 242.457031 L 128.09082 242.460938 L 128.211914 242.460938 L 128.239258 242.464844 L 128.270508 242.464844 L 128.301758 242.46875 L 128.329102 242.46875 L 128.360352 242.472656 L 128.481445 242.472656 L 128.512695 242.476562 L 128.723633 242.476562 L 128.750977 242.480469 L 129.114258 242.480469 L 129.145508 242.484375 L 129.536133 242.484375 L 129.567383 242.488281 L 130.020508 242.488281 L 130.047852 242.492188 L 130.473633 242.492188 L 130.500977 242.496094 L 130.954102 242.496094 L 130.985352 242.5 L 131.438477 242.5 L 131.46582 242.503906 L 131.918945 242.503906 L 131.950195 242.507812 L 132.40332 242.507812 L 132.430664 242.511719 L 132.883789 242.511719 L 132.915039 242.515625 L 133.368164 242.515625 L 133.399414 242.519531 L 133.848633 242.519531 L 133.879883 242.523438 L 134.301758 242.523438 L 134.333008 242.527344 L 134.723633 242.527344 L 134.754883 242.53125 L 135.055664 242.53125 L 135.086914 242.535156 L 135.387695 242.535156 L 135.418945 242.539062 L 135.719727 242.539062 L 135.750977 242.542969 L 136.110352 242.542969 L 136.141602 242.546875 L 136.504883 242.546875 L 136.532227 242.550781 L 136.958008 242.550781 L 136.985352 242.554688 L 137.407227 242.554688 L 137.438477 242.558594 L 137.860352 242.558594 L 137.891602 242.5625 L 138.313477 242.5625 L 138.344727 242.566406 L 138.797852 242.566406 L 138.825195 242.570312 L 139.24707 242.570312 L 139.27832 242.574219 L 139.731445 242.574219 L 139.762695 242.578125 L 140.211914 242.578125 L 140.243164 242.582031 L 140.665039 242.582031 L 140.696289 242.585938 L 141.118164 242.585938 L 141.149414 242.589844 L 141.508789 242.589844 L 141.540039 242.59375 L 141.93457 242.59375 L 141.961914 242.597656 L 142.356445 242.597656 L 142.383789 242.601562 L 142.805664 242.601562 L 142.836914 242.605469 L 143.258789 242.605469 L 143.290039 242.609375 L 143.743164 242.609375 L 143.774414 242.613281 L 144.254883 242.613281 L 144.286133 242.617188 L 144.739258 242.617188 L 144.766602 242.621094 L 145.250977 242.621094 L 145.282227 242.625 L 145.762695 242.625 L 145.793945 242.628906 L 146.274414 242.628906 L 146.305664 242.632812 L 146.817383 242.632812 L 146.848633 242.636719 L 147.333008 242.636719 L 147.360352 242.640625 L 147.875977 242.640625 L 147.90332 242.644531 L 148.387695 242.644531 L 148.418945 242.648438 L 148.930664 242.648438 L 148.961914 242.652344 L 149.442383 242.652344 L 149.473633 242.65625 L 149.985352 242.65625 L 150.016602 242.660156 L 150.52832 242.660156 L 150.55957 242.664062 L 151.040039 242.664062 L 151.071289 242.667969 L 151.524414 242.667969 L 151.555664 242.671875 L 151.915039 242.671875 L 151.946289 242.675781 L 152.21582 242.675781 L 152.24707 242.679688 L 152.579102 242.679688 L 152.610352 242.683594 L 153.032227 242.683594 L 153.063477 242.6875 L 153.485352 242.6875 L 153.512695 242.691406 L 153.99707 242.691406 L 154.02832 242.695312 L 154.508789 242.695312 L 154.540039 242.699219 L 155.051758 242.699219 L 155.083008 242.703125 L 155.594727 242.703125 L 155.625977 242.707031 L 156.137695 242.707031 L 156.168945 242.710938 L 156.711914 242.710938 L 156.743164 242.714844 L 157.254883 242.714844 L 157.286133 242.71875 L 157.856445 242.71875 L 157.887695 242.722656 L 158.430664 242.722656 L 158.461914 242.726562 L 159.004883 242.726562 L 159.032227 242.730469 L 159.547852 242.730469 L 159.575195 242.734375 L 160.02832 242.734375 L 160.05957 242.738281 L 160.239258 242.738281 L 160.270508 242.742188 L 160.329102 242.742188 L 160.360352 242.746094 L 160.418945 242.746094 L 160.450195 242.75 L 160.540039 242.75 L 160.571289 242.753906 L 160.813477 242.753906 L 160.844727 242.757812 L 161.293945 242.757812 L 161.325195 242.761719 L 161.868164 242.761719 L 161.899414 242.765625 L 162.473633 242.765625 L 162.500977 242.769531 L 163.075195 242.769531 L 163.106445 242.773438 L 163.676758 242.773438 L 163.708008 242.777344 L 164.30957 242.777344 L 164.34082 242.78125 L 164.973633 242.78125 L 165.004883 242.785156 L 165.637695 242.785156 L 165.668945 242.789062 L 166.301758 242.789062 L 166.333008 242.792969 L 166.96582 242.792969 L 166.99707 242.796875 L 167.629883 242.796875 L 167.661133 242.800781 L 168.321289 242.800781 L 168.352539 242.804688 L 169.047852 242.804688 L 169.075195 242.808594 L 169.739258 242.808594 L 169.770508 242.8125 L 170.46582 242.8125 L 170.493164 242.816406 L 171.188477 242.816406 L 171.219727 242.820312 L 171.911133 242.820312 L 171.942383 242.824219 L 172.633789 242.824219 L 172.665039 242.828125 L 173.387695 242.828125 L 173.418945 242.832031 L 174.145508 242.832031 L 174.172852 242.835938 L 174.868164 242.835938 L 174.899414 242.839844 L 175.62207 242.839844 L 175.65332 242.84375 L 176.344727 242.84375 L 176.375977 242.847656 L 177.040039 242.847656 L 177.067383 242.851562 L 177.610352 242.851562 L 177.641602 242.855469 L 178.036133 242.855469 L 178.063477 242.859375 L 178.305664 242.859375 L 178.336914 242.863281 L 178.575195 242.863281 L 178.606445 242.867188 L 178.938477 242.867188 L 178.969727 242.871094 L 179.422852 242.871094 L 179.450195 242.875 L 179.96582 242.875 L 179.993164 242.878906 L 180.536133 242.878906 L 180.567383 242.882812 L 181.110352 242.882812 L 181.141602 242.886719 L 181.594727 242.886719 L 181.62207 242.890625 L 181.895508 242.890625 L 181.926758 242.894531 L 182.106445 242.894531 L 182.137695 242.898438 L 182.286133 242.898438 L 182.317383 242.902344 L 182.438477 242.902344 L 182.46582 242.90625 L 182.649414 242.90625 L 182.680664 242.910156 L 182.829102 242.910156 L 182.860352 242.914062 L 182.950195 242.914062 L 182.981445 242.917969 L 183.071289 242.917969 L 183.102539 242.921875 L 183.161133 242.921875 L 183.192383 242.925781 L 183.250977 242.925781 L 183.282227 242.929688 L 183.37207 242.929688 L 183.40332 242.933594 L 183.493164 242.933594 L 183.524414 242.9375 L 183.672852 242.9375 L 183.704102 242.941406 L 183.856445 242.941406 L 183.883789 242.945312 L 184.036133 242.945312 L 184.067383 242.949219 L 184.188477 242.949219 L 184.21582 242.953125 L 184.336914 242.953125 L 184.368164 242.957031 L 184.520508 242.957031 L 184.547852 242.960938 L 184.790039 242.960938 L 184.821289 242.964844 L 185.12207 242.964844 L 185.15332 242.96875 L 185.543945 242.96875 L 185.575195 242.972656 L 186.02832 242.972656 L 186.055664 242.976562 L 186.571289 242.976562 L 186.598633 242.980469 L 187.141602 242.980469 L 187.172852 242.984375 L 187.774414 242.984375 L 187.805664 242.988281 L 188.469727 242.988281 L 188.500977 242.992188 L 189.165039 242.992188 L 189.192383 242.996094 L 189.918945 242.996094 L 189.946289 243 L 190.700195 243 L 190.731445 243.003906 L 191.485352 243.003906 L 191.516602 243.007812 L 192.301758 243.007812 L 192.329102 243.011719 L 193.145508 243.011719 L 193.172852 243.015625 L 193.989258 243.015625 L 194.020508 243.019531 L 194.833008 243.019531 L 194.864258 243.023438 L 195.708008 243.023438 L 195.739258 243.027344 L 196.583008 243.027344 L 196.614258 243.03125 L 197.458008 243.03125 L 197.489258 243.035156 L 198.333008 243.035156 L 198.360352 243.039062 L 199.208008 243.039062 L 199.235352 243.042969 L 200.051758 243.042969 L 200.083008 243.046875 L 200.895508 243.046875 L 200.926758 243.050781 L 201.770508 243.050781 L 201.801758 243.054688 L 202.645508 243.054688 L 202.676758 243.058594 L 203.520508 243.058594 L 203.547852 243.0625 L 204.395508 243.0625 L 204.422852 243.066406 L 205.297852 243.066406 L 205.329102 243.070312 L 206.204102 243.070312 L 206.235352 243.074219 L 207.137695 243.074219 L 207.168945 243.078125 L 208.075195 243.078125 L 208.102539 243.082031 L 209.008789 243.082031 L 209.040039 243.085938 L 209.973633 243.085938 L 210.004883 243.089844 L 210.969727 243.089844 L 211.000977 243.09375 L 211.96582 243.09375 L 211.993164 243.097656 L 212.989258 243.097656 L 213.020508 243.101562 L 214.016602 243.101562 L 214.043945 243.105469 L 215.102539 243.105469 L 215.129883 243.109375 L 216.188477 243.109375 L 216.21582 243.113281 L 217.301758 243.113281 L 217.333008 243.117188 L 218.450195 243.117188 L 218.477539 243.121094 L 219.625977 243.121094 L 219.65332 243.125 L 220.833008 243.125 L 220.860352 243.128906 L 222.067383 243.128906 L 222.098633 243.132812 L 223.305664 243.132812 L 223.333008 243.136719 L 224.602539 243.136719 L 224.629883 243.140625 L 225.899414 243.140625 L 225.926758 243.144531 L 227.223633 243.144531 L 227.254883 243.148438 L 228.583008 243.148438 L 228.614258 243.152344 L 229.938477 243.152344 L 229.969727 243.15625 L 231.297852 243.15625 L 231.325195 243.160156 L 232.563477 243.160156 L 232.594727 243.164062 L 233.258789 243.164062 L 233.286133 243.167969 L 233.375977 243.167969 L 233.407227 243.171875 L 233.438477 243.171875 L 233.469727 243.175781 L 233.49707 243.179688 L 233.55957 243.179688 L 233.59082 243.183594 L 234.344727 243.183594 L 234.37207 243.1875 L 235.731445 243.1875 L 235.758789 243.191406 L 237.149414 243.191406 L 237.176758 243.195312 L 238.625977 243.195312 L 238.657227 243.199219 L 240.102539 243.199219 L 240.133789 243.203125 L 241.610352 243.203125 L 241.641602 243.207031 L 243.149414 243.207031 L 243.180664 243.210938 L 244.688477 243.210938 L 244.719727 243.214844 L 246.286133 243.214844 L 246.317383 243.21875 L 247.856445 243.21875 L 247.883789 243.222656 L 249.481445 243.222656 L 249.512695 243.226562 L 251.110352 243.226562 L 251.141602 243.230469 L 252.770508 243.230469 L 252.801758 243.234375 L 254.430664 243.234375 L 254.458008 243.238281 L 256.05957 243.238281 L 256.086914 243.242188 L 257.504883 243.242188 L 257.536133 243.246094 L 258.168945 243.246094 L 258.200195 243.25 L 258.379883 243.25 L 258.411133 243.253906 L 258.532227 243.253906 L 258.55957 243.257812 L 258.864258 243.257812 L 258.891602 243.261719 L 259.739258 243.261719 L 259.766602 243.265625 L 261.18457 243.265625 L 261.21582 243.269531 L 262.813477 243.269531 L 262.844727 243.273438 L 264.563477 243.273438 L 264.594727 243.277344 L 266.223633 243.277344 L 266.250977 243.28125 L 267.368164 243.28125 L 267.399414 243.285156 L 267.852539 243.285156 L 267.879883 243.289062 L 268.243164 243.289062 L 268.274414 243.292969 L 268.786133 243.292969 L 268.817383 243.296875 L 269.629883 243.296875 L 269.661133 243.300781 L 270.836914 243.300781 L 270.868164 243.304688 L 272.313477 243.304688 L 272.344727 243.308594 L 273.973633 243.308594 L 274.004883 243.3125 L 275.813477 243.3125 L 275.844727 243.316406 L 277.711914 243.316406 L 277.743164 243.320312 L 279.704102 243.320312 L 279.735352 243.324219 L 281.754883 243.324219 L 281.786133 243.328125 L 283.895508 243.328125 L 283.926758 243.332031 L 286.067383 243.332031 L 286.098633 243.335938 L 288.297852 243.335938 L 288.329102 243.339844 L 290.62207 243.339844 L 290.65332 243.34375 L 292.942383 243.34375 L 292.973633 243.347656 L 295.297852 243.347656 L 295.325195 243.351562 L 297.680664 243.351562 L 297.708008 243.355469 L 300.09082 243.355469 L 300.12207 243.359375 L 302.594727 243.359375 L 302.625977 243.363281 L 305.129883 243.363281 L 305.157227 243.367188 L 307.692383 243.367188 L 307.723633 243.371094 L 310.317383 243.371094 L 310.344727 243.375 L 312.911133 243.375 L 312.938477 243.378906 L 315.473633 243.378906 L 315.504883 243.382812 L 317.946289 243.382812 L 317.977539 243.386719 L 320.329102 243.386719 L 320.360352 243.390625 L 322.743164 243.390625 L 322.770508 243.394531 L 325.274414 243.394531 L 325.305664 243.398438 L 327.930664 243.398438 L 327.958008 243.402344 L 330.614258 243.402344 L 330.645508 243.40625 L 333.329102 243.40625 L 333.356445 243.410156 L 335.981445 243.410156 L 336.012695 243.414062 L 337.911133 243.414062 L 337.942383 243.417969 L 338.18457 243.417969 L 338.211914 243.421875 L 338.243164 243.421875 L 338.305664 243.429688 L 338.333008 243.429688 L 338.364258 243.433594 L 339.02832 243.433594 L 339.05957 243.4375 L 341.411133 243.4375 L 341.442383 243.441406 L 343.793945 243.441406 L 343.825195 243.445312 L 346.114258 243.445312 L 346.145508 243.449219 L 348.407227 243.449219 L 348.438477 243.453125 L 350.821289 243.453125 L 350.852539 243.457031 L 353.325195 243.457031 L 353.352539 243.460938 L 355.856445 243.460938 L 355.887695 243.464844 L 358.512695 243.464844 L 358.540039 243.46875 L 361.165039 243.46875 L 361.196289 243.472656 L 361.887695 243.472656 \" transform=\"matrix(1,0,0,1,48.666992,15.664062)\"/>\n",
       "</g>\n",
       "<path style=\"fill:none;stroke-width:1;stroke-linecap:square;stroke-linejoin:miter;stroke:rgb(0%,0%,0%);stroke-opacity:1;stroke-miterlimit:10;\" d=\"M 38.667969 253.007812 L 38.667969 0 \" transform=\"matrix(1,0,0,1,10,15.664062)\"/>\n",
       "<path style=\"fill:none;stroke-width:1;stroke-linecap:butt;stroke-linejoin:miter;stroke:rgb(0%,0%,0%);stroke-opacity:1;stroke-miterlimit:10;\" d=\"M 38.667969 253.007812 L 40.667969 253.007812 \" transform=\"matrix(1,0,0,1,10,15.664062)\"/>\n",
       "<path style=\"fill:none;stroke-width:1;stroke-linecap:butt;stroke-linejoin:miter;stroke:rgb(0%,0%,0%);stroke-opacity:1;stroke-miterlimit:10;\" d=\"M 38.667969 247.949219 L 40.667969 247.949219 \" transform=\"matrix(1,0,0,1,10,15.664062)\"/>\n",
       "<path style=\"fill:none;stroke-width:1;stroke-linecap:butt;stroke-linejoin:miter;stroke:rgb(0%,0%,0%);stroke-opacity:1;stroke-miterlimit:10;\" d=\"M 38.667969 242.886719 L 40.667969 242.886719 \" transform=\"matrix(1,0,0,1,10,15.664062)\"/>\n",
       "<path style=\"fill:none;stroke-width:1;stroke-linecap:butt;stroke-linejoin:miter;stroke:rgb(0%,0%,0%);stroke-opacity:1;stroke-miterlimit:10;\" d=\"M 38.667969 237.828125 L 40.667969 237.828125 \" transform=\"matrix(1,0,0,1,10,15.664062)\"/>\n",
       "<path style=\"fill:none;stroke-width:1;stroke-linecap:butt;stroke-linejoin:miter;stroke:rgb(0%,0%,0%);stroke-opacity:1;stroke-miterlimit:10;\" d=\"M 38.667969 232.765625 L 40.667969 232.765625 \" transform=\"matrix(1,0,0,1,10,15.664062)\"/>\n",
       "<path style=\"fill:none;stroke-width:1;stroke-linecap:butt;stroke-linejoin:miter;stroke:rgb(0%,0%,0%);stroke-opacity:1;stroke-miterlimit:10;\" d=\"M 38.667969 227.707031 L 40.667969 227.707031 \" transform=\"matrix(1,0,0,1,10,15.664062)\"/>\n",
       "<path style=\"fill:none;stroke-width:1;stroke-linecap:butt;stroke-linejoin:miter;stroke:rgb(0%,0%,0%);stroke-opacity:1;stroke-miterlimit:10;\" d=\"M 38.667969 222.648438 L 40.667969 222.648438 \" transform=\"matrix(1,0,0,1,10,15.664062)\"/>\n",
       "<path style=\"fill:none;stroke-width:1;stroke-linecap:butt;stroke-linejoin:miter;stroke:rgb(0%,0%,0%);stroke-opacity:1;stroke-miterlimit:10;\" d=\"M 38.667969 217.585938 L 40.667969 217.585938 \" transform=\"matrix(1,0,0,1,10,15.664062)\"/>\n",
       "<path style=\"fill:none;stroke-width:1;stroke-linecap:butt;stroke-linejoin:miter;stroke:rgb(0%,0%,0%);stroke-opacity:1;stroke-miterlimit:10;\" d=\"M 38.667969 212.527344 L 40.667969 212.527344 \" transform=\"matrix(1,0,0,1,10,15.664062)\"/>\n",
       "<path style=\"fill:none;stroke-width:1;stroke-linecap:butt;stroke-linejoin:miter;stroke:rgb(0%,0%,0%);stroke-opacity:1;stroke-miterlimit:10;\" d=\"M 38.667969 207.464844 L 40.667969 207.464844 \" transform=\"matrix(1,0,0,1,10,15.664062)\"/>\n",
       "<path style=\"fill:none;stroke-width:1;stroke-linecap:butt;stroke-linejoin:miter;stroke:rgb(0%,0%,0%);stroke-opacity:1;stroke-miterlimit:10;\" d=\"M 38.667969 202.40625 L 40.667969 202.40625 \" transform=\"matrix(1,0,0,1,10,15.664062)\"/>\n",
       "<path style=\"fill:none;stroke-width:1;stroke-linecap:butt;stroke-linejoin:miter;stroke:rgb(0%,0%,0%);stroke-opacity:1;stroke-miterlimit:10;\" d=\"M 38.667969 197.347656 L 40.667969 197.347656 \" transform=\"matrix(1,0,0,1,10,15.664062)\"/>\n",
       "<path style=\"fill:none;stroke-width:1;stroke-linecap:butt;stroke-linejoin:miter;stroke:rgb(0%,0%,0%);stroke-opacity:1;stroke-miterlimit:10;\" d=\"M 38.667969 192.285156 L 40.667969 192.285156 \" transform=\"matrix(1,0,0,1,10,15.664062)\"/>\n",
       "<path style=\"fill:none;stroke-width:1;stroke-linecap:butt;stroke-linejoin:miter;stroke:rgb(0%,0%,0%);stroke-opacity:1;stroke-miterlimit:10;\" d=\"M 38.667969 187.226562 L 40.667969 187.226562 \" transform=\"matrix(1,0,0,1,10,15.664062)\"/>\n",
       "<path style=\"fill:none;stroke-width:1;stroke-linecap:butt;stroke-linejoin:miter;stroke:rgb(0%,0%,0%);stroke-opacity:1;stroke-miterlimit:10;\" d=\"M 38.667969 182.164062 L 40.667969 182.164062 \" transform=\"matrix(1,0,0,1,10,15.664062)\"/>\n",
       "<path style=\"fill:none;stroke-width:1;stroke-linecap:butt;stroke-linejoin:miter;stroke:rgb(0%,0%,0%);stroke-opacity:1;stroke-miterlimit:10;\" d=\"M 38.667969 177.105469 L 40.667969 177.105469 \" transform=\"matrix(1,0,0,1,10,15.664062)\"/>\n",
       "<path style=\"fill:none;stroke-width:1;stroke-linecap:butt;stroke-linejoin:miter;stroke:rgb(0%,0%,0%);stroke-opacity:1;stroke-miterlimit:10;\" d=\"M 38.667969 172.046875 L 40.667969 172.046875 \" transform=\"matrix(1,0,0,1,10,15.664062)\"/>\n",
       "<path style=\"fill:none;stroke-width:1;stroke-linecap:butt;stroke-linejoin:miter;stroke:rgb(0%,0%,0%);stroke-opacity:1;stroke-miterlimit:10;\" d=\"M 38.667969 166.984375 L 40.667969 166.984375 \" transform=\"matrix(1,0,0,1,10,15.664062)\"/>\n",
       "<path style=\"fill:none;stroke-width:1;stroke-linecap:butt;stroke-linejoin:miter;stroke:rgb(0%,0%,0%);stroke-opacity:1;stroke-miterlimit:10;\" d=\"M 38.667969 161.925781 L 40.667969 161.925781 \" transform=\"matrix(1,0,0,1,10,15.664062)\"/>\n",
       "<path style=\"fill:none;stroke-width:1;stroke-linecap:butt;stroke-linejoin:miter;stroke:rgb(0%,0%,0%);stroke-opacity:1;stroke-miterlimit:10;\" d=\"M 38.667969 156.863281 L 40.667969 156.863281 \" transform=\"matrix(1,0,0,1,10,15.664062)\"/>\n",
       "<path style=\"fill:none;stroke-width:1;stroke-linecap:butt;stroke-linejoin:miter;stroke:rgb(0%,0%,0%);stroke-opacity:1;stroke-miterlimit:10;\" d=\"M 38.667969 151.804688 L 40.667969 151.804688 \" transform=\"matrix(1,0,0,1,10,15.664062)\"/>\n",
       "<path style=\"fill:none;stroke-width:1;stroke-linecap:butt;stroke-linejoin:miter;stroke:rgb(0%,0%,0%);stroke-opacity:1;stroke-miterlimit:10;\" d=\"M 38.667969 146.746094 L 40.667969 146.746094 \" transform=\"matrix(1,0,0,1,10,15.664062)\"/>\n",
       "<path style=\"fill:none;stroke-width:1;stroke-linecap:butt;stroke-linejoin:miter;stroke:rgb(0%,0%,0%);stroke-opacity:1;stroke-miterlimit:10;\" d=\"M 38.667969 141.683594 L 40.667969 141.683594 \" transform=\"matrix(1,0,0,1,10,15.664062)\"/>\n",
       "<path style=\"fill:none;stroke-width:1;stroke-linecap:butt;stroke-linejoin:miter;stroke:rgb(0%,0%,0%);stroke-opacity:1;stroke-miterlimit:10;\" d=\"M 38.667969 136.625 L 40.667969 136.625 \" transform=\"matrix(1,0,0,1,10,15.664062)\"/>\n",
       "<path style=\"fill:none;stroke-width:1;stroke-linecap:butt;stroke-linejoin:miter;stroke:rgb(0%,0%,0%);stroke-opacity:1;stroke-miterlimit:10;\" d=\"M 38.667969 131.5625 L 40.667969 131.5625 \" transform=\"matrix(1,0,0,1,10,15.664062)\"/>\n",
       "<path style=\"fill:none;stroke-width:1;stroke-linecap:butt;stroke-linejoin:miter;stroke:rgb(0%,0%,0%);stroke-opacity:1;stroke-miterlimit:10;\" d=\"M 38.667969 126.503906 L 40.667969 126.503906 \" transform=\"matrix(1,0,0,1,10,15.664062)\"/>\n",
       "<path style=\"fill:none;stroke-width:1;stroke-linecap:butt;stroke-linejoin:miter;stroke:rgb(0%,0%,0%);stroke-opacity:1;stroke-miterlimit:10;\" d=\"M 38.667969 121.445312 L 40.667969 121.445312 \" transform=\"matrix(1,0,0,1,10,15.664062)\"/>\n",
       "<path style=\"fill:none;stroke-width:1;stroke-linecap:butt;stroke-linejoin:miter;stroke:rgb(0%,0%,0%);stroke-opacity:1;stroke-miterlimit:10;\" d=\"M 38.667969 116.382812 L 40.667969 116.382812 \" transform=\"matrix(1,0,0,1,10,15.664062)\"/>\n",
       "<path style=\"fill:none;stroke-width:1;stroke-linecap:butt;stroke-linejoin:miter;stroke:rgb(0%,0%,0%);stroke-opacity:1;stroke-miterlimit:10;\" d=\"M 38.667969 111.324219 L 40.667969 111.324219 \" transform=\"matrix(1,0,0,1,10,15.664062)\"/>\n",
       "<path style=\"fill:none;stroke-width:1;stroke-linecap:butt;stroke-linejoin:miter;stroke:rgb(0%,0%,0%);stroke-opacity:1;stroke-miterlimit:10;\" d=\"M 38.667969 106.261719 L 40.667969 106.261719 \" transform=\"matrix(1,0,0,1,10,15.664062)\"/>\n",
       "<path style=\"fill:none;stroke-width:1;stroke-linecap:butt;stroke-linejoin:miter;stroke:rgb(0%,0%,0%);stroke-opacity:1;stroke-miterlimit:10;\" d=\"M 38.667969 101.203125 L 40.667969 101.203125 \" transform=\"matrix(1,0,0,1,10,15.664062)\"/>\n",
       "<path style=\"fill:none;stroke-width:1;stroke-linecap:butt;stroke-linejoin:miter;stroke:rgb(0%,0%,0%);stroke-opacity:1;stroke-miterlimit:10;\" d=\"M 38.667969 96.144531 L 40.667969 96.144531 \" transform=\"matrix(1,0,0,1,10,15.664062)\"/>\n",
       "<path style=\"fill:none;stroke-width:1;stroke-linecap:butt;stroke-linejoin:miter;stroke:rgb(0%,0%,0%);stroke-opacity:1;stroke-miterlimit:10;\" d=\"M 38.667969 91.082031 L 40.667969 91.082031 \" transform=\"matrix(1,0,0,1,10,15.664062)\"/>\n",
       "<path style=\"fill:none;stroke-width:1;stroke-linecap:butt;stroke-linejoin:miter;stroke:rgb(0%,0%,0%);stroke-opacity:1;stroke-miterlimit:10;\" d=\"M 38.667969 86.023438 L 40.667969 86.023438 \" transform=\"matrix(1,0,0,1,10,15.664062)\"/>\n",
       "<path style=\"fill:none;stroke-width:1;stroke-linecap:butt;stroke-linejoin:miter;stroke:rgb(0%,0%,0%);stroke-opacity:1;stroke-miterlimit:10;\" d=\"M 38.667969 80.960938 L 40.667969 80.960938 \" transform=\"matrix(1,0,0,1,10,15.664062)\"/>\n",
       "<path style=\"fill:none;stroke-width:1;stroke-linecap:butt;stroke-linejoin:miter;stroke:rgb(0%,0%,0%);stroke-opacity:1;stroke-miterlimit:10;\" d=\"M 38.667969 75.902344 L 40.667969 75.902344 \" transform=\"matrix(1,0,0,1,10,15.664062)\"/>\n",
       "<path style=\"fill:none;stroke-width:1;stroke-linecap:butt;stroke-linejoin:miter;stroke:rgb(0%,0%,0%);stroke-opacity:1;stroke-miterlimit:10;\" d=\"M 38.667969 70.84375 L 40.667969 70.84375 \" transform=\"matrix(1,0,0,1,10,15.664062)\"/>\n",
       "<path style=\"fill:none;stroke-width:1;stroke-linecap:butt;stroke-linejoin:miter;stroke:rgb(0%,0%,0%);stroke-opacity:1;stroke-miterlimit:10;\" d=\"M 38.667969 65.78125 L 40.667969 65.78125 \" transform=\"matrix(1,0,0,1,10,15.664062)\"/>\n",
       "<path style=\"fill:none;stroke-width:1;stroke-linecap:butt;stroke-linejoin:miter;stroke:rgb(0%,0%,0%);stroke-opacity:1;stroke-miterlimit:10;\" d=\"M 38.667969 60.722656 L 40.667969 60.722656 \" transform=\"matrix(1,0,0,1,10,15.664062)\"/>\n",
       "<path style=\"fill:none;stroke-width:1;stroke-linecap:butt;stroke-linejoin:miter;stroke:rgb(0%,0%,0%);stroke-opacity:1;stroke-miterlimit:10;\" d=\"M 38.667969 55.660156 L 40.667969 55.660156 \" transform=\"matrix(1,0,0,1,10,15.664062)\"/>\n",
       "<path style=\"fill:none;stroke-width:1;stroke-linecap:butt;stroke-linejoin:miter;stroke:rgb(0%,0%,0%);stroke-opacity:1;stroke-miterlimit:10;\" d=\"M 38.667969 50.601562 L 40.667969 50.601562 \" transform=\"matrix(1,0,0,1,10,15.664062)\"/>\n",
       "<path style=\"fill:none;stroke-width:1;stroke-linecap:butt;stroke-linejoin:miter;stroke:rgb(0%,0%,0%);stroke-opacity:1;stroke-miterlimit:10;\" d=\"M 38.667969 45.542969 L 40.667969 45.542969 \" transform=\"matrix(1,0,0,1,10,15.664062)\"/>\n",
       "<path style=\"fill:none;stroke-width:1;stroke-linecap:butt;stroke-linejoin:miter;stroke:rgb(0%,0%,0%);stroke-opacity:1;stroke-miterlimit:10;\" d=\"M 38.667969 40.480469 L 40.667969 40.480469 \" transform=\"matrix(1,0,0,1,10,15.664062)\"/>\n",
       "<path style=\"fill:none;stroke-width:1;stroke-linecap:butt;stroke-linejoin:miter;stroke:rgb(0%,0%,0%);stroke-opacity:1;stroke-miterlimit:10;\" d=\"M 38.667969 35.421875 L 40.667969 35.421875 \" transform=\"matrix(1,0,0,1,10,15.664062)\"/>\n",
       "<path style=\"fill:none;stroke-width:1;stroke-linecap:butt;stroke-linejoin:miter;stroke:rgb(0%,0%,0%);stroke-opacity:1;stroke-miterlimit:10;\" d=\"M 38.667969 30.359375 L 40.667969 30.359375 \" transform=\"matrix(1,0,0,1,10,15.664062)\"/>\n",
       "<path style=\"fill:none;stroke-width:1;stroke-linecap:butt;stroke-linejoin:miter;stroke:rgb(0%,0%,0%);stroke-opacity:1;stroke-miterlimit:10;\" d=\"M 38.667969 25.300781 L 40.667969 25.300781 \" transform=\"matrix(1,0,0,1,10,15.664062)\"/>\n",
       "<path style=\"fill:none;stroke-width:1;stroke-linecap:butt;stroke-linejoin:miter;stroke:rgb(0%,0%,0%);stroke-opacity:1;stroke-miterlimit:10;\" d=\"M 38.667969 20.242188 L 40.667969 20.242188 \" transform=\"matrix(1,0,0,1,10,15.664062)\"/>\n",
       "<path style=\"fill:none;stroke-width:1;stroke-linecap:butt;stroke-linejoin:miter;stroke:rgb(0%,0%,0%);stroke-opacity:1;stroke-miterlimit:10;\" d=\"M 38.667969 15.179688 L 40.667969 15.179688 \" transform=\"matrix(1,0,0,1,10,15.664062)\"/>\n",
       "<path style=\"fill:none;stroke-width:1;stroke-linecap:butt;stroke-linejoin:miter;stroke:rgb(0%,0%,0%);stroke-opacity:1;stroke-miterlimit:10;\" d=\"M 38.667969 10.121094 L 40.667969 10.121094 \" transform=\"matrix(1,0,0,1,10,15.664062)\"/>\n",
       "<path style=\"fill:none;stroke-width:1;stroke-linecap:butt;stroke-linejoin:miter;stroke:rgb(0%,0%,0%);stroke-opacity:1;stroke-miterlimit:10;\" d=\"M 38.667969 5.058594 L 40.667969 5.058594 \" transform=\"matrix(1,0,0,1,10,15.664062)\"/>\n",
       "<path style=\"fill:none;stroke-width:1;stroke-linecap:butt;stroke-linejoin:miter;stroke:rgb(0%,0%,0%);stroke-opacity:1;stroke-miterlimit:10;\" d=\"M 38.667969 0 L 40.667969 0 \" transform=\"matrix(1,0,0,1,10,15.664062)\"/>\n",
       "<path style=\"fill:none;stroke-width:1;stroke-linecap:butt;stroke-linejoin:miter;stroke:rgb(0%,0%,0%);stroke-opacity:1;stroke-miterlimit:10;\" d=\"M 38.667969 253.007812 L 43.667969 253.007812 \" transform=\"matrix(1,0,0,1,10,15.664062)\"/>\n",
       "<path style=\"fill:none;stroke-width:1;stroke-linecap:butt;stroke-linejoin:miter;stroke:rgb(0%,0%,0%);stroke-opacity:1;stroke-miterlimit:10;\" d=\"M 38.667969 202.40625 L 43.667969 202.40625 \" transform=\"matrix(1,0,0,1,10,15.664062)\"/>\n",
       "<path style=\"fill:none;stroke-width:1;stroke-linecap:butt;stroke-linejoin:miter;stroke:rgb(0%,0%,0%);stroke-opacity:1;stroke-miterlimit:10;\" d=\"M 38.667969 151.804688 L 43.667969 151.804688 \" transform=\"matrix(1,0,0,1,10,15.664062)\"/>\n",
       "<path style=\"fill:none;stroke-width:1;stroke-linecap:butt;stroke-linejoin:miter;stroke:rgb(0%,0%,0%);stroke-opacity:1;stroke-miterlimit:10;\" d=\"M 38.667969 101.203125 L 43.667969 101.203125 \" transform=\"matrix(1,0,0,1,10,15.664062)\"/>\n",
       "<path style=\"fill:none;stroke-width:1;stroke-linecap:butt;stroke-linejoin:miter;stroke:rgb(0%,0%,0%);stroke-opacity:1;stroke-miterlimit:10;\" d=\"M 38.667969 50.601562 L 43.667969 50.601562 \" transform=\"matrix(1,0,0,1,10,15.664062)\"/>\n",
       "<path style=\"fill:none;stroke-width:1;stroke-linecap:butt;stroke-linejoin:miter;stroke:rgb(0%,0%,0%);stroke-opacity:1;stroke-miterlimit:10;\" d=\"M 38.667969 0 L 43.667969 0 \" transform=\"matrix(1,0,0,1,10,15.664062)\"/>\n",
       "<g style=\"fill:rgb(0%,0%,0%);fill-opacity:1;\">\n",
       "  <use xlink:href=\"#glyph-2024-10-2013981.261682774s0-1\" x=\"33.886719\" y=\"272.015625\"/>\n",
       "</g>\n",
       "<g style=\"fill:rgb(0%,0%,0%);fill-opacity:1;\">\n",
       "  <use xlink:href=\"#glyph-2024-10-2013981.261682774s0-2\" x=\"15.980469\" y=\"221.414062\"/>\n",
       "  <use xlink:href=\"#glyph-2024-10-2013981.261682774s0-3\" x=\"21.981445\" y=\"221.414062\"/>\n",
       "  <use xlink:href=\"#glyph-2024-10-2013981.261682774s0-1\" x=\"27.982422\" y=\"221.414062\"/>\n",
       "  <use xlink:href=\"#glyph-2024-10-2013981.261682774s0-1\" x=\"33.983398\" y=\"221.414062\"/>\n",
       "</g>\n",
       "<g style=\"fill:rgb(0%,0%,0%);fill-opacity:1;\">\n",
       "  <use xlink:href=\"#glyph-2024-10-2013981.261682774s0-3\" x=\"15.902344\" y=\"170.8125\"/>\n",
       "  <use xlink:href=\"#glyph-2024-10-2013981.261682774s0-1\" x=\"21.90332\" y=\"170.8125\"/>\n",
       "  <use xlink:href=\"#glyph-2024-10-2013981.261682774s0-1\" x=\"27.904297\" y=\"170.8125\"/>\n",
       "  <use xlink:href=\"#glyph-2024-10-2013981.261682774s0-1\" x=\"33.905273\" y=\"170.8125\"/>\n",
       "</g>\n",
       "<g style=\"fill:rgb(0%,0%,0%);fill-opacity:1;\">\n",
       "  <use xlink:href=\"#glyph-2024-10-2013981.261682774s0-4\" x=\"16.050781\" y=\"120.210938\"/>\n",
       "  <use xlink:href=\"#glyph-2024-10-2013981.261682774s0-3\" x=\"22.051758\" y=\"120.210938\"/>\n",
       "  <use xlink:href=\"#glyph-2024-10-2013981.261682774s0-1\" x=\"28.052734\" y=\"120.210938\"/>\n",
       "  <use xlink:href=\"#glyph-2024-10-2013981.261682774s0-1\" x=\"34.053711\" y=\"120.210938\"/>\n",
       "</g>\n",
       "<g style=\"fill:rgb(0%,0%,0%);fill-opacity:1;\">\n",
       "  <use xlink:href=\"#glyph-2024-10-2013981.261682774s0-5\" x=\"10\" y=\"69.609375\"/>\n",
       "  <use xlink:href=\"#glyph-2024-10-2013981.261682774s0-1\" x=\"16.000977\" y=\"69.609375\"/>\n",
       "  <use xlink:href=\"#glyph-2024-10-2013981.261682774s0-1\" x=\"22.001953\" y=\"69.609375\"/>\n",
       "  <use xlink:href=\"#glyph-2024-10-2013981.261682774s0-1\" x=\"28.00293\" y=\"69.609375\"/>\n",
       "  <use xlink:href=\"#glyph-2024-10-2013981.261682774s0-1\" x=\"34.003906\" y=\"69.609375\"/>\n",
       "</g>\n",
       "<g style=\"fill:rgb(0%,0%,0%);fill-opacity:1;\">\n",
       "  <use xlink:href=\"#glyph-2024-10-2013981.261682774s0-5\" x=\"10\" y=\"19.007812\"/>\n",
       "  <use xlink:href=\"#glyph-2024-10-2013981.261682774s0-2\" x=\"16.000977\" y=\"19.007812\"/>\n",
       "  <use xlink:href=\"#glyph-2024-10-2013981.261682774s0-3\" x=\"22.001953\" y=\"19.007812\"/>\n",
       "  <use xlink:href=\"#glyph-2024-10-2013981.261682774s0-1\" x=\"28.00293\" y=\"19.007812\"/>\n",
       "  <use xlink:href=\"#glyph-2024-10-2013981.261682774s0-1\" x=\"34.003906\" y=\"19.007812\"/>\n",
       "</g>\n",
       "<path style=\"fill:none;stroke-width:1;stroke-linecap:square;stroke-linejoin:miter;stroke:rgb(0%,0%,0%);stroke-opacity:1;stroke-miterlimit:10;\" d=\"M 0.000976562 0 L 377.000977 0 \" transform=\"matrix(1,0,0,1,48.666992,268.671875)\"/>\n",
       "<path style=\"fill:none;stroke-width:1;stroke-linecap:butt;stroke-linejoin:miter;stroke:rgb(0%,0%,0%);stroke-opacity:1;stroke-miterlimit:10;\" d=\"M 0.000976562 0 L 0.000976562 -2 \" transform=\"matrix(1,0,0,1,48.666992,268.671875)\"/>\n",
       "<path style=\"fill:none;stroke-width:1;stroke-linecap:butt;stroke-linejoin:miter;stroke:rgb(0%,0%,0%);stroke-opacity:1;stroke-miterlimit:10;\" d=\"M 60.321289 0 L 60.321289 -2 \" transform=\"matrix(1,0,0,1,48.666992,268.671875)\"/>\n",
       "<path style=\"fill:none;stroke-width:1;stroke-linecap:butt;stroke-linejoin:miter;stroke:rgb(0%,0%,0%);stroke-opacity:1;stroke-miterlimit:10;\" d=\"M 120.641602 0 L 120.641602 -2 \" transform=\"matrix(1,0,0,1,48.666992,268.671875)\"/>\n",
       "<path style=\"fill:none;stroke-width:1;stroke-linecap:butt;stroke-linejoin:miter;stroke:rgb(0%,0%,0%);stroke-opacity:1;stroke-miterlimit:10;\" d=\"M 180.958008 0 L 180.958008 -2 \" transform=\"matrix(1,0,0,1,48.666992,268.671875)\"/>\n",
       "<path style=\"fill:none;stroke-width:1;stroke-linecap:butt;stroke-linejoin:miter;stroke:rgb(0%,0%,0%);stroke-opacity:1;stroke-miterlimit:10;\" d=\"M 241.27832 0 L 241.27832 -2 \" transform=\"matrix(1,0,0,1,48.666992,268.671875)\"/>\n",
       "<path style=\"fill:none;stroke-width:1;stroke-linecap:butt;stroke-linejoin:miter;stroke:rgb(0%,0%,0%);stroke-opacity:1;stroke-miterlimit:10;\" d=\"M 301.598633 0 L 301.598633 -2 \" transform=\"matrix(1,0,0,1,48.666992,268.671875)\"/>\n",
       "<path style=\"fill:none;stroke-width:1;stroke-linecap:butt;stroke-linejoin:miter;stroke:rgb(0%,0%,0%);stroke-opacity:1;stroke-miterlimit:10;\" d=\"M 361.918945 0 L 361.918945 -2 \" transform=\"matrix(1,0,0,1,48.666992,268.671875)\"/>\n",
       "<path style=\"fill:none;stroke-width:1;stroke-linecap:butt;stroke-linejoin:miter;stroke:rgb(0%,0%,0%);stroke-opacity:1;stroke-miterlimit:10;\" d=\"M 0.000976562 0 L 0.000976562 -5 \" transform=\"matrix(1,0,0,1,48.666992,268.671875)\"/>\n",
       "<path style=\"fill:none;stroke-width:1;stroke-linecap:butt;stroke-linejoin:miter;stroke:rgb(0%,0%,0%);stroke-opacity:1;stroke-miterlimit:10;\" d=\"M 75.399414 0 L 75.399414 -5 \" transform=\"matrix(1,0,0,1,48.666992,268.671875)\"/>\n",
       "<path style=\"fill:none;stroke-width:1;stroke-linecap:butt;stroke-linejoin:miter;stroke:rgb(0%,0%,0%);stroke-opacity:1;stroke-miterlimit:10;\" d=\"M 150.801758 0 L 150.801758 -5 \" transform=\"matrix(1,0,0,1,48.666992,268.671875)\"/>\n",
       "<path style=\"fill:none;stroke-width:1;stroke-linecap:butt;stroke-linejoin:miter;stroke:rgb(0%,0%,0%);stroke-opacity:1;stroke-miterlimit:10;\" d=\"M 226.200195 0 L 226.200195 -5 \" transform=\"matrix(1,0,0,1,48.666992,268.671875)\"/>\n",
       "<path style=\"fill:none;stroke-width:1;stroke-linecap:butt;stroke-linejoin:miter;stroke:rgb(0%,0%,0%);stroke-opacity:1;stroke-miterlimit:10;\" d=\"M 301.598633 0 L 301.598633 -5 \" transform=\"matrix(1,0,0,1,48.666992,268.671875)\"/>\n",
       "<path style=\"fill:none;stroke-width:1;stroke-linecap:butt;stroke-linejoin:miter;stroke:rgb(0%,0%,0%);stroke-opacity:1;stroke-miterlimit:10;\" d=\"M 377.000977 0 L 377.000977 -5 \" transform=\"matrix(1,0,0,1,48.666992,268.671875)\"/>\n",
       "<g style=\"fill:rgb(0%,0%,0%);fill-opacity:1;\">\n",
       "  <use xlink:href=\"#glyph-2024-10-2013981.261682774s0-1\" x=\"46.277344\" y=\"286.996094\"/>\n",
       "</g>\n",
       "<g style=\"fill:rgb(0%,0%,0%);fill-opacity:1;\">\n",
       "  <use xlink:href=\"#glyph-2024-10-2013981.261682774s0-2\" x=\"112.722656\" y=\"286.996094\"/>\n",
       "  <use xlink:href=\"#glyph-2024-10-2013981.261682774s0-3\" x=\"118.723633\" y=\"286.996094\"/>\n",
       "  <use xlink:href=\"#glyph-2024-10-2013981.261682774s0-1\" x=\"124.724609\" y=\"286.996094\"/>\n",
       "  <use xlink:href=\"#glyph-2024-10-2013981.261682774s0-1\" x=\"130.725586\" y=\"286.996094\"/>\n",
       "</g>\n",
       "<g style=\"fill:rgb(0%,0%,0%);fill-opacity:1;\">\n",
       "  <use xlink:href=\"#glyph-2024-10-2013981.261682774s0-3\" x=\"188.085938\" y=\"286.996094\"/>\n",
       "  <use xlink:href=\"#glyph-2024-10-2013981.261682774s0-1\" x=\"194.086914\" y=\"286.996094\"/>\n",
       "  <use xlink:href=\"#glyph-2024-10-2013981.261682774s0-1\" x=\"200.087891\" y=\"286.996094\"/>\n",
       "  <use xlink:href=\"#glyph-2024-10-2013981.261682774s0-1\" x=\"206.088867\" y=\"286.996094\"/>\n",
       "</g>\n",
       "<g style=\"fill:rgb(0%,0%,0%);fill-opacity:1;\">\n",
       "  <use xlink:href=\"#glyph-2024-10-2013981.261682774s0-4\" x=\"263.558594\" y=\"286.996094\"/>\n",
       "  <use xlink:href=\"#glyph-2024-10-2013981.261682774s0-3\" x=\"269.55957\" y=\"286.996094\"/>\n",
       "  <use xlink:href=\"#glyph-2024-10-2013981.261682774s0-1\" x=\"275.560547\" y=\"286.996094\"/>\n",
       "  <use xlink:href=\"#glyph-2024-10-2013981.261682774s0-1\" x=\"281.561523\" y=\"286.996094\"/>\n",
       "</g>\n",
       "<g style=\"fill:rgb(0%,0%,0%);fill-opacity:1;\">\n",
       "  <use xlink:href=\"#glyph-2024-10-2013981.261682774s0-5\" x=\"335.933594\" y=\"286.996094\"/>\n",
       "  <use xlink:href=\"#glyph-2024-10-2013981.261682774s0-1\" x=\"341.93457\" y=\"286.996094\"/>\n",
       "  <use xlink:href=\"#glyph-2024-10-2013981.261682774s0-1\" x=\"347.935547\" y=\"286.996094\"/>\n",
       "  <use xlink:href=\"#glyph-2024-10-2013981.261682774s0-1\" x=\"353.936523\" y=\"286.996094\"/>\n",
       "  <use xlink:href=\"#glyph-2024-10-2013981.261682774s0-1\" x=\"359.9375\" y=\"286.996094\"/>\n",
       "</g>\n",
       "<g style=\"fill:rgb(0%,0%,0%);fill-opacity:1;\">\n",
       "  <use xlink:href=\"#glyph-2024-10-2013981.261682774s0-5\" x=\"411.332031\" y=\"286.996094\"/>\n",
       "  <use xlink:href=\"#glyph-2024-10-2013981.261682774s0-2\" x=\"417.333008\" y=\"286.996094\"/>\n",
       "  <use xlink:href=\"#glyph-2024-10-2013981.261682774s0-3\" x=\"423.333984\" y=\"286.996094\"/>\n",
       "  <use xlink:href=\"#glyph-2024-10-2013981.261682774s0-1\" x=\"429.334961\" y=\"286.996094\"/>\n",
       "  <use xlink:href=\"#glyph-2024-10-2013981.261682774s0-1\" x=\"435.335938\" y=\"286.996094\"/>\n",
       "</g>\n",
       "</g>\n",
       "</svg>\n"
      ]
     },
     "metadata": {},
     "output_type": "display_data"
    }
   ],
   "source": [
    "import Data.Function (fix)\n",
    "\n",
    "import Graphics.Rendering.Chart.Easy\n",
    "import Numeric.AD\n",
    "import System.Random (randomIO)\n",
    "\n",
    "\n",
    "(resultState, losses) <- do\n",
    "  -- 初期状態をランダムに作成\n",
    "  initialState <- toZ2 . chunksOf 200 . map (\\b -> if b then 1 else -1) <$> sequence (replicate (200 * 200) randomIO)\n",
    "  let -- ターゲットとなる画像を Z2 Float に変換\n",
    "      target = (\\b -> if b then 1 else 0) <$> targetState\n",
    "      -- 定義域を [0, 1] から実数全体にするためシグモイド関数で変換する\n",
    "      sigmoid x = 1 / (1 + exp (-x))\n",
    "      -- 誤差関数\n",
    "      loss state = sum . fmap (^2) $ zipZ2With (-) target (extend lifeD (fmap sigmoid state))\n",
    "      -- エポック数\n",
    "      epoch = 12000\n",
    "  -- 初期値の誤差を表示する\n",
    "  putStrLn $ concat [\"initial, loss = \", show (loss target)]\n",
    "  -- 勾配降下法で最適化を行う\n",
    "  flip fix (initialState, epoch, []) $ \\loop (state, n, losses) -> do\n",
    "    if n == 0\n",
    "      -- n が 0 になったら結果を整形して終了\n",
    "      then pure (fmap sigmoid state, reverse losses)\n",
    "      else do\n",
    "        let -- 勾配降下法\n",
    "            state' = zipZ2With (-) state (fmap (0.1*) (grad loss state))\n",
    "            -- 誤差の評価\n",
    "            !l = loss state'\n",
    "        -- 定期的に進捗をログに出力する\n",
    "        if mod n 1000 == 0\n",
    "          then putStrLn $ concat [\"n = \", show (epoch - n), \", loss = \", show l]\n",
    "          else pure ()\n",
    "        -- 状態を更新してループする\n",
    "        loop (state', n-1, l:losses)\n",
    "\n",
    "toRenderable $ plot (line \"\" [zip [0..] losses])"
   ]
  },
  {
   "cell_type": "markdown",
   "id": "374af416-079c-47dd-bff4-5dfb57cc87a7",
   "metadata": {},
   "source": [
    "グラフから誤差を小さくできていることが分かりますね👏 ループの部分は[`flip fix` を使って](https://qiita.com/lotz/items/0894079a44e87dc8b73e)雑に書いていますが適切なfold系の関数を使って実装することも可能でしょう。\n",
    "\n",
    "得られた結果がどうなっているか確認しましょう。"
   ]
  },
  {
   "cell_type": "code",
   "execution_count": 19,
   "id": "3d1a802d-d0fb-45f2-9886-9f22843c0406",
   "metadata": {},
   "outputs": [
    {
     "data": {
      "image/png": "[encoded data removed]"
     },
     "metadata": {},
     "output_type": "display_data"
    }
   ],
   "source": [
    "stateToImage $ fmap (> 0.5) resultState"
   ]
  },
  {
   "cell_type": "markdown",
   "id": "78c594d0-46fd-4f15-8eb2-70fc48fa1eaf",
   "metadata": {},
   "source": [
    "既にかなり面影があります😅 これをライフゲームとして1ステップ状態発展させてみましょう。"
   ]
  },
  {
   "cell_type": "code",
   "execution_count": 20,
   "id": "e5388f44-0acf-4c43-a334-3d8c1da65397",
   "metadata": {},
   "outputs": [
    {
     "data": {
      "image/png": "[encoded data removed]"
     },
     "metadata": {},
     "output_type": "display_data"
    }
   ],
   "source": [
    "stateToImage $ extend life $ fmap (> 0.5) resultState"
   ]
  },
  {
   "cell_type": "markdown",
   "id": "51b4c239-22a1-4764-b0e1-16f059ddfffd",
   "metadata": {},
   "source": [
    "見事目標としていた画像に近いパターンが得られています。\n",
    "\n",
    "ライフゲームのルール上黒いベタ塗りなどは表現しにくいのですが、[元記事](https://hardmath123.github.io/conways-gradient.html)でも指摘されているように1つ前の状態としてチューリング・パターンのような模様が現れているのは不思議ですよね👀"
   ]
  },
  {
   "cell_type": "code",
   "execution_count": null,
   "id": "8069dbc6-8f64-4bf1-91f9-22f14524cfd9",
   "metadata": {},
   "outputs": [],
   "source": []
  }
 ],
 "metadata": {
  "kernelspec": {
   "display_name": "Haskell",
   "language": "haskell",
   "name": "haskell"
  },
  "language_info": {
   "codemirror_mode": "ihaskell",
   "file_extension": ".hs",
   "mimetype": "text/x-haskell",
   "name": "haskell",
   "pygments_lexer": "Haskell",
   "version": "9.4.5"
  }
 },
 "nbformat": 4,
 "nbformat_minor": 5
}
